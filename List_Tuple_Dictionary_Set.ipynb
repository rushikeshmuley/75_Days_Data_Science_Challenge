{
  "cells": [
    {
      "cell_type": "markdown",
      "id": "21e8f098",
      "metadata": {
        "id": "21e8f098"
      },
      "source": [
        "# list"
      ]
    },
    {
      "cell_type": "code",
      "execution_count": 1,
      "id": "696a2ab6",
      "metadata": {
        "id": "696a2ab6"
      },
      "outputs": [],
      "source": [
        "# anything that can be written inside a sqaure bracket and elements are sep by commas"
      ]
    },
    {
      "cell_type": "code",
      "execution_count": 2,
      "id": "6e7b2a56",
      "metadata": {
        "id": "6e7b2a56",
        "outputId": "bf34a677-1543-4d62-c2dd-b2f6654e9a1f",
        "colab": {
          "base_uri": "https://localhost:8080/"
        }
      },
      "outputs": [
        {
          "output_type": "stream",
          "name": "stdout",
          "text": [
            "<class 'list'>\n",
            "[1, 2, 3, 4, 5, 6, 7]\n"
          ]
        }
      ],
      "source": [
        "my_list = [1,2,3,4,5,6,7]\n",
        "print(type(my_list))\n",
        "print(my_list)"
      ]
    },
    {
      "cell_type": "markdown",
      "id": "6427459e",
      "metadata": {
        "id": "6427459e"
      },
      "source": [
        "# Creation of list"
      ]
    },
    {
      "cell_type": "code",
      "execution_count": 3,
      "id": "d168ee6e",
      "metadata": {
        "id": "d168ee6e",
        "outputId": "17a72349-2cdb-41a4-9931-0b0279286a53",
        "colab": {
          "base_uri": "https://localhost:8080/"
        }
      },
      "outputs": [
        {
          "output_type": "stream",
          "name": "stdout",
          "text": [
            "['apple', 'mango', 'orange']\n"
          ]
        }
      ],
      "source": [
        "# 1. you already know the element\n",
        "\n",
        "fruits = ['apple','mango','orange']\n",
        "print(fruits)"
      ]
    },
    {
      "cell_type": "code",
      "execution_count": 7,
      "id": "4c025440",
      "metadata": {
        "id": "4c025440",
        "outputId": "65a72e67-f450-4d72-b6bf-a17531af58b0",
        "colab": {
          "base_uri": "https://localhost:8080/"
        }
      },
      "outputs": [
        {
          "output_type": "stream",
          "name": "stdout",
          "text": [
            "enter the list[1,2,3,4,5]\n",
            "<class 'list'> [1, 2, 3, 4, 5]\n"
          ]
        }
      ],
      "source": [
        "# 2. taking the user input with eval\n",
        "\n",
        "data = eval(input('enter the list'))\n",
        "print(type(data),data)"
      ]
    },
    {
      "cell_type": "code",
      "execution_count": 9,
      "id": "2b74fa75",
      "metadata": {
        "id": "2b74fa75"
      },
      "outputs": [],
      "source": [
        "# 3. type casting\n",
        "# Note:- you can only convert iterable object to a list"
      ]
    },
    {
      "cell_type": "code",
      "execution_count": null,
      "id": "82b1d1e2",
      "metadata": {
        "id": "82b1d1e2"
      },
      "outputs": [],
      "source": [
        "# rules to find out if object is iterable or not\n",
        "\n",
        "1. len function should work on that\n",
        "or\n",
        "2. dir(object) should have a __iter__ method in it"
      ]
    },
    {
      "cell_type": "code",
      "execution_count": 10,
      "id": "b1f304e9",
      "metadata": {
        "collapsed": true,
        "id": "b1f304e9",
        "outputId": "ce2825e6-abc7-4e44-c4e8-4f8b96033ec2",
        "colab": {
          "base_uri": "https://localhost:8080/"
        }
      },
      "outputs": [
        {
          "output_type": "stream",
          "name": "stdout",
          "text": [
            "['__abs__', '__add__', '__bool__', '__ceil__', '__class__', '__delattr__', '__dir__', '__divmod__', '__doc__', '__eq__', '__float__', '__floor__', '__floordiv__', '__format__', '__ge__', '__getattribute__', '__getformat__', '__getnewargs__', '__gt__', '__hash__', '__init__', '__init_subclass__', '__int__', '__le__', '__lt__', '__mod__', '__mul__', '__ne__', '__neg__', '__new__', '__pos__', '__pow__', '__radd__', '__rdivmod__', '__reduce__', '__reduce_ex__', '__repr__', '__rfloordiv__', '__rmod__', '__rmul__', '__round__', '__rpow__', '__rsub__', '__rtruediv__', '__setattr__', '__setformat__', '__sizeof__', '__str__', '__sub__', '__subclasshook__', '__truediv__', '__trunc__', 'as_integer_ratio', 'conjugate', 'fromhex', 'hex', 'imag', 'is_integer', 'real']\n",
            "5\n",
            "['__add__', '__class__', '__contains__', '__delattr__', '__dir__', '__doc__', '__eq__', '__format__', '__ge__', '__getattribute__', '__getitem__', '__getnewargs__', '__gt__', '__hash__', '__init__', '__init_subclass__', '__iter__', '__le__', '__len__', '__lt__', '__mod__', '__mul__', '__ne__', '__new__', '__reduce__', '__reduce_ex__', '__repr__', '__rmod__', '__rmul__', '__setattr__', '__sizeof__', '__str__', '__subclasshook__', 'capitalize', 'casefold', 'center', 'count', 'encode', 'endswith', 'expandtabs', 'find', 'format', 'format_map', 'index', 'isalnum', 'isalpha', 'isascii', 'isdecimal', 'isdigit', 'isidentifier', 'islower', 'isnumeric', 'isprintable', 'isspace', 'istitle', 'isupper', 'join', 'ljust', 'lower', 'lstrip', 'maketrans', 'partition', 'removeprefix', 'removesuffix', 'replace', 'rfind', 'rindex', 'rjust', 'rpartition', 'rsplit', 'rstrip', 'split', 'splitlines', 'startswith', 'strip', 'swapcase', 'title', 'translate', 'upper', 'zfill']\n"
          ]
        }
      ],
      "source": [
        "a = 10\n",
        "# print(len(a)) # non iterable\n",
        "\n",
        "b = 10.2\n",
        "print(dir(b)) # non iterable\n",
        "\n",
        "c = 'afsan'\n",
        "print(len(c)) # iterable\n",
        "print(dir(c))"
      ]
    },
    {
      "cell_type": "code",
      "execution_count": 11,
      "id": "e1c71447",
      "metadata": {
        "id": "e1c71447",
        "outputId": "2bf50fb8-bb48-4666-b6bb-cf7e3f573fe5",
        "colab": {
          "base_uri": "https://localhost:8080/"
        }
      },
      "outputs": [
        {
          "output_type": "execute_result",
          "data": {
            "text/plain": [
              "['d', 'a', 't', 'a']"
            ]
          },
          "metadata": {},
          "execution_count": 11
        }
      ],
      "source": [
        "a = 10\n",
        "b = 100.2\n",
        "c = 'data'\n",
        "\n",
        "list(c)"
      ]
    },
    {
      "cell_type": "code",
      "execution_count": 12,
      "id": "0ca6f9cc",
      "metadata": {
        "id": "0ca6f9cc",
        "outputId": "8d322b9d-ae19-4762-db27-0e768dadca90",
        "colab": {
          "base_uri": "https://localhost:8080/"
        }
      },
      "outputs": [
        {
          "output_type": "execute_result",
          "data": {
            "text/plain": [
              "['learnbay', 'insititute']"
            ]
          },
          "metadata": {},
          "execution_count": 12
        }
      ],
      "source": [
        "#4. split()\n",
        "\n",
        "a = 'learnbay insititute'\n",
        "a.split()"
      ]
    },
    {
      "cell_type": "code",
      "execution_count": 13,
      "id": "2f1f1232",
      "metadata": {
        "id": "2f1f1232",
        "outputId": "9f6d10c3-c808-40ba-d69b-1b8731c49144",
        "colab": {
          "base_uri": "https://localhost:8080/"
        }
      },
      "outputs": [
        {
          "output_type": "stream",
          "name": "stdout",
          "text": [
            "['l', 'e', 'a', 'r', 'n', 'b', 'a', 'y', ' ', 'i', 'n', 's', 'i', 't', 'i', 't', 'u', 't', 'e']\n"
          ]
        }
      ],
      "source": [
        "print(list(a))"
      ]
    },
    {
      "cell_type": "code",
      "execution_count": 14,
      "id": "25a0e510",
      "metadata": {
        "id": "25a0e510"
      },
      "outputs": [],
      "source": [
        "# # properties of list\n",
        "\n",
        "# 1. seq data type\n",
        "# 2. +ve and -ve indexing will be supported\n",
        "# 3. operations - indexing, slicing, concatination, repetition, memebership , indentity\n",
        "# 4. allows duplicate elememt\n",
        "# 5. it can contain any element of any data type\n",
        "# 6. it is mutable"
      ]
    },
    {
      "cell_type": "code",
      "execution_count": 15,
      "id": "3998e2e1",
      "metadata": {
        "id": "3998e2e1",
        "outputId": "e2914755-a29e-4f67-b576-3698de3d255f",
        "colab": {
          "base_uri": "https://localhost:8080/"
        }
      },
      "outputs": [
        {
          "output_type": "execute_result",
          "data": {
            "text/plain": [
              "3"
            ]
          },
          "metadata": {},
          "execution_count": 15
        }
      ],
      "source": [
        "# 1. seq data type\n",
        "# 2. +ve and -ve indexing will be supported\n",
        "\n",
        "a = [1,2,3,4,5]\n",
        "a[2]"
      ]
    },
    {
      "cell_type": "code",
      "execution_count": 16,
      "id": "9988639a",
      "metadata": {
        "id": "9988639a",
        "outputId": "2d34346d-6340-47fd-b8b5-817479beb1e1",
        "colab": {
          "base_uri": "https://localhost:8080/"
        }
      },
      "outputs": [
        {
          "output_type": "execute_result",
          "data": {
            "text/plain": [
              "5"
            ]
          },
          "metadata": {},
          "execution_count": 16
        }
      ],
      "source": [
        "a[-1]"
      ]
    },
    {
      "cell_type": "code",
      "execution_count": 17,
      "id": "b02f37aa",
      "metadata": {
        "id": "b02f37aa",
        "outputId": "80ed8c9f-a34d-476c-a3cd-fab98e929015",
        "colab": {
          "base_uri": "https://localhost:8080/"
        }
      },
      "outputs": [
        {
          "output_type": "execute_result",
          "data": {
            "text/plain": [
              "1"
            ]
          },
          "metadata": {},
          "execution_count": 17
        }
      ],
      "source": [
        "a[-5]"
      ]
    },
    {
      "cell_type": "code",
      "execution_count": 18,
      "id": "7c859fc4",
      "metadata": {
        "id": "7c859fc4",
        "outputId": "a79cad4f-4a79-4789-e73c-be876fd0d14a",
        "colab": {
          "base_uri": "https://localhost:8080/"
        }
      },
      "outputs": [
        {
          "output_type": "stream",
          "name": "stdout",
          "text": [
            "[1, 1, 1, 1, 1, 2, 3, 4, 5, 6, 7, 7, 7, 7, 7]\n"
          ]
        }
      ],
      "source": [
        "# allows duplicate elememt\n",
        "\n",
        "data = [1,1,1,1,1,2,3,4,5,6,7,7,7,7,7]\n",
        "print(data)"
      ]
    },
    {
      "cell_type": "code",
      "execution_count": 19,
      "id": "eda8fc09",
      "metadata": {
        "id": "eda8fc09",
        "outputId": "3fb158b0-3ea7-431a-c545-649c714d0948",
        "colab": {
          "base_uri": "https://localhost:8080/"
        }
      },
      "outputs": [
        {
          "output_type": "stream",
          "name": "stdout",
          "text": [
            "[1, 'string', 11.2, None, True, [1, 2, 3], (50+7j)]\n"
          ]
        }
      ],
      "source": [
        "# it can contain any element of any data type\n",
        "\n",
        "data = [1,'string',11.2,None,True,[1,2,3],50+7j]\n",
        "print(data)"
      ]
    },
    {
      "cell_type": "markdown",
      "id": "9125d2b4",
      "metadata": {
        "id": "9125d2b4"
      },
      "source": [
        "# operations"
      ]
    },
    {
      "cell_type": "code",
      "execution_count": 20,
      "id": "38537887",
      "metadata": {
        "id": "38537887",
        "outputId": "72a2ecf0-e12f-42d4-f80a-8b8b1b180b89",
        "colab": {
          "base_uri": "https://localhost:8080/"
        }
      },
      "outputs": [
        {
          "output_type": "stream",
          "name": "stdout",
          "text": [
            "[1, 2, 3, 4, 100, 200, 300, 400]\n"
          ]
        }
      ],
      "source": [
        "# 1. concatination\n",
        "\"\"\"\n",
        "op - +\n",
        "operants - both should be list\n",
        "\"\"\"\n",
        "\n",
        "a = [1,2,3,4]\n",
        "b = [100,200,300,400]\n",
        "print(a+b)"
      ]
    },
    {
      "cell_type": "code",
      "execution_count": 21,
      "id": "90f7736f",
      "metadata": {
        "id": "90f7736f",
        "outputId": "ab40609c-4814-4582-8d48-86f9304fcc8b",
        "colab": {
          "base_uri": "https://localhost:8080/"
        }
      },
      "outputs": [
        {
          "output_type": "stream",
          "name": "stdout",
          "text": [
            "[100, 200, 300, 100, 200, 300, 100, 200, 300, 100, 200, 300, 100, 200, 300]\n"
          ]
        }
      ],
      "source": [
        "#2. repetition\n",
        "\"\"\"\n",
        "op- *\n",
        "operands - on should be a list and other should be a int\n",
        "\"\"\"\n",
        "\n",
        "a = [100,200,300]\n",
        "b = 5\n",
        "print(a*b)"
      ]
    },
    {
      "cell_type": "code",
      "execution_count": 22,
      "id": "3ea8d3b9",
      "metadata": {
        "id": "3ea8d3b9",
        "outputId": "e3940a58-748b-4400-9d20-220f267e99b2",
        "colab": {
          "base_uri": "https://localhost:8080/"
        }
      },
      "outputs": [
        {
          "output_type": "stream",
          "name": "stdout",
          "text": [
            "afsan\n",
            "mousami\n"
          ]
        }
      ],
      "source": [
        "# indexing\n",
        "\n",
        "a = ['vikcy','viknesh','arpana','mousami','afsan']\n",
        "print(a[-1])\n",
        "print(a[3])"
      ]
    },
    {
      "cell_type": "code",
      "execution_count": 23,
      "id": "546e840c",
      "metadata": {
        "id": "546e840c",
        "outputId": "72ac3e17-314c-4e8d-f393-cfc02c20fe45",
        "colab": {
          "base_uri": "https://localhost:8080/"
        }
      },
      "outputs": [
        {
          "output_type": "stream",
          "name": "stdout",
          "text": [
            "['viknesh', 'arpana', 'mousami']\n"
          ]
        }
      ],
      "source": [
        "# slicing\n",
        "a = ['vikcy','viknesh','arpana','mousami','afsan']\n",
        "print(a[-4:-1:1])"
      ]
    },
    {
      "cell_type": "code",
      "execution_count": 24,
      "id": "eec47bd3",
      "metadata": {
        "id": "eec47bd3",
        "outputId": "c0ddadcc-f6fc-45fa-eb2c-0410a79293dd",
        "colab": {
          "base_uri": "https://localhost:8080/"
        }
      },
      "outputs": [
        {
          "output_type": "stream",
          "name": "stdout",
          "text": [
            "['afsan', 'mousami', 'arpana', 'viknesh', 'vikcy']\n"
          ]
        }
      ],
      "source": [
        "print(a[-1::-1])"
      ]
    },
    {
      "cell_type": "code",
      "execution_count": 25,
      "id": "15b0190b",
      "metadata": {
        "id": "15b0190b",
        "outputId": "fa2fbc8f-9288-407c-826c-9c4be2df4113",
        "colab": {
          "base_uri": "https://localhost:8080/"
        }
      },
      "outputs": [
        {
          "output_type": "stream",
          "name": "stdout",
          "text": [
            "[]\n"
          ]
        }
      ],
      "source": [
        "print(a[1:100:-1])"
      ]
    },
    {
      "cell_type": "code",
      "execution_count": 26,
      "id": "0315820d",
      "metadata": {
        "id": "0315820d",
        "outputId": "2fa08d93-cc78-46d1-8bad-2c6f6222161c",
        "colab": {
          "base_uri": "https://localhost:8080/"
        }
      },
      "outputs": [
        {
          "output_type": "stream",
          "name": "stdout",
          "text": [
            "False\n"
          ]
        }
      ],
      "source": [
        "# memebership\n",
        "\n",
        "# it tells of the element is present in a list or not\n",
        "a = ['vikcy','viknesh','arpana','mousami','afsan']\n",
        "print('Viknesh' in a)"
      ]
    },
    {
      "cell_type": "code",
      "execution_count": null,
      "id": "548f19c6",
      "metadata": {
        "id": "548f19c6",
        "outputId": "3dd99ec3-be4d-4ad5-f28a-5fd0c5a3ca76"
      },
      "outputs": [
        {
          "name": "stdout",
          "output_type": "stream",
          "text": [
            "True\n"
          ]
        }
      ],
      "source": [
        "print('mousami' in a)"
      ]
    },
    {
      "cell_type": "code",
      "execution_count": 27,
      "id": "2dc66bea",
      "metadata": {
        "id": "2dc66bea",
        "outputId": "18d2b107-ea87-492f-8fb2-4614b1da68f7",
        "colab": {
          "base_uri": "https://localhost:8080/"
        }
      },
      "outputs": [
        {
          "output_type": "stream",
          "name": "stdout",
          "text": [
            "False\n"
          ]
        }
      ],
      "source": [
        "# indentity\n",
        "\"\"\"\n",
        "return - Bool\n",
        "op - is and is not\n",
        "\n",
        "\"\"\"\n",
        "\n",
        "a = [1,2,3,4,5]\n",
        "b = [1,2,3,4,5]\n",
        "\n",
        "print(a is b)"
      ]
    },
    {
      "cell_type": "code",
      "execution_count": 28,
      "id": "441ded06",
      "metadata": {
        "id": "441ded06",
        "outputId": "ef4a135b-fa5f-4a9a-906e-d407b128607d",
        "colab": {
          "base_uri": "https://localhost:8080/"
        }
      },
      "outputs": [
        {
          "output_type": "stream",
          "name": "stdout",
          "text": [
            "132155478155392\n",
            "132155478155392\n"
          ]
        }
      ],
      "source": [
        "# mutable\n",
        "\n",
        "a = [100,200,300,400]\n",
        "print(id(a))\n",
        "a[0] = 'afsan'\n",
        "print(id(a))"
      ]
    },
    {
      "cell_type": "code",
      "execution_count": 29,
      "id": "63339964",
      "metadata": {
        "id": "63339964",
        "outputId": "5121bc1d-2657-4362-ab12-76f58a1dbd6e",
        "colab": {
          "base_uri": "https://localhost:8080/"
        }
      },
      "outputs": [
        {
          "output_type": "execute_result",
          "data": {
            "text/plain": [
              "['afsan', 200, 300, 400]"
            ]
          },
          "metadata": {},
          "execution_count": 29
        }
      ],
      "source": [
        "a"
      ]
    },
    {
      "cell_type": "code",
      "execution_count": 30,
      "id": "2a0787bb",
      "metadata": {
        "id": "2a0787bb",
        "outputId": "abc59f02-4692-41b9-cfea-eb45fafe800f",
        "colab": {
          "base_uri": "https://localhost:8080/",
          "height": 193
        }
      },
      "outputs": [
        {
          "output_type": "error",
          "ename": "TypeError",
          "evalue": "ignored",
          "traceback": [
            "\u001b[0;31m---------------------------------------------------------------------------\u001b[0m",
            "\u001b[0;31mTypeError\u001b[0m                                 Traceback (most recent call last)",
            "\u001b[0;32m<ipython-input-30-02d7a9bf77b6>\u001b[0m in \u001b[0;36m<cell line: 2>\u001b[0;34m()\u001b[0m\n\u001b[1;32m      1\u001b[0m \u001b[0ma\u001b[0m \u001b[0;34m=\u001b[0m \u001b[0;34m'afsan'\u001b[0m\u001b[0;34m\u001b[0m\u001b[0;34m\u001b[0m\u001b[0m\n\u001b[0;32m----> 2\u001b[0;31m \u001b[0ma\u001b[0m\u001b[0;34m[\u001b[0m\u001b[0;36m0\u001b[0m\u001b[0;34m]\u001b[0m \u001b[0;34m=\u001b[0m \u001b[0;34m'p'\u001b[0m\u001b[0;34m\u001b[0m\u001b[0;34m\u001b[0m\u001b[0m\n\u001b[0m",
            "\u001b[0;31mTypeError\u001b[0m: 'str' object does not support item assignment"
          ]
        }
      ],
      "source": [
        "a = 'afsan'\n",
        "a[0] = 'p'"
      ]
    },
    {
      "cell_type": "code",
      "execution_count": 33,
      "id": "66ef8732",
      "metadata": {
        "id": "66ef8732"
      },
      "outputs": [],
      "source": [
        "# nested lists - list inside a list\n",
        "\n",
        "# data = [1,2,3,[1,2,3]] --> nested"
      ]
    },
    {
      "cell_type": "code",
      "execution_count": 32,
      "id": "26e7e3d2",
      "metadata": {
        "id": "26e7e3d2",
        "outputId": "901ca722-de9a-4d96-c5f4-09dc15fea41c",
        "colab": {
          "base_uri": "https://localhost:8080/"
        }
      },
      "outputs": [
        {
          "output_type": "execute_result",
          "data": {
            "text/plain": [
              "1"
            ]
          },
          "metadata": {},
          "execution_count": 32
        }
      ],
      "source": [
        "data = [1,2,3,[1,2,3]]\n",
        "data[-1][0]"
      ]
    },
    {
      "cell_type": "code",
      "execution_count": 34,
      "id": "87b083a2",
      "metadata": {
        "id": "87b083a2",
        "outputId": "fbae188d-90de-496d-faa4-ad3a4d2ae017",
        "colab": {
          "base_uri": "https://localhost:8080/"
        }
      },
      "outputs": [
        {
          "output_type": "stream",
          "name": "stdout",
          "text": [
            "afsan\n"
          ]
        }
      ],
      "source": [
        "a = ['vikcy','viknesh','arpana',['mousami','afsan']]\n",
        "print(a[3][-1])"
      ]
    },
    {
      "cell_type": "code",
      "execution_count": 35,
      "id": "9957fb06",
      "metadata": {
        "id": "9957fb06",
        "outputId": "4adf947e-c85e-4ea8-d78f-b58cd57de662",
        "colab": {
          "base_uri": "https://localhost:8080/",
          "height": 35
        }
      },
      "outputs": [
        {
          "output_type": "execute_result",
          "data": {
            "text/plain": [
              "'a'"
            ],
            "application/vnd.google.colaboratory.intrinsic+json": {
              "type": "string"
            }
          },
          "metadata": {},
          "execution_count": 35
        }
      ],
      "source": [
        "data = [[1,2,3,4] , 5,6,7,8,[8,[9,10,['a','b']]]]\n",
        "data[-1][-1][-1][0]"
      ]
    },
    {
      "cell_type": "code",
      "execution_count": 36,
      "id": "f3bdadef",
      "metadata": {
        "id": "f3bdadef",
        "outputId": "55736b93-c27b-4d17-deb2-f0e4cddf02e5",
        "colab": {
          "base_uri": "https://localhost:8080/",
          "height": 35
        }
      },
      "outputs": [
        {
          "output_type": "execute_result",
          "data": {
            "text/plain": [
              "'a'"
            ],
            "application/vnd.google.colaboratory.intrinsic+json": {
              "type": "string"
            }
          },
          "metadata": {},
          "execution_count": 36
        }
      ],
      "source": [
        "data[5][1][2][0]"
      ]
    },
    {
      "cell_type": "code",
      "execution_count": 37,
      "id": "a6cb0118",
      "metadata": {
        "id": "a6cb0118",
        "outputId": "f9f86516-05dd-4aa4-983c-338ae56e0301",
        "colab": {
          "base_uri": "https://localhost:8080/"
        }
      },
      "outputs": [
        {
          "output_type": "execute_result",
          "data": {
            "text/plain": [
              "[[1, 2, 3, 4],\n",
              " [5, 6, 7, ['afsan', 'learnbay', ['lionel messi', 'ronaldo']]],\n",
              " 8,\n",
              " [8, [9, 10, ['a', 'b']]]]"
            ]
          },
          "metadata": {},
          "execution_count": 37
        }
      ],
      "source": [
        "data = [[1,2,3,4] , [5,6,7,['afsan','learnbay',['lionel messi', 'ronaldo']]],8,[8,[9,10,['a','b']]]]\n",
        "data"
      ]
    },
    {
      "cell_type": "code",
      "execution_count": 38,
      "id": "2e68f8b9",
      "metadata": {
        "id": "2e68f8b9",
        "outputId": "a7f4e9f7-a0e2-435a-9dde-5c50dcd0274b",
        "colab": {
          "base_uri": "https://localhost:8080/",
          "height": 35
        }
      },
      "outputs": [
        {
          "output_type": "execute_result",
          "data": {
            "text/plain": [
              "'messi'"
            ],
            "application/vnd.google.colaboratory.intrinsic+json": {
              "type": "string"
            }
          },
          "metadata": {},
          "execution_count": 38
        }
      ],
      "source": [
        "# messi\n",
        "data[1][-1][-1][0][-5::]"
      ]
    },
    {
      "cell_type": "code",
      "execution_count": 39,
      "id": "9d53c898",
      "metadata": {
        "id": "9d53c898",
        "outputId": "688fd77c-eae8-431f-a174-b359deb6a7a5",
        "colab": {
          "base_uri": "https://localhost:8080/",
          "height": 35
        }
      },
      "outputs": [
        {
          "output_type": "execute_result",
          "data": {
            "text/plain": [
              "'messi'"
            ],
            "application/vnd.google.colaboratory.intrinsic+json": {
              "type": "string"
            }
          },
          "metadata": {},
          "execution_count": 39
        }
      ],
      "source": [
        "a = 'lionel messi'\n",
        "a[-5::1]"
      ]
    },
    {
      "cell_type": "code",
      "execution_count": 40,
      "id": "248417da",
      "metadata": {
        "id": "248417da",
        "outputId": "1dfc4592-43a0-4fef-f39e-16c93824f03d",
        "colab": {
          "base_uri": "https://localhost:8080/",
          "height": 35
        }
      },
      "outputs": [
        {
          "output_type": "execute_result",
          "data": {
            "text/plain": [
              "'messi'"
            ],
            "application/vnd.google.colaboratory.intrinsic+json": {
              "type": "string"
            }
          },
          "metadata": {},
          "execution_count": 40
        }
      ],
      "source": [
        "a = 'messi'\n",
        "a"
      ]
    },
    {
      "cell_type": "code",
      "execution_count": 41,
      "id": "5292f5fd",
      "metadata": {
        "id": "5292f5fd",
        "outputId": "1cc5a18b-05ee-4b58-80b4-177b07dea269",
        "colab": {
          "base_uri": "https://localhost:8080/"
        }
      },
      "outputs": [
        {
          "output_type": "stream",
          "name": "stdout",
          "text": [
            "messi\n"
          ]
        }
      ],
      "source": [
        "print(a)"
      ]
    },
    {
      "cell_type": "code",
      "execution_count": 42,
      "id": "db60086e",
      "metadata": {
        "id": "db60086e",
        "outputId": "54335bc1-25a2-4f83-fc06-4993543b4592",
        "colab": {
          "base_uri": "https://localhost:8080/"
        }
      },
      "outputs": [
        {
          "output_type": "stream",
          "name": "stdout",
          "text": [
            "['__add__', '__class__', '__class_getitem__', '__contains__', '__delattr__', '__delitem__', '__dir__', '__doc__', '__eq__', '__format__', '__ge__', '__getattribute__', '__getitem__', '__gt__', '__hash__', '__iadd__', '__imul__', '__init__', '__init_subclass__', '__iter__', '__le__', '__len__', '__lt__', '__mul__', '__ne__', '__new__', '__reduce__', '__reduce_ex__', '__repr__', '__reversed__', '__rmul__', '__setattr__', '__setitem__', '__sizeof__', '__str__', '__subclasshook__', 'append', 'clear', 'copy', 'count', 'extend', 'index', 'insert', 'pop', 'remove', 'reverse', 'sort']\n"
          ]
        }
      ],
      "source": [
        "# advance list\n",
        "print(dir(list))"
      ]
    },
    {
      "cell_type": "code",
      "execution_count": 44,
      "id": "f3e6fc19",
      "metadata": {
        "id": "f3e6fc19"
      },
      "outputs": [],
      "source": [
        "# # methods to inserrt element in the list\n",
        "\n",
        "# 1. append\n",
        "# 2. extend\n",
        "# 3. insert"
      ]
    },
    {
      "cell_type": "code",
      "execution_count": 45,
      "id": "e7bb5cb0",
      "metadata": {
        "id": "e7bb5cb0",
        "outputId": "a2b70dac-fdac-4a3a-b4c5-e283c900d483",
        "colab": {
          "base_uri": "https://localhost:8080/"
        }
      },
      "outputs": [
        {
          "output_type": "stream",
          "name": "stdout",
          "text": [
            "[100, 65, 77, 'learnay', 'afsan']\n"
          ]
        }
      ],
      "source": [
        "# append\n",
        "\"\"\"\n",
        "1. it adds the elememt at the last\n",
        "2. we can add only one element at a time\n",
        "3. we can add both iterables and non-iterables object\n",
        "\"\"\"\n",
        "\n",
        "a = [100,65,77,'learnay']\n",
        "a.append('afsan')\n",
        "print(a)"
      ]
    },
    {
      "cell_type": "code",
      "execution_count": 46,
      "id": "965f09be",
      "metadata": {
        "id": "965f09be",
        "outputId": "328fa543-4d69-4767-c324-3341adb932bf",
        "colab": {
          "base_uri": "https://localhost:8080/"
        }
      },
      "outputs": [
        {
          "output_type": "execute_result",
          "data": {
            "text/plain": [
              "[100, 65, 77, 'learnay', 'afsan']"
            ]
          },
          "metadata": {},
          "execution_count": 46
        }
      ],
      "source": [
        "a"
      ]
    },
    {
      "cell_type": "code",
      "execution_count": null,
      "id": "2debaac2",
      "metadata": {
        "id": "2debaac2",
        "outputId": "7b5af40c-140d-4df8-e78e-7295b9a13d4e"
      },
      "outputs": [
        {
          "ename": "TypeError",
          "evalue": "list.append() takes exactly one argument (2 given)",
          "output_type": "error",
          "traceback": [
            "\u001b[0;31m---------------------------------------------------------------------------\u001b[0m",
            "\u001b[0;31mTypeError\u001b[0m                                 Traceback (most recent call last)",
            "Input \u001b[0;32mIn [73]\u001b[0m, in \u001b[0;36m<cell line: 2>\u001b[0;34m()\u001b[0m\n\u001b[1;32m      1\u001b[0m a \u001b[38;5;241m=\u001b[39m [\u001b[38;5;241m100\u001b[39m,\u001b[38;5;241m65\u001b[39m,\u001b[38;5;241m77\u001b[39m,\u001b[38;5;124m'\u001b[39m\u001b[38;5;124mlearnay\u001b[39m\u001b[38;5;124m'\u001b[39m]\n\u001b[0;32m----> 2\u001b[0m \u001b[43ma\u001b[49m\u001b[38;5;241;43m.\u001b[39;49m\u001b[43mappend\u001b[49m\u001b[43m(\u001b[49m\u001b[38;5;124;43m'\u001b[39;49m\u001b[38;5;124;43mafsan\u001b[39;49m\u001b[38;5;124;43m'\u001b[39;49m\u001b[43m,\u001b[49m\u001b[38;5;124;43m'\u001b[39;49m\u001b[38;5;124;43mkhan\u001b[39;49m\u001b[38;5;124;43m'\u001b[39;49m\u001b[43m)\u001b[49m\n\u001b[1;32m      3\u001b[0m \u001b[38;5;28mprint\u001b[39m(a)\n",
            "\u001b[0;31mTypeError\u001b[0m: list.append() takes exactly one argument (2 given)"
          ]
        }
      ],
      "source": [
        "a = [100,65,77,'learnay']\n",
        "a.append('afsan','khan')\n",
        "print(a)"
      ]
    },
    {
      "cell_type": "code",
      "execution_count": 47,
      "id": "1c2707fb",
      "metadata": {
        "id": "1c2707fb",
        "outputId": "c6f712a6-6e1e-49db-cc4c-3d99f9c80043",
        "colab": {
          "base_uri": "https://localhost:8080/"
        }
      },
      "outputs": [
        {
          "output_type": "stream",
          "name": "stdout",
          "text": [
            "[100, 65, 77, 'learnay', [100, 200, 300]]\n"
          ]
        }
      ],
      "source": [
        "a = [100,65,77,'learnay']\n",
        "a.append([100,200,300])\n",
        "print(a)"
      ]
    },
    {
      "cell_type": "code",
      "execution_count": 48,
      "id": "974366b7",
      "metadata": {
        "id": "974366b7",
        "colab": {
          "base_uri": "https://localhost:8080/",
          "height": 53
        },
        "outputId": "68f0e98d-7d75-4b8f-d85a-1e9960e60e4e"
      },
      "outputs": [
        {
          "output_type": "execute_result",
          "data": {
            "text/plain": [
              "'\\nit is similar to concatination but in extent we are hchaing the original object but in concatination we are\\ngetting the new object\\n\\n- you can use only iterable objects\\n'"
            ],
            "application/vnd.google.colaboratory.intrinsic+json": {
              "type": "string"
            }
          },
          "metadata": {},
          "execution_count": 48
        }
      ],
      "source": [
        "# extend\n",
        "\"\"\"\n",
        "it is similar to concatination but in extent we are hchaing the original object but in concatination we are\n",
        "getting the new object\n",
        "\n",
        "- you can use only iterable objects\n",
        "\"\"\""
      ]
    },
    {
      "cell_type": "code",
      "execution_count": 49,
      "id": "16d644c6",
      "metadata": {
        "id": "16d644c6",
        "outputId": "d45d2574-98c0-4221-fa76-3dacb1bc70b3",
        "colab": {
          "base_uri": "https://localhost:8080/"
        }
      },
      "outputs": [
        {
          "output_type": "execute_result",
          "data": {
            "text/plain": [
              "[1, 2, 3, 4, 100, 200, 300]"
            ]
          },
          "metadata": {},
          "execution_count": 49
        }
      ],
      "source": [
        "a = [1,2,3,4]\n",
        "b = [100,200,300]\n",
        "\n",
        "a.extend(b)\n",
        "a"
      ]
    },
    {
      "cell_type": "code",
      "execution_count": 50,
      "id": "867e28a1",
      "metadata": {
        "id": "867e28a1",
        "outputId": "f4dec4a7-b44f-4473-961b-3c45ed9d5269",
        "colab": {
          "base_uri": "https://localhost:8080/"
        }
      },
      "outputs": [
        {
          "output_type": "stream",
          "name": "stdout",
          "text": [
            "[1, 2, 3, 4]\n"
          ]
        }
      ],
      "source": [
        "a = [1,2,3,4]\n",
        "b = [100,200,300]\n",
        "\n",
        "a+b\n",
        "print(a)"
      ]
    },
    {
      "cell_type": "code",
      "execution_count": 51,
      "id": "a7bf94a7",
      "metadata": {
        "id": "a7bf94a7",
        "outputId": "cb838b50-6497-4e8d-9a0b-257907b9f531",
        "colab": {
          "base_uri": "https://localhost:8080/"
        }
      },
      "outputs": [
        {
          "output_type": "execute_result",
          "data": {
            "text/plain": [
              "[1, 2, 3, 4, 'a', 'b', 'c']"
            ]
          },
          "metadata": {},
          "execution_count": 51
        }
      ],
      "source": [
        "a = [1,2,3,4]\n",
        "a.extend('abc')\n",
        "a"
      ]
    },
    {
      "cell_type": "code",
      "execution_count": 52,
      "id": "ea2e0482",
      "metadata": {
        "id": "ea2e0482",
        "outputId": "72811d69-ad7d-4368-f5b2-679362e6bc0a",
        "colab": {
          "base_uri": "https://localhost:8080/"
        }
      },
      "outputs": [
        {
          "output_type": "stream",
          "name": "stdout",
          "text": [
            "[10, 20, 'afsan', 30, 40, 50]\n"
          ]
        }
      ],
      "source": [
        "# insert\n",
        "\"\"\"\n",
        "inserts the value at a index\n",
        "- we can only insert 1 element a time\n",
        "\n",
        "\"\"\"\n",
        "\n",
        "a = [10,20,30,40,50]\n",
        "b = 'afsan'\n",
        "a.insert(2,b)\n",
        "print(a)"
      ]
    },
    {
      "cell_type": "code",
      "execution_count": 54,
      "id": "05bc401c",
      "metadata": {
        "id": "05bc401c"
      },
      "outputs": [],
      "source": [
        "# # removing the elements from list\n",
        "\n",
        "# 1.pop\n",
        "# 2.remove"
      ]
    },
    {
      "cell_type": "code",
      "execution_count": 55,
      "id": "b9e28782",
      "metadata": {
        "id": "b9e28782",
        "outputId": "8f055fe2-98e8-4db1-fafb-47d72dc3652d",
        "colab": {
          "base_uri": "https://localhost:8080/"
        }
      },
      "outputs": [
        {
          "output_type": "stream",
          "name": "stdout",
          "text": [
            "44\n",
            "[100, 200, 90, 78]\n"
          ]
        }
      ],
      "source": [
        "# 1.pop\n",
        "\"\"\"\n",
        "removes the element by index\n",
        "pop bt deafult removes the last index\n",
        "it is the only methods that returns the value\n",
        "\"\"\"\n",
        "\n",
        "a = [100,200,90,78,44]\n",
        "print(a.pop())\n",
        "print(a)"
      ]
    },
    {
      "cell_type": "code",
      "execution_count": 56,
      "id": "b4cb7574",
      "metadata": {
        "id": "b4cb7574",
        "outputId": "b2b8e4c0-42b0-4681-c6b4-4be4fb36d9e4",
        "colab": {
          "base_uri": "https://localhost:8080/"
        }
      },
      "outputs": [
        {
          "output_type": "stream",
          "name": "stdout",
          "text": [
            "200\n",
            "[100, 90, 78, 44]\n"
          ]
        }
      ],
      "source": [
        "a = [100,200,90,78,44]\n",
        "print(a.pop(1))\n",
        "print(a)"
      ]
    },
    {
      "cell_type": "code",
      "execution_count": null,
      "id": "15fc7f7f",
      "metadata": {
        "id": "15fc7f7f",
        "outputId": "c499ae60-a629-413f-bd1e-7e925253cddf"
      },
      "outputs": [
        {
          "ename": "ValueError",
          "evalue": "list.remove(x): x not in list",
          "output_type": "error",
          "traceback": [
            "\u001b[0;31m---------------------------------------------------------------------------\u001b[0m",
            "\u001b[0;31mValueError\u001b[0m                                Traceback (most recent call last)",
            "Input \u001b[0;32mIn [92]\u001b[0m, in \u001b[0;36m<cell line: 8>\u001b[0;34m()\u001b[0m\n\u001b[1;32m      2\u001b[0m \u001b[38;5;124;03m\"\"\"\u001b[39;00m\n\u001b[1;32m      3\u001b[0m \u001b[38;5;124;03mremoves the element by providing the ekleme\u001b[39;00m\n\u001b[1;32m      4\u001b[0m \n\u001b[1;32m      5\u001b[0m \u001b[38;5;124;03m\"\"\"\u001b[39;00m\n\u001b[1;32m      7\u001b[0m a \u001b[38;5;241m=\u001b[39m [\u001b[38;5;241m100\u001b[39m,\u001b[38;5;241m200\u001b[39m,\u001b[38;5;241m90\u001b[39m,\u001b[38;5;241m78\u001b[39m,\u001b[38;5;241m44\u001b[39m]\n\u001b[0;32m----> 8\u001b[0m \u001b[43ma\u001b[49m\u001b[38;5;241;43m.\u001b[39;49m\u001b[43mremove\u001b[49m\u001b[43m(\u001b[49m\u001b[38;5;241;43m600\u001b[39;49m\u001b[43m)\u001b[49m\n\u001b[1;32m      9\u001b[0m \u001b[38;5;28mprint\u001b[39m(a)\n",
            "\u001b[0;31mValueError\u001b[0m: list.remove(x): x not in list"
          ]
        }
      ],
      "source": [
        "#2. removes\n",
        "\"\"\"\n",
        "removes the element by providing the ekleme\n",
        "\n",
        "\"\"\"\n",
        "\n",
        "a = [100,200,90,78,44]\n",
        "a.remove(600)\n",
        "print(a)"
      ]
    },
    {
      "cell_type": "code",
      "execution_count": 57,
      "id": "db58cb01",
      "metadata": {
        "id": "db58cb01",
        "outputId": "8a1cbf21-d32b-4979-a58c-2fce1f11599a",
        "colab": {
          "base_uri": "https://localhost:8080/"
        }
      },
      "outputs": [
        {
          "output_type": "stream",
          "name": "stdout",
          "text": [
            "[100, 90, 200, 200, 78, 44]\n"
          ]
        }
      ],
      "source": [
        "a = [100,200,90,200,200,78,44]\n",
        "a.remove(200)\n",
        "print(a)"
      ]
    },
    {
      "cell_type": "code",
      "execution_count": 58,
      "id": "38bbe428",
      "metadata": {
        "id": "38bbe428",
        "colab": {
          "base_uri": "https://localhost:8080/"
        },
        "outputId": "d68bb623-68e6-4df6-b138-a021f91e627f"
      },
      "outputs": [
        {
          "output_type": "execute_result",
          "data": {
            "text/plain": [
              "5"
            ]
          },
          "metadata": {},
          "execution_count": 58
        }
      ],
      "source": [
        "# count -\n",
        "\n",
        "a = [1,2,3,1,1,2,3,2,1,1,2,3,4,5,4,3,2,1,2,3]\n",
        "a.count(3)"
      ]
    },
    {
      "cell_type": "code",
      "source": [
        "# index - returns the index of the elements\n",
        "# if multiple elements are present then the index of the first occurance will be given to us\n",
        "\n",
        "a = [1,2,3,1,1,2,3,2,1,1,2,3,4,5,4,3,2,1,2,3]\n",
        "a.index(3,3)"
      ],
      "metadata": {
        "colab": {
          "base_uri": "https://localhost:8080/"
        },
        "id": "vCsJczXSr7Ru",
        "outputId": "3cdaec12-e2eb-4e2c-8b1e-9a6c9338a3ac"
      },
      "id": "vCsJczXSr7Ru",
      "execution_count": 59,
      "outputs": [
        {
          "output_type": "execute_result",
          "data": {
            "text/plain": [
              "6"
            ]
          },
          "metadata": {},
          "execution_count": 59
        }
      ]
    },
    {
      "cell_type": "code",
      "source": [
        "# reverse\n",
        "\n",
        "a = [1,2,3,4,5]\n",
        "a.reverse()\n",
        "print(a)"
      ],
      "metadata": {
        "colab": {
          "base_uri": "https://localhost:8080/"
        },
        "id": "UdUhNsgKsABu",
        "outputId": "9129beca-0a5a-41b2-b212-c73a03312d25"
      },
      "id": "UdUhNsgKsABu",
      "execution_count": 60,
      "outputs": [
        {
          "output_type": "stream",
          "name": "stdout",
          "text": [
            "[5, 4, 3, 2, 1]\n"
          ]
        }
      ]
    },
    {
      "cell_type": "code",
      "source": [
        "# sort\n",
        "# sort the list for you\n",
        "\n",
        "a = [4,6,7,8,4,3,5,6,2,1]\n",
        "a.sort()\n",
        "print(a)"
      ],
      "metadata": {
        "colab": {
          "base_uri": "https://localhost:8080/"
        },
        "id": "HdFoyhKMsM2Z",
        "outputId": "870fc0f7-a4cf-4406-9661-e3be0a2859f9"
      },
      "id": "HdFoyhKMsM2Z",
      "execution_count": 61,
      "outputs": [
        {
          "output_type": "stream",
          "name": "stdout",
          "text": [
            "[1, 2, 3, 4, 4, 5, 6, 6, 7, 8]\n"
          ]
        }
      ]
    },
    {
      "cell_type": "code",
      "source": [
        "a = [4,6,7,8,4,3,5,6,2,1]\n",
        "a.sort(reverse=True)\n",
        "print(a)"
      ],
      "metadata": {
        "colab": {
          "base_uri": "https://localhost:8080/"
        },
        "id": "dtBvon8WsQOF",
        "outputId": "b00ed284-ff21-4ff7-c150-e8e5024ee914"
      },
      "id": "dtBvon8WsQOF",
      "execution_count": 62,
      "outputs": [
        {
          "output_type": "stream",
          "name": "stdout",
          "text": [
            "[8, 7, 6, 6, 5, 4, 4, 3, 2, 1]\n"
          ]
        }
      ]
    },
    {
      "cell_type": "code",
      "source": [
        "# clear\n",
        "\n",
        "a = [1,2,3,4]\n",
        "a.clear()\n",
        "print(a)"
      ],
      "metadata": {
        "colab": {
          "base_uri": "https://localhost:8080/"
        },
        "id": "CTQ5vD9hsVRU",
        "outputId": "e0c6ca31-d309-4a96-f45b-c98218ee381c"
      },
      "id": "CTQ5vD9hsVRU",
      "execution_count": 63,
      "outputs": [
        {
          "output_type": "stream",
          "name": "stdout",
          "text": [
            "[]\n"
          ]
        }
      ]
    },
    {
      "cell_type": "code",
      "source": [
        "a = ['afsan' , 'zen' , 'vikcy', 'viknesh']\n",
        "a.sort()"
      ],
      "metadata": {
        "id": "1uDMt9egsaIt"
      },
      "id": "1uDMt9egsaIt",
      "execution_count": 64,
      "outputs": []
    },
    {
      "cell_type": "code",
      "source": [
        "# append\n",
        "\n",
        "a = ['afsan' , 'zen' , 'vikcy', 'viknesh']\n",
        "\n",
        "a.append('Nisha')"
      ],
      "metadata": {
        "id": "RQMRWbOjsdYD"
      },
      "id": "RQMRWbOjsdYD",
      "execution_count": 65,
      "outputs": []
    },
    {
      "cell_type": "code",
      "source": [
        "a.index('viknesh')"
      ],
      "metadata": {
        "colab": {
          "base_uri": "https://localhost:8080/"
        },
        "id": "73uTsTuhsipU",
        "outputId": "056adfd1-0241-4941-a309-29c3c752d081"
      },
      "id": "73uTsTuhsipU",
      "execution_count": 66,
      "outputs": [
        {
          "output_type": "execute_result",
          "data": {
            "text/plain": [
              "3"
            ]
          },
          "metadata": {},
          "execution_count": 66
        }
      ]
    },
    {
      "cell_type": "code",
      "source": [
        "a = [1,2,3,4,5]\n",
        "b = [1,2,3,4,5]\n",
        "\n",
        "print(a , id(a))\n",
        "print(b , id(b))"
      ],
      "metadata": {
        "colab": {
          "base_uri": "https://localhost:8080/"
        },
        "id": "xU50RheBslQa",
        "outputId": "2fd80540-6305-4b65-de7f-c6132243ae8e"
      },
      "id": "xU50RheBslQa",
      "execution_count": 67,
      "outputs": [
        {
          "output_type": "stream",
          "name": "stdout",
          "text": [
            "[1, 2, 3, 4, 5] 132155205339008\n",
            "[1, 2, 3, 4, 5] 132155482545536\n"
          ]
        }
      ]
    },
    {
      "cell_type": "code",
      "source": [
        "a = [1,2,3,4,5]\n",
        "b = a #alisaing\n",
        "\n",
        "print(a , id(a))\n",
        "print(b , id(b))\n",
        "\n",
        "b[0] = 100\n",
        "\n",
        "print(a , id(a))\n",
        "print(b , id(b))"
      ],
      "metadata": {
        "colab": {
          "base_uri": "https://localhost:8080/"
        },
        "id": "mULsA-Aesq2Y",
        "outputId": "4bb9e574-a6a0-49ad-f802-60c3a57ebd6e"
      },
      "id": "mULsA-Aesq2Y",
      "execution_count": 68,
      "outputs": [
        {
          "output_type": "stream",
          "name": "stdout",
          "text": [
            "[1, 2, 3, 4, 5] 132155260399744\n",
            "[1, 2, 3, 4, 5] 132155260399744\n",
            "[100, 2, 3, 4, 5] 132155260399744\n",
            "[100, 2, 3, 4, 5] 132155260399744\n"
          ]
        }
      ]
    },
    {
      "cell_type": "code",
      "source": [
        "# shallow copy\n",
        "\n",
        "a = [1,2,3,4,5]\n",
        "b = a.copy()\n",
        "\n",
        "print(a , id(a))\n",
        "print(b , id(b))\n",
        "\n",
        "b[0] = 100\n",
        "\n",
        "print(a , id(a))\n",
        "print(b , id(b))"
      ],
      "metadata": {
        "colab": {
          "base_uri": "https://localhost:8080/"
        },
        "id": "EE-j-PFtswa1",
        "outputId": "75abb492-3768-4b22-df4b-6e5f2ead2120"
      },
      "id": "EE-j-PFtswa1",
      "execution_count": 69,
      "outputs": [
        {
          "output_type": "stream",
          "name": "stdout",
          "text": [
            "[1, 2, 3, 4, 5] 132155260298496\n",
            "[1, 2, 3, 4, 5] 132155260299200\n",
            "[1, 2, 3, 4, 5] 132155260298496\n",
            "[100, 2, 3, 4, 5] 132155260299200\n"
          ]
        }
      ]
    },
    {
      "cell_type": "code",
      "source": [
        "a = [1,2,3,4,[5,10,122]]\n",
        "b = a\n",
        "c = a.copy()\n",
        "\n",
        "b[0] = 100\n",
        "c[0] = 100"
      ],
      "metadata": {
        "id": "jROPSwqws5LV"
      },
      "id": "jROPSwqws5LV",
      "execution_count": 70,
      "outputs": []
    },
    {
      "cell_type": "code",
      "source": [
        "# shallow - it will fail if we have a nestes list and we are changing the element of the nested list"
      ],
      "metadata": {
        "id": "23w6R_bws-ms"
      },
      "id": "23w6R_bws-ms",
      "execution_count": 71,
      "outputs": []
    },
    {
      "cell_type": "code",
      "source": [
        "# deep copy\n",
        "\n",
        "from copy import deepcopy\n",
        "\n",
        "a = [1,2,3,[1,2,3]]\n",
        "b = deepcopy(a)\n",
        "\n",
        "print(id(a))\n",
        "print(id(b))\n",
        "\n",
        "b[-1][0] = 200\n",
        "\n",
        "print(a)\n",
        "print(b)"
      ],
      "metadata": {
        "colab": {
          "base_uri": "https://localhost:8080/"
        },
        "id": "BSGG7gw2tRlv",
        "outputId": "3e430b3f-b6cb-473b-ecfc-fbc43ab72a6d"
      },
      "id": "BSGG7gw2tRlv",
      "execution_count": 72,
      "outputs": [
        {
          "output_type": "stream",
          "name": "stdout",
          "text": [
            "132155260302912\n",
            "132155260390080\n",
            "[1, 2, 3, [1, 2, 3]]\n",
            "[1, 2, 3, [200, 2, 3]]\n"
          ]
        }
      ]
    },
    {
      "cell_type": "code",
      "source": [
        "print(id(a[-1]))\n",
        "print(id(b[-1]))"
      ],
      "metadata": {
        "colab": {
          "base_uri": "https://localhost:8080/"
        },
        "id": "jwd44q65tbBI",
        "outputId": "18038973-657b-49bf-e2e9-3ca42f182b46"
      },
      "id": "jwd44q65tbBI",
      "execution_count": 73,
      "outputs": [
        {
          "output_type": "stream",
          "name": "stdout",
          "text": [
            "132155478162880\n",
            "132155205340032\n"
          ]
        }
      ]
    },
    {
      "cell_type": "code",
      "source": [
        "# list - list comphrension"
      ],
      "metadata": {
        "id": "c9ZwHpFBthj6"
      },
      "id": "c9ZwHpFBthj6",
      "execution_count": 74,
      "outputs": []
    },
    {
      "cell_type": "code",
      "source": [
        "# -> never repeat the code\n",
        "# -> write to write a code in mininum line possible"
      ],
      "metadata": {
        "id": "BUOA7NpGtm_M"
      },
      "id": "BUOA7NpGtm_M",
      "execution_count": 75,
      "outputs": []
    },
    {
      "cell_type": "code",
      "source": [
        "for i in 'afsan':\n",
        "    print('hey')"
      ],
      "metadata": {
        "colab": {
          "base_uri": "https://localhost:8080/"
        },
        "id": "BBjECnvxtsA3",
        "outputId": "c053a512-303a-4414-9243-60203f36c858"
      },
      "id": "BBjECnvxtsA3",
      "execution_count": 76,
      "outputs": [
        {
          "output_type": "stream",
          "name": "stdout",
          "text": [
            "hey\n",
            "hey\n",
            "hey\n",
            "hey\n",
            "hey\n"
          ]
        }
      ]
    },
    {
      "cell_type": "code",
      "source": [
        "a = ['abc' , 'xyz' , 100]\n",
        "\n",
        "for data in a:\n",
        "    print('hi')"
      ],
      "metadata": {
        "colab": {
          "base_uri": "https://localhost:8080/"
        },
        "id": "fUBYPs85twBi",
        "outputId": "ad527371-47a0-4af1-c52d-2c16948fbf66"
      },
      "id": "fUBYPs85twBi",
      "execution_count": 77,
      "outputs": [
        {
          "output_type": "stream",
          "name": "stdout",
          "text": [
            "hi\n",
            "hi\n",
            "hi\n"
          ]
        }
      ]
    },
    {
      "cell_type": "code",
      "source": [
        "for i in ['afsan','megana','sarthak','mohan']:\n",
        "    print(i[::-1])"
      ],
      "metadata": {
        "colab": {
          "base_uri": "https://localhost:8080/"
        },
        "id": "3HWbT2Nct3kB",
        "outputId": "989d24bd-fdcb-4614-e331-526df35b6875"
      },
      "id": "3HWbT2Nct3kB",
      "execution_count": 78,
      "outputs": [
        {
          "output_type": "stream",
          "name": "stdout",
          "text": [
            "nasfa\n",
            "anagem\n",
            "kahtras\n",
            "nahom\n"
          ]
        }
      ]
    },
    {
      "cell_type": "code",
      "source": [
        "a = 'mohan'\n",
        "a[-1:-len(a)-1:-1]"
      ],
      "metadata": {
        "colab": {
          "base_uri": "https://localhost:8080/",
          "height": 35
        },
        "id": "-0PDqg_ht_X4",
        "outputId": "a34bf88e-ec58-4abe-be41-c9b5e166d1e3"
      },
      "id": "-0PDqg_ht_X4",
      "execution_count": 79,
      "outputs": [
        {
          "output_type": "execute_result",
          "data": {
            "text/plain": [
              "'nahom'"
            ],
            "application/vnd.google.colaboratory.intrinsic+json": {
              "type": "string"
            }
          },
          "metadata": {},
          "execution_count": 79
        }
      ]
    },
    {
      "cell_type": "code",
      "source": [
        "for i in ['a','b','c']:\n",
        "    print(i+'k')"
      ],
      "metadata": {
        "colab": {
          "base_uri": "https://localhost:8080/"
        },
        "id": "3rsGz4qGuFXP",
        "outputId": "f8cee0ee-7d69-48bc-e587-9464ef75c0ac"
      },
      "id": "3rsGz4qGuFXP",
      "execution_count": 80,
      "outputs": [
        {
          "output_type": "stream",
          "name": "stdout",
          "text": [
            "ak\n",
            "bk\n",
            "ck\n"
          ]
        }
      ]
    },
    {
      "cell_type": "code",
      "source": [
        "a = [1,2,3,4,[5,6,7,8],[1,2,3,4,[8,['mousumi','messi']]]]\n",
        "\n",
        "a[5][4][1][0]"
      ],
      "metadata": {
        "colab": {
          "base_uri": "https://localhost:8080/",
          "height": 35
        },
        "id": "2bxogtGMuKLV",
        "outputId": "49cce1ba-a844-4b94-d253-81cf5280beba"
      },
      "id": "2bxogtGMuKLV",
      "execution_count": 81,
      "outputs": [
        {
          "output_type": "execute_result",
          "data": {
            "text/plain": [
              "'mousumi'"
            ],
            "application/vnd.google.colaboratory.intrinsic+json": {
              "type": "string"
            }
          },
          "metadata": {},
          "execution_count": 81
        }
      ]
    },
    {
      "cell_type": "code",
      "source": [
        "for i in ['afsan','megana','sarthak','mohan'][0]:\n",
        "    print(i[::-1])"
      ],
      "metadata": {
        "colab": {
          "base_uri": "https://localhost:8080/"
        },
        "id": "pe6Z0XDsuTJ4",
        "outputId": "abf19621-1b5c-4526-8399-2645e58d4fe3"
      },
      "id": "pe6Z0XDsuTJ4",
      "execution_count": 82,
      "outputs": [
        {
          "output_type": "stream",
          "name": "stdout",
          "text": [
            "a\n",
            "f\n",
            "s\n",
            "a\n",
            "n\n"
          ]
        }
      ]
    },
    {
      "cell_type": "code",
      "source": [
        "a = [1,2,3,4,5]\n",
        "\n",
        "for i in a:\n",
        "    print(i)"
      ],
      "metadata": {
        "colab": {
          "base_uri": "https://localhost:8080/"
        },
        "id": "ewPfgbfKuY7-",
        "outputId": "b52fcd86-4c6a-4713-d6f2-6447c5b18a2e"
      },
      "id": "ewPfgbfKuY7-",
      "execution_count": 83,
      "outputs": [
        {
          "output_type": "stream",
          "name": "stdout",
          "text": [
            "1\n",
            "2\n",
            "3\n",
            "4\n",
            "5\n"
          ]
        }
      ]
    },
    {
      "cell_type": "code",
      "source": [
        "a = [1,2,3,4,5]\n",
        "b = []\n",
        "for i in a:\n",
        "    b.append(i**2)"
      ],
      "metadata": {
        "id": "-dOzYXHyuwQa"
      },
      "id": "-dOzYXHyuwQa",
      "execution_count": 84,
      "outputs": []
    },
    {
      "cell_type": "code",
      "source": [
        "a = ['afsan' , 'sarthak', 'yoges', 'jhilam']\n",
        "\n",
        "# construct a list where it will contain the reverse of all the element\n",
        "b = []\n",
        "for i in a:\n",
        "    b.append(i[::-1])\n",
        "print(b)"
      ],
      "metadata": {
        "colab": {
          "base_uri": "https://localhost:8080/"
        },
        "id": "OJkaQoj_u03b",
        "outputId": "56960674-ff43-44f1-c06f-632738b7dcf8"
      },
      "id": "OJkaQoj_u03b",
      "execution_count": 85,
      "outputs": [
        {
          "output_type": "stream",
          "name": "stdout",
          "text": [
            "['nasfa', 'kahtras', 'segoy', 'malihj']\n"
          ]
        }
      ]
    },
    {
      "cell_type": "code",
      "source": [
        "# list comprehension\n",
        "\n",
        "# 1. if we want to create a new list from the existing list\n",
        "# 2. you logic should only have 1 statment\n",
        "\n",
        "# syntax\n",
        "# [statment for var in iterable if cond]"
      ],
      "metadata": {
        "id": "gTTO3fHOu5-D"
      },
      "id": "gTTO3fHOu5-D",
      "execution_count": 87,
      "outputs": []
    },
    {
      "cell_type": "code",
      "source": [
        "a = [1,2,3,4,5]\n",
        "b = []\n",
        "for i in a:\n",
        "    b.append(i**2)"
      ],
      "metadata": {
        "id": "umthh-XgvB85"
      },
      "id": "umthh-XgvB85",
      "execution_count": 88,
      "outputs": []
    },
    {
      "cell_type": "code",
      "source": [
        "a = [1,2,3,4,5]\n",
        "b = [i**2 for i in a]"
      ],
      "metadata": {
        "id": "A7QG_IJ3vG3a"
      },
      "id": "A7QG_IJ3vG3a",
      "execution_count": 89,
      "outputs": []
    },
    {
      "cell_type": "code",
      "source": [
        "a = ['afsan' , 'sarthak', 'yoges', 'jhilam']\n",
        "\n",
        "# construct a list where it will contain the reverse of all the element\n",
        "b = [i[::-1] for i in a]\n",
        "print(b)"
      ],
      "metadata": {
        "colab": {
          "base_uri": "https://localhost:8080/"
        },
        "id": "DNZlY-TCvQxS",
        "outputId": "e21b65cb-e3cd-461d-dbc4-5c773b1b6f5a"
      },
      "id": "DNZlY-TCvQxS",
      "execution_count": 90,
      "outputs": [
        {
          "output_type": "stream",
          "name": "stdout",
          "text": [
            "['nasfa', 'kahtras', 'segoy', 'malihj']\n"
          ]
        }
      ]
    },
    {
      "cell_type": "code",
      "source": [
        "a = [1,2,3,4,5,6,7,8,9]\n",
        "[(i%2 ==0) for i in a ]"
      ],
      "metadata": {
        "colab": {
          "base_uri": "https://localhost:8080/"
        },
        "id": "i7H2zok1vUPH",
        "outputId": "5a3083af-0f82-43dd-cbe6-2c371ec7ee58"
      },
      "id": "i7H2zok1vUPH",
      "execution_count": 91,
      "outputs": [
        {
          "output_type": "execute_result",
          "data": {
            "text/plain": [
              "[False, True, False, True, False, True, False, True, False]"
            ]
          },
          "metadata": {},
          "execution_count": 91
        }
      ]
    },
    {
      "cell_type": "code",
      "source": [
        "a = ['afsaan@gmail.com' , 'akash@email.com' , 'gulab@gmail.com' , 'krishna@yahoo.in' , 'pranali@xyz.in']\n",
        "# contruct a list which will only contain the username of all the emails\n",
        "b = []\n",
        "for i in a:\n",
        "    b.append(i.split('@')[0])"
      ],
      "metadata": {
        "id": "asM85xgNvhFJ"
      },
      "id": "asM85xgNvhFJ",
      "execution_count": 92,
      "outputs": []
    },
    {
      "cell_type": "code",
      "source": [
        "[i.split('@')[0] for i in a]"
      ],
      "metadata": {
        "colab": {
          "base_uri": "https://localhost:8080/"
        },
        "id": "_9qnhVNCvldp",
        "outputId": "027fd479-febc-40d5-daf1-a52e7dbede09"
      },
      "id": "_9qnhVNCvldp",
      "execution_count": 93,
      "outputs": [
        {
          "output_type": "execute_result",
          "data": {
            "text/plain": [
              "['afsaan', 'akash', 'gulab', 'krishna', 'pranali']"
            ]
          },
          "metadata": {},
          "execution_count": 93
        }
      ]
    },
    {
      "cell_type": "code",
      "source": [
        "# tuple\n",
        "\n",
        "# collection of elements which is written inside a round bracket(optional) amd elements are sep by commas"
      ],
      "metadata": {
        "id": "T765T7tBvxeD"
      },
      "id": "T765T7tBvxeD",
      "execution_count": 95,
      "outputs": []
    },
    {
      "cell_type": "code",
      "source": [
        "a = (1,2,3,4,5,6)\n",
        "print(a , type(a))"
      ],
      "metadata": {
        "colab": {
          "base_uri": "https://localhost:8080/"
        },
        "id": "XWNemw-Jwmda",
        "outputId": "efedeb81-6dd2-4410-9433-270d7c9d8b5f"
      },
      "id": "XWNemw-Jwmda",
      "execution_count": 96,
      "outputs": [
        {
          "output_type": "stream",
          "name": "stdout",
          "text": [
            "(1, 2, 3, 4, 5, 6) <class 'tuple'>\n"
          ]
        }
      ]
    },
    {
      "cell_type": "code",
      "source": [
        "a = 1,2,3,4,5\n",
        "print(a, type(a))"
      ],
      "metadata": {
        "colab": {
          "base_uri": "https://localhost:8080/"
        },
        "id": "xzVUg1Xkwo0F",
        "outputId": "c05f0f3a-31b5-4005-8021-79598f75013c"
      },
      "id": "xzVUg1Xkwo0F",
      "execution_count": 97,
      "outputs": [
        {
          "output_type": "stream",
          "name": "stdout",
          "text": [
            "(1, 2, 3, 4, 5) <class 'tuple'>\n"
          ]
        }
      ]
    },
    {
      "cell_type": "code",
      "source": [
        "# 2. taking user input\n",
        "\n",
        "tup = eval(input('enter the tuple'))\n",
        "print(type(tup))"
      ],
      "metadata": {
        "colab": {
          "base_uri": "https://localhost:8080/"
        },
        "id": "FTrMeyufwtEf",
        "outputId": "ae5b4222-78ea-4f01-c83f-4b5873cec512"
      },
      "id": "FTrMeyufwtEf",
      "execution_count": 99,
      "outputs": [
        {
          "output_type": "stream",
          "name": "stdout",
          "text": [
            "enter the tuple1,2,3\n",
            "<class 'tuple'>\n"
          ]
        }
      ]
    },
    {
      "cell_type": "code",
      "source": [
        "# # # properties of tuple\n",
        "\n",
        "# 1. Sequence data type\n",
        "# 2. +ve and -ve indexing\n",
        "# 3. allows duplicate element\n",
        "# 4. allows to store any data type -\n",
        "# 5. basic operation - indexing, slicing , concatination, repition , identity and membership\n",
        "# 6. immutbale object"
      ],
      "metadata": {
        "id": "MC7lHdzZwx8Q"
      },
      "id": "MC7lHdzZwx8Q",
      "execution_count": 101,
      "outputs": []
    },
    {
      "cell_type": "code",
      "source": [
        "# 1. Sequence data type\n",
        "# 2. +ve and -ve indexing\n",
        "\n",
        "a = (1,2,3.5,'afsan',[1,2,3])\n",
        "a[0]\n",
        "a[-1]"
      ],
      "metadata": {
        "colab": {
          "base_uri": "https://localhost:8080/"
        },
        "id": "YEyTxSLEw7cU",
        "outputId": "a68418e9-c617-47d9-d172-8e5326ca4e56"
      },
      "id": "YEyTxSLEw7cU",
      "execution_count": 102,
      "outputs": [
        {
          "output_type": "execute_result",
          "data": {
            "text/plain": [
              "[1, 2, 3]"
            ]
          },
          "metadata": {},
          "execution_count": 102
        }
      ]
    },
    {
      "cell_type": "code",
      "source": [
        "# 3. allows duplicate element\n",
        "\n",
        "a = (1,2,3,4,1,1,1,1,1,1)\n",
        "print(a)"
      ],
      "metadata": {
        "colab": {
          "base_uri": "https://localhost:8080/"
        },
        "id": "R9wpTwD4xCPw",
        "outputId": "85f935ef-a9bb-48a5-a096-dda63971d6e6"
      },
      "id": "R9wpTwD4xCPw",
      "execution_count": 103,
      "outputs": [
        {
          "output_type": "stream",
          "name": "stdout",
          "text": [
            "(1, 2, 3, 4, 1, 1, 1, 1, 1, 1)\n"
          ]
        }
      ]
    },
    {
      "cell_type": "code",
      "source": [
        "# 4. allows to store any data type -\n",
        "\n",
        "a = (1,1.2,True,'afsan',(1,2,3))\n",
        "\n",
        "print(a)"
      ],
      "metadata": {
        "colab": {
          "base_uri": "https://localhost:8080/"
        },
        "id": "2QaDsmkXxIS0",
        "outputId": "c6dc6d1e-f1ad-4deb-f126-3c46be2cb8e8"
      },
      "id": "2QaDsmkXxIS0",
      "execution_count": 104,
      "outputs": [
        {
          "output_type": "stream",
          "name": "stdout",
          "text": [
            "(1, 1.2, True, 'afsan', (1, 2, 3))\n"
          ]
        }
      ]
    },
    {
      "cell_type": "code",
      "source": [
        "# indexing\n",
        "\n",
        "a = (1,1.2,True,'afsan',(1,2,3))\n",
        "\n",
        "print(a[2])"
      ],
      "metadata": {
        "colab": {
          "base_uri": "https://localhost:8080/"
        },
        "id": "UF8GdmFixPlH",
        "outputId": "67c6b1ae-90ac-4e0b-8ad2-d4db70287e82"
      },
      "id": "UF8GdmFixPlH",
      "execution_count": 105,
      "outputs": [
        {
          "output_type": "stream",
          "name": "stdout",
          "text": [
            "True\n"
          ]
        }
      ]
    },
    {
      "cell_type": "code",
      "source": [
        "# concatination\n",
        "\"\"\"\n",
        "adding tuples\n",
        "op - +\n",
        "operands = both should be tuple\n",
        "\n",
        "\"\"\"\n",
        "\n",
        "a  = (1,2,3)\n",
        "b = (True,False)\n",
        "\n",
        "print(a+b)"
      ],
      "metadata": {
        "colab": {
          "base_uri": "https://localhost:8080/"
        },
        "id": "OSrVlX_UxSTO",
        "outputId": "e6483a83-5ba2-408d-c82e-84342ffa84fa"
      },
      "id": "OSrVlX_UxSTO",
      "execution_count": 106,
      "outputs": [
        {
          "output_type": "stream",
          "name": "stdout",
          "text": [
            "(1, 2, 3, True, False)\n"
          ]
        }
      ]
    },
    {
      "cell_type": "code",
      "source": [
        "# repetition\n",
        "\"\"\"\n",
        "op - *\n",
        "operand - int and tuple\n",
        "\n",
        "\"\"\"\n",
        "a = (1,2,3)\n",
        "b = 50\n",
        "\n",
        "print(a*b)"
      ],
      "metadata": {
        "colab": {
          "base_uri": "https://localhost:8080/"
        },
        "id": "zlZmRzjLxZX3",
        "outputId": "fbc6ef37-5ced-4753-f086-45275bdf15c0"
      },
      "id": "zlZmRzjLxZX3",
      "execution_count": 107,
      "outputs": [
        {
          "output_type": "stream",
          "name": "stdout",
          "text": [
            "(1, 2, 3, 1, 2, 3, 1, 2, 3, 1, 2, 3, 1, 2, 3, 1, 2, 3, 1, 2, 3, 1, 2, 3, 1, 2, 3, 1, 2, 3, 1, 2, 3, 1, 2, 3, 1, 2, 3, 1, 2, 3, 1, 2, 3, 1, 2, 3, 1, 2, 3, 1, 2, 3, 1, 2, 3, 1, 2, 3, 1, 2, 3, 1, 2, 3, 1, 2, 3, 1, 2, 3, 1, 2, 3, 1, 2, 3, 1, 2, 3, 1, 2, 3, 1, 2, 3, 1, 2, 3, 1, 2, 3, 1, 2, 3, 1, 2, 3, 1, 2, 3, 1, 2, 3, 1, 2, 3, 1, 2, 3, 1, 2, 3, 1, 2, 3, 1, 2, 3, 1, 2, 3, 1, 2, 3, 1, 2, 3, 1, 2, 3, 1, 2, 3, 1, 2, 3, 1, 2, 3, 1, 2, 3, 1, 2, 3, 1, 2, 3)\n"
          ]
        }
      ]
    },
    {
      "cell_type": "code",
      "source": [
        "# identity operator\n",
        "\"\"\"\n",
        "op - is and is not\n",
        "return - bool\n",
        "\"\"\"\n",
        "a = (1,2,3,4,5)\n",
        "b = (1,2,3,4,5)\n",
        "\n",
        "print(a is not b)"
      ],
      "metadata": {
        "colab": {
          "base_uri": "https://localhost:8080/"
        },
        "id": "sCajhwPPxftg",
        "outputId": "bc800bbf-be0c-4345-ff9c-f690c1533023"
      },
      "id": "sCajhwPPxftg",
      "execution_count": 108,
      "outputs": [
        {
          "output_type": "stream",
          "name": "stdout",
          "text": [
            "True\n"
          ]
        }
      ]
    },
    {
      "cell_type": "code",
      "source": [
        "# membership op\n",
        "\"\"\"\n",
        "op - in and not in\n",
        "return - bool\n",
        "\"\"\"\n",
        "\n",
        "a = (1,1.2,True,'afsan',(1,2,3))\n",
        "print('1.2' in a)"
      ],
      "metadata": {
        "colab": {
          "base_uri": "https://localhost:8080/"
        },
        "id": "Zq3uf1VOxkU5",
        "outputId": "80e36906-7dc2-4d03-a41d-4f48b1e27391"
      },
      "id": "Zq3uf1VOxkU5",
      "execution_count": 109,
      "outputs": [
        {
          "output_type": "stream",
          "name": "stdout",
          "text": [
            "False\n"
          ]
        }
      ]
    },
    {
      "cell_type": "code",
      "source": [
        "a = (1,1.2,True,'afsan',(1,2,3))\n",
        "print(1.2 in a)"
      ],
      "metadata": {
        "colab": {
          "base_uri": "https://localhost:8080/"
        },
        "id": "VSgR1NbjxnbZ",
        "outputId": "705323a9-8fdb-4caf-8987-f034a086d343"
      },
      "id": "VSgR1NbjxnbZ",
      "execution_count": 110,
      "outputs": [
        {
          "output_type": "stream",
          "name": "stdout",
          "text": [
            "True\n"
          ]
        }
      ]
    },
    {
      "cell_type": "code",
      "source": [
        "a = (1,2,3)\n",
        "b = (5,6,7)\n",
        "\n",
        "print(id(a))\n",
        "print(id(b))\n",
        "\n",
        "print(a is b)"
      ],
      "metadata": {
        "colab": {
          "base_uri": "https://localhost:8080/"
        },
        "id": "43Wt64vUxvEh",
        "outputId": "9b8f1580-6677-4cf4-d63d-de7e110c32b9"
      },
      "id": "43Wt64vUxvEh",
      "execution_count": 111,
      "outputs": [
        {
          "output_type": "stream",
          "name": "stdout",
          "text": [
            "132155260215936\n",
            "132154648800000\n",
            "False\n"
          ]
        }
      ]
    },
    {
      "cell_type": "code",
      "source": [
        "# packing - assign multiple data type to a single variable\n",
        "\n",
        "a = 1,2,True,100.2\n",
        "print(a)"
      ],
      "metadata": {
        "colab": {
          "base_uri": "https://localhost:8080/"
        },
        "id": "xYTKhDFsxzOg",
        "outputId": "0979541a-4c7c-4365-fc1a-f89662edb65c"
      },
      "id": "xYTKhDFsxzOg",
      "execution_count": 112,
      "outputs": [
        {
          "output_type": "stream",
          "name": "stdout",
          "text": [
            "(1, 2, True, 100.2)\n"
          ]
        }
      ]
    },
    {
      "cell_type": "code",
      "source": [
        "a = (1,2,3) # 1,2,3\n",
        "b = (1,2) # 1,2\n",
        "c = (1) # 1\n",
        "print(c , type(c))"
      ],
      "metadata": {
        "colab": {
          "base_uri": "https://localhost:8080/"
        },
        "id": "mAtszeFcx54A",
        "outputId": "786012f3-39d6-4db8-e1eb-4b75faa3be02"
      },
      "id": "mAtszeFcx54A",
      "execution_count": 113,
      "outputs": [
        {
          "output_type": "stream",
          "name": "stdout",
          "text": [
            "1 <class 'int'>\n"
          ]
        }
      ]
    },
    {
      "cell_type": "code",
      "source": [
        "# can tuple contain a single element\n",
        "\n",
        "c = (1,)\n",
        "print(c)"
      ],
      "metadata": {
        "colab": {
          "base_uri": "https://localhost:8080/"
        },
        "id": "vlX4SpVGx-un",
        "outputId": "61ff7fb6-91a0-4949-fac6-913aed98105b"
      },
      "id": "vlX4SpVGx-un",
      "execution_count": 114,
      "outputs": [
        {
          "output_type": "stream",
          "name": "stdout",
          "text": [
            "(1,)\n"
          ]
        }
      ]
    },
    {
      "cell_type": "code",
      "source": [
        "a = [1]\n",
        "tuple(a)"
      ],
      "metadata": {
        "colab": {
          "base_uri": "https://localhost:8080/"
        },
        "id": "VEehNfk9yEN5",
        "outputId": "66e2fdd6-aa7c-4018-fdec-2d36b7a170a7"
      },
      "id": "VEehNfk9yEN5",
      "execution_count": 115,
      "outputs": [
        {
          "output_type": "execute_result",
          "data": {
            "text/plain": [
              "(1,)"
            ]
          },
          "metadata": {},
          "execution_count": 115
        }
      ]
    },
    {
      "cell_type": "code",
      "source": [
        "a = eval(input())\n",
        "print(a)"
      ],
      "metadata": {
        "colab": {
          "base_uri": "https://localhost:8080/"
        },
        "id": "GopE3VC5yIxx",
        "outputId": "557d1a2d-b14f-4478-c601-e157368b99ee"
      },
      "id": "GopE3VC5yIxx",
      "execution_count": 117,
      "outputs": [
        {
          "output_type": "stream",
          "name": "stdout",
          "text": [
            "a\n",
            "[1]\n"
          ]
        }
      ]
    },
    {
      "cell_type": "code",
      "source": [
        "a"
      ],
      "metadata": {
        "colab": {
          "base_uri": "https://localhost:8080/"
        },
        "id": "ItP2wuLUyL0r",
        "outputId": "7a78ea3d-faff-4caa-f53c-35c617510cf5"
      },
      "id": "ItP2wuLUyL0r",
      "execution_count": 118,
      "outputs": [
        {
          "output_type": "execute_result",
          "data": {
            "text/plain": [
              "[1]"
            ]
          },
          "metadata": {},
          "execution_count": 118
        }
      ]
    },
    {
      "cell_type": "code",
      "source": [
        "# tuple unpacking\n",
        "\n",
        "a,b,c,d = 1,2,3,4\n",
        "\n",
        "print(d)"
      ],
      "metadata": {
        "colab": {
          "base_uri": "https://localhost:8080/"
        },
        "id": "SQC0FTb-ySVb",
        "outputId": "5f37b5ed-5478-4ef7-d248-e21c4403dfda"
      },
      "id": "SQC0FTb-ySVb",
      "execution_count": 119,
      "outputs": [
        {
          "output_type": "stream",
          "name": "stdout",
          "text": [
            "4\n"
          ]
        }
      ]
    },
    {
      "cell_type": "code",
      "source": [
        "dir(tuple)"
      ],
      "metadata": {
        "colab": {
          "base_uri": "https://localhost:8080/"
        },
        "id": "t2qLJVv7yWIt",
        "outputId": "3f08d593-00d7-468d-d9cb-3a2f27bc7c7e"
      },
      "id": "t2qLJVv7yWIt",
      "execution_count": 120,
      "outputs": [
        {
          "output_type": "execute_result",
          "data": {
            "text/plain": [
              "['__add__',\n",
              " '__class__',\n",
              " '__class_getitem__',\n",
              " '__contains__',\n",
              " '__delattr__',\n",
              " '__dir__',\n",
              " '__doc__',\n",
              " '__eq__',\n",
              " '__format__',\n",
              " '__ge__',\n",
              " '__getattribute__',\n",
              " '__getitem__',\n",
              " '__getnewargs__',\n",
              " '__gt__',\n",
              " '__hash__',\n",
              " '__init__',\n",
              " '__init_subclass__',\n",
              " '__iter__',\n",
              " '__le__',\n",
              " '__len__',\n",
              " '__lt__',\n",
              " '__mul__',\n",
              " '__ne__',\n",
              " '__new__',\n",
              " '__reduce__',\n",
              " '__reduce_ex__',\n",
              " '__repr__',\n",
              " '__rmul__',\n",
              " '__setattr__',\n",
              " '__sizeof__',\n",
              " '__str__',\n",
              " '__subclasshook__',\n",
              " 'count',\n",
              " 'index']"
            ]
          },
          "metadata": {},
          "execution_count": 120
        }
      ]
    },
    {
      "cell_type": "code",
      "source": [
        "# 2. index\n",
        "\n",
        "a = 10,20,30,40,50,60,10,20,10\n",
        "\n",
        "print(a.index(20))"
      ],
      "metadata": {
        "colab": {
          "base_uri": "https://localhost:8080/"
        },
        "id": "ySpt5Ouvybyr",
        "outputId": "c9f0ec0d-61df-4a1a-bf9c-f9a617f6e322"
      },
      "id": "ySpt5Ouvybyr",
      "execution_count": 121,
      "outputs": [
        {
          "output_type": "stream",
          "name": "stdout",
          "text": [
            "1\n"
          ]
        }
      ]
    },
    {
      "cell_type": "code",
      "source": [
        "# format string\n",
        "\n",
        "# wap to take 2 user input and add the two number and output should be\n",
        "\n",
        "\"addition of two number is : ans\""
      ],
      "metadata": {
        "colab": {
          "base_uri": "https://localhost:8080/",
          "height": 35
        },
        "id": "65pkIF0kym7W",
        "outputId": "a656ca3c-d80c-43f3-c11e-969d97c9233f"
      },
      "id": "65pkIF0kym7W",
      "execution_count": 122,
      "outputs": [
        {
          "output_type": "execute_result",
          "data": {
            "text/plain": [
              "'addition of two number is : ans'"
            ],
            "application/vnd.google.colaboratory.intrinsic+json": {
              "type": "string"
            }
          },
          "metadata": {},
          "execution_count": 122
        }
      ]
    },
    {
      "cell_type": "code",
      "source": [
        "a=int(input())\n",
        "b=int(input())\n",
        "print(\"addition of two numbers is :\", a+b)"
      ],
      "metadata": {
        "colab": {
          "base_uri": "https://localhost:8080/"
        },
        "id": "IazEyYyHyqhS",
        "outputId": "5018e386-2133-41f8-bd44-bd89fdb22078"
      },
      "id": "IazEyYyHyqhS",
      "execution_count": 123,
      "outputs": [
        {
          "output_type": "stream",
          "name": "stdout",
          "text": [
            "10\n",
            "20\n",
            "addition of two numbers is : 30\n"
          ]
        }
      ]
    },
    {
      "cell_type": "code",
      "source": [
        "# 1 way\n",
        "a=int(input())\n",
        "b=int(input())\n",
        "print(\"addition of\",a,\"and\",b,\"is:\",a+b)"
      ],
      "metadata": {
        "colab": {
          "base_uri": "https://localhost:8080/"
        },
        "id": "ZZ0Z-7iaytca",
        "outputId": "86b5cb46-3dd9-4254-e747-c1b3722ff86e"
      },
      "id": "ZZ0Z-7iaytca",
      "execution_count": 124,
      "outputs": [
        {
          "output_type": "stream",
          "name": "stdout",
          "text": [
            "10\n",
            "20\n",
            "addition of 10 and 20 is: 30\n"
          ]
        }
      ]
    },
    {
      "cell_type": "code",
      "source": [
        "# 2way\n",
        "a=int(input())\n",
        "b=int(input())\n",
        "print(f\"addition of {a} and {b} is {a+b}\")"
      ],
      "metadata": {
        "colab": {
          "base_uri": "https://localhost:8080/"
        },
        "id": "0TUBcIxRyxu1",
        "outputId": "1ceced56-5391-4d7e-df6e-3032c608bcfb"
      },
      "id": "0TUBcIxRyxu1",
      "execution_count": 125,
      "outputs": [
        {
          "output_type": "stream",
          "name": "stdout",
          "text": [
            "10\n",
            "20\n",
            "addition of 10 and 20 is 30\n"
          ]
        }
      ]
    },
    {
      "cell_type": "code",
      "source": [
        "# 3way\n",
        "a=int(input())\n",
        "b=int(input())\n",
        "print(\"addition of {} and {} is {}\".format(a,b,a+b))"
      ],
      "metadata": {
        "colab": {
          "base_uri": "https://localhost:8080/"
        },
        "id": "B3y2w3gHy1wL",
        "outputId": "5a9ee189-7317-4c55-d7ba-18da530622b4"
      },
      "id": "B3y2w3gHy1wL",
      "execution_count": 126,
      "outputs": [
        {
          "output_type": "stream",
          "name": "stdout",
          "text": [
            "30\n",
            "10\n",
            "addition of 30 and 10 is 40\n"
          ]
        }
      ]
    },
    {
      "cell_type": "code",
      "source": [
        "a = f\"addition of {a} and {b} is {a+b}\""
      ],
      "metadata": {
        "id": "QQ63sXXuy56M"
      },
      "id": "QQ63sXXuy56M",
      "execution_count": 127,
      "outputs": []
    },
    {
      "cell_type": "code",
      "source": [
        "a = ['afsan' , 18 , 70000]\n",
        "print(a[0])\n",
        "print(a[1])\n",
        "print(a[2])"
      ],
      "metadata": {
        "colab": {
          "base_uri": "https://localhost:8080/"
        },
        "id": "SSGGMbJty9xZ",
        "outputId": "dade9cfd-4c64-455c-abb7-cbcaf837f1e7"
      },
      "id": "SSGGMbJty9xZ",
      "execution_count": 128,
      "outputs": [
        {
          "output_type": "stream",
          "name": "stdout",
          "text": [
            "afsan\n",
            "18\n",
            "70000\n"
          ]
        }
      ]
    },
    {
      "cell_type": "code",
      "source": [
        "# problem 1\n",
        "a = [18 , 70000, 'afsan']\n",
        "print(a[0])\n",
        "print(a[1])\n",
        "print(a[2])"
      ],
      "metadata": {
        "colab": {
          "base_uri": "https://localhost:8080/"
        },
        "id": "XRSqaGGyzATr",
        "outputId": "68e199a7-25e3-486b-a0ce-32b61644abdc"
      },
      "id": "XRSqaGGyzATr",
      "execution_count": 129,
      "outputs": [
        {
          "output_type": "stream",
          "name": "stdout",
          "text": [
            "18\n",
            "70000\n",
            "afsan\n"
          ]
        }
      ]
    },
    {
      "cell_type": "code",
      "source": [
        "# problem number 2\n",
        "a = [18 , 18, 'afsan']\n",
        "print(a[2])"
      ],
      "metadata": {
        "colab": {
          "base_uri": "https://localhost:8080/"
        },
        "id": "-TniBJ9CzCtQ",
        "outputId": "d55de289-0b74-4b13-ffa9-2569f887f9a6"
      },
      "id": "-TniBJ9CzCtQ",
      "execution_count": 130,
      "outputs": [
        {
          "output_type": "stream",
          "name": "stdout",
          "text": [
            "afsan\n"
          ]
        }
      ]
    },
    {
      "cell_type": "code",
      "source": [
        "# dictionary data type - is used to represent thet structure data\n",
        "\n",
        "employee_data = {\"age\":18 , 'salary':18 , \"name\":'afsan'}\n",
        "print(employee_data , type(employee_data))"
      ],
      "metadata": {
        "colab": {
          "base_uri": "https://localhost:8080/"
        },
        "id": "mDtYF5FjzFcP",
        "outputId": "ca4b59f2-4cbe-4c1e-a57b-477f392f865d"
      },
      "id": "mDtYF5FjzFcP",
      "execution_count": 131,
      "outputs": [
        {
          "output_type": "stream",
          "name": "stdout",
          "text": [
            "{'age': 18, 'salary': 18, 'name': 'afsan'} <class 'dict'>\n"
          ]
        }
      ]
    },
    {
      "cell_type": "code",
      "source": [
        "employee_data[\"name\"]\n",
        "employee_data[\"age\"]\n",
        "employee_data['salary']"
      ],
      "metadata": {
        "colab": {
          "base_uri": "https://localhost:8080/"
        },
        "id": "nzpH_TkWzIn5",
        "outputId": "de2ba4d2-ce5a-47e3-ed53-6c993199b6dc"
      },
      "id": "nzpH_TkWzIn5",
      "execution_count": 132,
      "outputs": [
        {
          "output_type": "execute_result",
          "data": {
            "text/plain": [
              "18"
            ]
          },
          "metadata": {},
          "execution_count": 132
        }
      ]
    },
    {
      "cell_type": "code",
      "source": [
        "# # properties of dict\n",
        "\n",
        "# 1. it is a collection of key value pair\n",
        "# 2. a key,value is called as item\n",
        "# 3. items are sep by commas\n",
        "# 4. key and value are sep by :\n",
        "# 5. key cannot be duplicated whereas value can be duplicated\n",
        "# 6. key cannot be mutable\n",
        "# 7. value can be of any datatype\n",
        "# 8. all the items are enclosed inside a {}\n",
        "# 9. dict is not a seq data type - indexing , slicing , concatination, repetiton\n",
        "# 10. membership op is applicable but only on keys\n",
        "# 11. identity is applicable\n",
        "# # 12. mutable datatype"
      ],
      "metadata": {
        "id": "abaExLynzN25"
      },
      "id": "abaExLynzN25",
      "execution_count": 134,
      "outputs": []
    },
    {
      "cell_type": "code",
      "source": [
        "# how to create dict\n",
        "\n",
        "# 1. we already know the leme\n",
        "\n",
        "employee_data = {\"age\":18 , 'salary':18 , \"name\":'afsan'}"
      ],
      "metadata": {
        "id": "qUwnXhAAzQkm"
      },
      "id": "qUwnXhAAzQkm",
      "execution_count": 136,
      "outputs": []
    },
    {
      "cell_type": "code",
      "source": [
        "# 3 using dict function\n",
        "\n",
        "\"\"\"\n",
        "dict function takes seq of inner seq where inner seq will have a pair of va;ue out of which the first pair\n",
        "will be the key and scond value will be the value\n",
        "\"\"\"\n",
        "a = [(1,100),(2,200),(3,300),(4,400)]\n",
        "dict(a)"
      ],
      "metadata": {
        "colab": {
          "base_uri": "https://localhost:8080/"
        },
        "id": "GvZQ6mkzzaLh",
        "outputId": "95915460-944c-4eac-e24e-5f61b90744a6"
      },
      "id": "GvZQ6mkzzaLh",
      "execution_count": 139,
      "outputs": [
        {
          "output_type": "execute_result",
          "data": {
            "text/plain": [
              "{1: 100, 2: 200, 3: 300, 4: 400}"
            ]
          },
          "metadata": {},
          "execution_count": 139
        }
      ]
    },
    {
      "cell_type": "code",
      "source": [
        "# 4 zip\n",
        "\n",
        "# zip(iter1 , iter2)\n",
        "\n",
        "a = [\"name\",\"age\",\"salary\"]\n",
        "b = [18 , 18 , 24 , \"afsan\"]"
      ],
      "metadata": {
        "id": "izCBzEbSzhcW"
      },
      "id": "izCBzEbSzhcW",
      "execution_count": 140,
      "outputs": []
    },
    {
      "cell_type": "code",
      "source": [
        "# 5. key cannot be duplicated whereas value can be duplicated\n",
        "\n",
        "# scenario 1 - key is duplicated\n",
        "employee_data = {\"name\":'afsan',\"age\":\"18\",\"salary\":20 ,\"age\":20}\n",
        "print(employee_data)"
      ],
      "metadata": {
        "colab": {
          "base_uri": "https://localhost:8080/"
        },
        "id": "_zw769O3zkKi",
        "outputId": "55573e18-f293-445f-bd8f-6bdd092bb2b4"
      },
      "id": "_zw769O3zkKi",
      "execution_count": 141,
      "outputs": [
        {
          "output_type": "stream",
          "name": "stdout",
          "text": [
            "{'name': 'afsan', 'age': 20, 'salary': 20}\n"
          ]
        }
      ]
    },
    {
      "cell_type": "code",
      "source": [
        "# scenario 2 - value is duplicated\n",
        "employee_data = {\"name\":'afsan',\"age\":\"afsan\",\"salary\":\"afsan\"}\n",
        "print(employee_data)"
      ],
      "metadata": {
        "colab": {
          "base_uri": "https://localhost:8080/"
        },
        "id": "t91Lf2izzvqU",
        "outputId": "f106ccb9-cd2d-4fe2-945f-edf44838c3cc"
      },
      "id": "t91Lf2izzvqU",
      "execution_count": 142,
      "outputs": [
        {
          "output_type": "stream",
          "name": "stdout",
          "text": [
            "{'name': 'afsan', 'age': 'afsan', 'salary': 'afsan'}\n"
          ]
        }
      ]
    },
    {
      "cell_type": "code",
      "source": [
        "# 6. key cannot be mutable\n",
        "\n",
        "# mutable\n",
        "# 1. list\n",
        "# 2. dict\n",
        "# 3. set\n",
        "\n",
        "\n",
        "# not mutable datatype\n",
        "employee_data = {1:'afsan',1.2:\"18\",\"salary\":20 ,10+7j:20 , False:100}\n",
        "print(employee_data)"
      ],
      "metadata": {
        "colab": {
          "base_uri": "https://localhost:8080/"
        },
        "id": "rMn9AFnW11Zj",
        "outputId": "c0cf2096-5196-4f80-b33a-83a3dd4a8493"
      },
      "id": "rMn9AFnW11Zj",
      "execution_count": 144,
      "outputs": [
        {
          "output_type": "stream",
          "name": "stdout",
          "text": [
            "{1: 'afsan', 1.2: '18', 'salary': 20, (10+7j): 20, False: 100}\n"
          ]
        }
      ]
    },
    {
      "cell_type": "code",
      "source": [
        "# 7. value can be of any datatype\n",
        "employee_data = {1:'afsan',1.2:18,\"salary\":[20] ,10+7j:(20) , False:100}\n",
        "print(employee_data)"
      ],
      "metadata": {
        "colab": {
          "base_uri": "https://localhost:8080/"
        },
        "id": "BjnISrCO15RL",
        "outputId": "aca71291-7ebf-4667-ed7c-44551517681a"
      },
      "id": "BjnISrCO15RL",
      "execution_count": 145,
      "outputs": [
        {
          "output_type": "stream",
          "name": "stdout",
          "text": [
            "{1: 'afsan', 1.2: 18, 'salary': [20], (10+7j): 20, False: 100}\n"
          ]
        }
      ]
    },
    {
      "cell_type": "code",
      "source": [
        "# 10. membership op is applicable but only on keys\n",
        "\n",
        "employee_data = {1:'afsan',1.2:18,\"salary\":[20] ,10+7j:(20) , False:100}\n",
        "\n",
        "print('1.2' in employee_data)"
      ],
      "metadata": {
        "colab": {
          "base_uri": "https://localhost:8080/"
        },
        "id": "pzx0I5_l18fl",
        "outputId": "f041d837-6c9c-4009-fd7d-aa94b400de90"
      },
      "id": "pzx0I5_l18fl",
      "execution_count": 146,
      "outputs": [
        {
          "output_type": "stream",
          "name": "stdout",
          "text": [
            "False\n"
          ]
        }
      ]
    },
    {
      "cell_type": "code",
      "source": [
        "employee_data = {1:'afsan',1.2:18,\"salary\":[20] ,10+7j:(20) , False:100}\n",
        "\n",
        "print((20) in employee_data)"
      ],
      "metadata": {
        "colab": {
          "base_uri": "https://localhost:8080/"
        },
        "id": "4ijJ7Jw61_9I",
        "outputId": "88c03a44-5ae9-462c-88d5-e6048f43e75e"
      },
      "id": "4ijJ7Jw61_9I",
      "execution_count": 147,
      "outputs": [
        {
          "output_type": "stream",
          "name": "stdout",
          "text": [
            "False\n"
          ]
        }
      ]
    },
    {
      "cell_type": "code",
      "source": [
        "employee_data = {1:'afsan',1.2:18,\"salary\":[20] ,10+7j:(20) , False:100}\n",
        "\n",
        "print((1) in employee_data)"
      ],
      "metadata": {
        "colab": {
          "base_uri": "https://localhost:8080/"
        },
        "id": "wGYnV3wx2C-b",
        "outputId": "7baea501-ac69-4a2f-c357-848a4d3ff667"
      },
      "id": "wGYnV3wx2C-b",
      "execution_count": 148,
      "outputs": [
        {
          "output_type": "stream",
          "name": "stdout",
          "text": [
            "True\n"
          ]
        }
      ]
    },
    {
      "cell_type": "code",
      "source": [
        "# 11. identity is applicable\n",
        "\n",
        "employee_data = {1:'afsan',1.2:18,\"salary\":[20] ,10+7j:(20) , False:100}\n",
        "employee_data_1 = {1:'afsan',1.2:18,\"salary\":[20] ,10+7j:(20) , False:100}\n",
        "\n",
        "print(employee_data is employee_data_1)"
      ],
      "metadata": {
        "colab": {
          "base_uri": "https://localhost:8080/"
        },
        "id": "ENbOoD0x2F-T",
        "outputId": "33180abf-5d50-4f8b-b77d-4cbacf05a10d"
      },
      "id": "ENbOoD0x2F-T",
      "execution_count": 149,
      "outputs": [
        {
          "output_type": "stream",
          "name": "stdout",
          "text": [
            "False\n"
          ]
        }
      ]
    },
    {
      "cell_type": "code",
      "source": [
        "# 12. mutable datatype - original object can be changed\n",
        "\n",
        "employee_data = {1:'afsan',1.2:18,\"salary\":[20] ,10+7j:(20) , False:100}\n",
        "employee_data[1] = 'rahul'"
      ],
      "metadata": {
        "id": "JS_2pT6S2JIo"
      },
      "id": "JS_2pT6S2JIo",
      "execution_count": 150,
      "outputs": []
    },
    {
      "cell_type": "code",
      "source": [
        "employee_data"
      ],
      "metadata": {
        "colab": {
          "base_uri": "https://localhost:8080/"
        },
        "id": "v8U_9goA2MCv",
        "outputId": "e6d4f039-413e-478e-9a4f-9621abfe68e7"
      },
      "id": "v8U_9goA2MCv",
      "execution_count": 151,
      "outputs": [
        {
          "output_type": "execute_result",
          "data": {
            "text/plain": [
              "{1: 'rahul', 1.2: 18, 'salary': [20], (10+7j): 20, False: 100}"
            ]
          },
          "metadata": {},
          "execution_count": 151
        }
      ]
    },
    {
      "cell_type": "code",
      "source": [
        "name = \"rohit\"\n",
        "\n",
        "name.replace"
      ],
      "metadata": {
        "colab": {
          "base_uri": "https://localhost:8080/"
        },
        "id": "YUoq61GV2Svi",
        "outputId": "55634f43-b089-445f-eefd-741b83402664"
      },
      "id": "YUoq61GV2Svi",
      "execution_count": 152,
      "outputs": [
        {
          "output_type": "execute_result",
          "data": {
            "text/plain": [
              "<function str.replace(old, new, count=-1, /)>"
            ]
          },
          "metadata": {},
          "execution_count": 152
        }
      ]
    },
    {
      "cell_type": "code",
      "source": [
        "# methods on dict data type\n",
        "print(dir(dict))"
      ],
      "metadata": {
        "colab": {
          "base_uri": "https://localhost:8080/"
        },
        "id": "PSuv9Kxd2VOn",
        "outputId": "8d20f327-c7cd-4feb-9cb7-29cab0839f45"
      },
      "id": "PSuv9Kxd2VOn",
      "execution_count": 153,
      "outputs": [
        {
          "output_type": "stream",
          "name": "stdout",
          "text": [
            "['__class__', '__class_getitem__', '__contains__', '__delattr__', '__delitem__', '__dir__', '__doc__', '__eq__', '__format__', '__ge__', '__getattribute__', '__getitem__', '__gt__', '__hash__', '__init__', '__init_subclass__', '__ior__', '__iter__', '__le__', '__len__', '__lt__', '__ne__', '__new__', '__or__', '__reduce__', '__reduce_ex__', '__repr__', '__reversed__', '__ror__', '__setattr__', '__setitem__', '__sizeof__', '__str__', '__subclasshook__', 'clear', 'copy', 'fromkeys', 'get', 'items', 'keys', 'pop', 'popitem', 'setdefault', 'update', 'values']\n"
          ]
        }
      ]
    },
    {
      "cell_type": "code",
      "source": [
        "# # methods to add and access the element from the dict\n",
        "\n",
        "# 1. get\n",
        "# 2. setdeafault\n",
        "# 3. update"
      ],
      "metadata": {
        "id": "L1OI1kXo2XZi"
      },
      "id": "L1OI1kXo2XZi",
      "execution_count": 156,
      "outputs": []
    },
    {
      "cell_type": "code",
      "source": [
        "# get - if key is present it returns the value, else deafult value will be taken\n",
        "\n",
        "employee_details = { 'emp1' : {'name':'Afsan' , 'age': 23 , 'salary':70000} , 'emp2' :\n",
        "                    {'name':'rahul' , 'age': 23 , 'salary':6000}}"
      ],
      "metadata": {
        "id": "oUOsbeZV2Z2a"
      },
      "id": "oUOsbeZV2Z2a",
      "execution_count": 155,
      "outputs": []
    },
    {
      "cell_type": "code",
      "source": [
        "# if key is present\n",
        "\n",
        "employee_details.get('emp1')"
      ],
      "metadata": {
        "colab": {
          "base_uri": "https://localhost:8080/"
        },
        "id": "Ws_Tew-_2ckk",
        "outputId": "a1d1533a-1501-4a86-fe09-44d9972f159e"
      },
      "id": "Ws_Tew-_2ckk",
      "execution_count": 157,
      "outputs": [
        {
          "output_type": "execute_result",
          "data": {
            "text/plain": [
              "{'name': 'Afsan', 'age': 23, 'salary': 70000}"
            ]
          },
          "metadata": {},
          "execution_count": 157
        }
      ]
    },
    {
      "cell_type": "code",
      "source": [
        "# if key is not present\n",
        "print(employee_details.get('emp3'))"
      ],
      "metadata": {
        "colab": {
          "base_uri": "https://localhost:8080/"
        },
        "id": "MRBnBXDu2gwb",
        "outputId": "c5ea5e82-3b5f-41c5-a24e-ce0b1de09136"
      },
      "id": "MRBnBXDu2gwb",
      "execution_count": 158,
      "outputs": [
        {
          "output_type": "stream",
          "name": "stdout",
          "text": [
            "None\n"
          ]
        }
      ]
    },
    {
      "cell_type": "code",
      "source": [
        "# we can give customised message also\n",
        "\n",
        "print(employee_details.get('emp3' , 'key not present'))"
      ],
      "metadata": {
        "colab": {
          "base_uri": "https://localhost:8080/"
        },
        "id": "OP1iid7c2jk3",
        "outputId": "be405e8f-2ec0-4efc-e3eb-f570963023e8"
      },
      "id": "OP1iid7c2jk3",
      "execution_count": 159,
      "outputs": [
        {
          "output_type": "stream",
          "name": "stdout",
          "text": [
            "key not present\n"
          ]
        }
      ]
    },
    {
      "cell_type": "code",
      "source": [
        "# 2. setdeafault - insert the key with the value of the deafult if the key is not in the dict, else return the\n",
        "# value of the key\n",
        "\n",
        "employee_details = { 'emp1' : {'name':'Afsan' , 'age': 23 , 'salary':70000} , 'emp2' :\n",
        "                    {'name':'rahul' , 'age': 23 , 'salary':6000}}\n",
        "\n",
        "\n",
        "# if key is present\n",
        "\n",
        "employee_details.setdefault('emp1')"
      ],
      "metadata": {
        "colab": {
          "base_uri": "https://localhost:8080/"
        },
        "id": "nhyhf0jI2ml8",
        "outputId": "9ae829fe-0cb9-47c3-b0e4-84dc39224ed0"
      },
      "id": "nhyhf0jI2ml8",
      "execution_count": 160,
      "outputs": [
        {
          "output_type": "execute_result",
          "data": {
            "text/plain": [
              "{'name': 'Afsan', 'age': 23, 'salary': 70000}"
            ]
          },
          "metadata": {},
          "execution_count": 160
        }
      ]
    },
    {
      "cell_type": "code",
      "source": [
        "# if key is not present\n",
        "\n",
        "employee_details.setdefault('emp3')"
      ],
      "metadata": {
        "id": "HN9PADvm2rUh"
      },
      "id": "HN9PADvm2rUh",
      "execution_count": 161,
      "outputs": []
    },
    {
      "cell_type": "code",
      "source": [
        "# cusotmised message\n",
        "employee_details = { 'emp1' : {'name':'Afsan' , 'age': 23 , 'salary':70000} , 'emp2' :\n",
        "                    {'name':'rahul' , 'age': 23 , 'salary':6000}}\n",
        "\n",
        "employee_details.setdefault('emp3' , 'somethingelse')"
      ],
      "metadata": {
        "colab": {
          "base_uri": "https://localhost:8080/",
          "height": 35
        },
        "id": "LlVxTvST2ud8",
        "outputId": "5bfd7092-db8f-458a-edd6-83f1abecdb79"
      },
      "id": "LlVxTvST2ud8",
      "execution_count": 162,
      "outputs": [
        {
          "output_type": "execute_result",
          "data": {
            "text/plain": [
              "'somethingelse'"
            ],
            "application/vnd.google.colaboratory.intrinsic+json": {
              "type": "string"
            }
          },
          "metadata": {},
          "execution_count": 162
        }
      ]
    },
    {
      "cell_type": "code",
      "source": [
        "# 3. update\n",
        "# - updaye method is simialr to extend in list\n",
        "\n",
        "employee_details = { 'emp1' : {'name':'Afsan' , 'age': 23 , 'salary':70000} , 'emp2' :\n",
        "                    {'name':'rahul' , 'age': 23 , 'salary':6000}}\n",
        "\n",
        "new_data = { 'emp3' : {'name':'vikas' , 'age': 23 , 'salary':70000} , 'emp4' :\n",
        "                    {'name':'anshul' , 'age': 23 , 'salary':6000}}\n",
        "\n",
        "\n",
        "employee_details.update(new_data)\n",
        "print(employee_details)"
      ],
      "metadata": {
        "colab": {
          "base_uri": "https://localhost:8080/"
        },
        "id": "_RhFyvUZ2xZq",
        "outputId": "a7a83e15-3bf1-4278-ccc7-5425481e6fa7"
      },
      "id": "_RhFyvUZ2xZq",
      "execution_count": 163,
      "outputs": [
        {
          "output_type": "stream",
          "name": "stdout",
          "text": [
            "{'emp1': {'name': 'Afsan', 'age': 23, 'salary': 70000}, 'emp2': {'name': 'rahul', 'age': 23, 'salary': 6000}, 'emp3': {'name': 'vikas', 'age': 23, 'salary': 70000}, 'emp4': {'name': 'anshul', 'age': 23, 'salary': 6000}}\n"
          ]
        }
      ]
    },
    {
      "cell_type": "code",
      "source": [
        "employee_details = {'name':'sweta' , 'gender':'female'}\n",
        "\n",
        "age = {'age':24 , 'gender':'male'}\n",
        "\n",
        "employee_details.update(age)"
      ],
      "metadata": {
        "id": "zv11bXYq20-c"
      },
      "id": "zv11bXYq20-c",
      "execution_count": 164,
      "outputs": []
    },
    {
      "cell_type": "code",
      "source": [
        "# # methods to delete the items from the dict\n",
        "\n",
        "# 1. pop\n",
        "# 2. popitem"
      ],
      "metadata": {
        "colab": {
          "base_uri": "https://localhost:8080/",
          "height": 140
        },
        "id": "7EBa1__G25Mv",
        "outputId": "4ec780b9-9bac-4e7b-88f3-340fa9eb8295"
      },
      "id": "7EBa1__G25Mv",
      "execution_count": 165,
      "outputs": [
        {
          "output_type": "error",
          "ename": "SyntaxError",
          "evalue": "ignored",
          "traceback": [
            "\u001b[0;36m  File \u001b[0;32m\"<ipython-input-165-3ad40a481c53>\"\u001b[0;36m, line \u001b[0;32m3\u001b[0m\n\u001b[0;31m    1. pop\u001b[0m\n\u001b[0m       ^\u001b[0m\n\u001b[0;31mSyntaxError\u001b[0m\u001b[0;31m:\u001b[0m invalid syntax\n"
          ]
        }
      ]
    },
    {
      "cell_type": "code",
      "source": [
        "# pop\n",
        "\"\"\"\n",
        "removes specified key and return the corresponding value, if key is not found, deafult is returned if given\n",
        "otherwise key error will be raised\n",
        "\n",
        "\"\"\"\n",
        "\n",
        "# if key is presnet\n",
        "employee_details = { 'emp1' : {'name':'Afsan' , 'age': 23 , 'salary':70000} , 'emp2' :\n",
        "                    {'name':'rahul' , 'age': 23 , 'salary':6000}}\n",
        "\n",
        "employee_details.pop('emp1')\n",
        "\n",
        "employee_details"
      ],
      "metadata": {
        "colab": {
          "base_uri": "https://localhost:8080/"
        },
        "id": "7H4PPGRD28Dk",
        "outputId": "29e3349a-b8e6-4d78-879a-ca6a13ed68f6"
      },
      "id": "7H4PPGRD28Dk",
      "execution_count": 166,
      "outputs": [
        {
          "output_type": "execute_result",
          "data": {
            "text/plain": [
              "{'emp2': {'name': 'rahul', 'age': 23, 'salary': 6000}}"
            ]
          },
          "metadata": {},
          "execution_count": 166
        }
      ]
    },
    {
      "cell_type": "code",
      "source": [
        "# if key is not presnet\n",
        "employee_details = { 'emp1' : {'name':'Afsan' , 'age': 23 , 'salary':70000} , 'emp2' :\n",
        "                    {'name':'rahul' , 'age': 23 , 'salary':6000}}\n",
        "\n",
        "employee_details.pop('emp3' , 'key is not presnet')"
      ],
      "metadata": {
        "colab": {
          "base_uri": "https://localhost:8080/",
          "height": 35
        },
        "id": "8dZPBrlj3A87",
        "outputId": "b1c7398d-b4d5-4555-8700-d8313d82cbd2"
      },
      "id": "8dZPBrlj3A87",
      "execution_count": 167,
      "outputs": [
        {
          "output_type": "execute_result",
          "data": {
            "text/plain": [
              "'key is not presnet'"
            ],
            "application/vnd.google.colaboratory.intrinsic+json": {
              "type": "string"
            }
          },
          "metadata": {},
          "execution_count": 167
        }
      ]
    },
    {
      "cell_type": "code",
      "source": [
        "# pop item\n",
        "\n",
        "# removes and return the value as tuple (key,value) from the last\n",
        "\n",
        "employee_details = { 'emp1' : {'name':'Afsan' , 'age': 23 , 'salary':70000} , 'emp2' :\n",
        "                    {'name':'rahul' , 'age': 23 , 'salary':6000}}\n",
        "\n",
        "employee_details.popitem()"
      ],
      "metadata": {
        "colab": {
          "base_uri": "https://localhost:8080/"
        },
        "id": "ZwZap4Mr3FX3",
        "outputId": "112a8815-6587-4a8b-b90e-936b1edf8e13"
      },
      "id": "ZwZap4Mr3FX3",
      "execution_count": 168,
      "outputs": [
        {
          "output_type": "execute_result",
          "data": {
            "text/plain": [
              "('emp2', {'name': 'rahul', 'age': 23, 'salary': 6000})"
            ]
          },
          "metadata": {},
          "execution_count": 168
        }
      ]
    },
    {
      "cell_type": "code",
      "source": [
        "# methods to check all the keys in a dict\n",
        "\n",
        "employee_details = { 'emp1' : {'name':'Afsan' , 'age': 23 , 'salary':70000} , 'emp2' :\n",
        "                    {'name':'rahul' , 'age': 23 , 'salary':6000}}\n",
        "\n",
        "\n",
        "employee_details.keys()"
      ],
      "metadata": {
        "colab": {
          "base_uri": "https://localhost:8080/"
        },
        "id": "t1pV9zY93I1R",
        "outputId": "2e8b17fe-a9c2-4ca5-e195-dd7a9c08877a"
      },
      "id": "t1pV9zY93I1R",
      "execution_count": 169,
      "outputs": [
        {
          "output_type": "execute_result",
          "data": {
            "text/plain": [
              "dict_keys(['emp1', 'emp2'])"
            ]
          },
          "metadata": {},
          "execution_count": 169
        }
      ]
    },
    {
      "cell_type": "code",
      "source": [
        "# methods to check all the values in a dict\n",
        "\n",
        "employee_details = { 'emp1' : {'name':'Afsan' , 'age': 23 , 'salary':70000} , 'emp2' :\n",
        "                    {'name':'rahul' , 'age': 23 , 'salary':6000}}\n",
        "\n",
        "\n",
        "employee_details.values()"
      ],
      "metadata": {
        "colab": {
          "base_uri": "https://localhost:8080/"
        },
        "id": "xipB0GOG3Lpz",
        "outputId": "6f7ea63b-14c3-4f21-cb9c-bb1e2ab26e33"
      },
      "id": "xipB0GOG3Lpz",
      "execution_count": 170,
      "outputs": [
        {
          "output_type": "execute_result",
          "data": {
            "text/plain": [
              "dict_values([{'name': 'Afsan', 'age': 23, 'salary': 70000}, {'name': 'rahul', 'age': 23, 'salary': 6000}])"
            ]
          },
          "metadata": {},
          "execution_count": 170
        }
      ]
    },
    {
      "cell_type": "code",
      "source": [
        "# methods to check all the items in a dict\n",
        "\n",
        "employee_details = { 'emp1' : {'name':'Afsan' , 'age': 23 , 'salary':70000} , 'emp2' :\n",
        "                    {'name':'rahul' , 'age': 23 , 'salary':6000}}\n",
        "\n",
        "\n",
        "employee_details.items()"
      ],
      "metadata": {
        "colab": {
          "base_uri": "https://localhost:8080/"
        },
        "id": "8RhPAkWM3OxC",
        "outputId": "9552893f-abb8-4c3a-dac6-1470a6dd27ec"
      },
      "id": "8RhPAkWM3OxC",
      "execution_count": 172,
      "outputs": [
        {
          "output_type": "execute_result",
          "data": {
            "text/plain": [
              "dict_items([('emp1', {'name': 'Afsan', 'age': 23, 'salary': 70000}), ('emp2', {'name': 'rahul', 'age': 23, 'salary': 6000})])"
            ]
          },
          "metadata": {},
          "execution_count": 172
        }
      ]
    },
    {
      "cell_type": "code",
      "source": [
        "# fromkeys\n",
        "\n",
        "a = [i for i in range(0,100)]\n",
        "data = dict.fromkeys(a , 'some data')\n",
        "data"
      ],
      "metadata": {
        "colab": {
          "base_uri": "https://localhost:8080/"
        },
        "id": "fgMvRNvI3SAH",
        "outputId": "808d5d64-b0bf-4bcc-d24d-2b35ab51e929"
      },
      "id": "fgMvRNvI3SAH",
      "execution_count": 173,
      "outputs": [
        {
          "output_type": "execute_result",
          "data": {
            "text/plain": [
              "{0: 'some data',\n",
              " 1: 'some data',\n",
              " 2: 'some data',\n",
              " 3: 'some data',\n",
              " 4: 'some data',\n",
              " 5: 'some data',\n",
              " 6: 'some data',\n",
              " 7: 'some data',\n",
              " 8: 'some data',\n",
              " 9: 'some data',\n",
              " 10: 'some data',\n",
              " 11: 'some data',\n",
              " 12: 'some data',\n",
              " 13: 'some data',\n",
              " 14: 'some data',\n",
              " 15: 'some data',\n",
              " 16: 'some data',\n",
              " 17: 'some data',\n",
              " 18: 'some data',\n",
              " 19: 'some data',\n",
              " 20: 'some data',\n",
              " 21: 'some data',\n",
              " 22: 'some data',\n",
              " 23: 'some data',\n",
              " 24: 'some data',\n",
              " 25: 'some data',\n",
              " 26: 'some data',\n",
              " 27: 'some data',\n",
              " 28: 'some data',\n",
              " 29: 'some data',\n",
              " 30: 'some data',\n",
              " 31: 'some data',\n",
              " 32: 'some data',\n",
              " 33: 'some data',\n",
              " 34: 'some data',\n",
              " 35: 'some data',\n",
              " 36: 'some data',\n",
              " 37: 'some data',\n",
              " 38: 'some data',\n",
              " 39: 'some data',\n",
              " 40: 'some data',\n",
              " 41: 'some data',\n",
              " 42: 'some data',\n",
              " 43: 'some data',\n",
              " 44: 'some data',\n",
              " 45: 'some data',\n",
              " 46: 'some data',\n",
              " 47: 'some data',\n",
              " 48: 'some data',\n",
              " 49: 'some data',\n",
              " 50: 'some data',\n",
              " 51: 'some data',\n",
              " 52: 'some data',\n",
              " 53: 'some data',\n",
              " 54: 'some data',\n",
              " 55: 'some data',\n",
              " 56: 'some data',\n",
              " 57: 'some data',\n",
              " 58: 'some data',\n",
              " 59: 'some data',\n",
              " 60: 'some data',\n",
              " 61: 'some data',\n",
              " 62: 'some data',\n",
              " 63: 'some data',\n",
              " 64: 'some data',\n",
              " 65: 'some data',\n",
              " 66: 'some data',\n",
              " 67: 'some data',\n",
              " 68: 'some data',\n",
              " 69: 'some data',\n",
              " 70: 'some data',\n",
              " 71: 'some data',\n",
              " 72: 'some data',\n",
              " 73: 'some data',\n",
              " 74: 'some data',\n",
              " 75: 'some data',\n",
              " 76: 'some data',\n",
              " 77: 'some data',\n",
              " 78: 'some data',\n",
              " 79: 'some data',\n",
              " 80: 'some data',\n",
              " 81: 'some data',\n",
              " 82: 'some data',\n",
              " 83: 'some data',\n",
              " 84: 'some data',\n",
              " 85: 'some data',\n",
              " 86: 'some data',\n",
              " 87: 'some data',\n",
              " 88: 'some data',\n",
              " 89: 'some data',\n",
              " 90: 'some data',\n",
              " 91: 'some data',\n",
              " 92: 'some data',\n",
              " 93: 'some data',\n",
              " 94: 'some data',\n",
              " 95: 'some data',\n",
              " 96: 'some data',\n",
              " 97: 'some data',\n",
              " 98: 'some data',\n",
              " 99: 'some data'}"
            ]
          },
          "metadata": {},
          "execution_count": 173
        }
      ]
    },
    {
      "cell_type": "code",
      "source": [
        "# clear\n",
        "employee_details = { 'emp1' : {'name':'Afsan' , 'age': 23 , 'salary':70000} , 'emp2' :\n",
        "                    {'name':'rahul' , 'age': 23 , 'salary':6000}}\n",
        "\n",
        "employee_details.clear()"
      ],
      "metadata": {
        "id": "FnJPKLjm3WQW"
      },
      "id": "FnJPKLjm3WQW",
      "execution_count": 174,
      "outputs": []
    },
    {
      "cell_type": "code",
      "source": [
        "# nested dict\n",
        "\n",
        "employee_data = {'emp1':{\"name\":\"afsan\" , \"age\":25, \"gender\":\"male\"},\n",
        "                'emp2':{\"name\":\"rahul\" , \"age\":32, \"gender\":\"male\"}}"
      ],
      "metadata": {
        "id": "oLbKSAax3aVI"
      },
      "id": "oLbKSAax3aVI",
      "execution_count": 175,
      "outputs": []
    },
    {
      "cell_type": "code",
      "source": [
        "# get the age of emp2\n",
        "\n",
        "employee_data['emp2']['age']"
      ],
      "metadata": {
        "colab": {
          "base_uri": "https://localhost:8080/"
        },
        "id": "duemsHyb32be",
        "outputId": "48700be5-6a1c-417b-e618-900cc1f9911b"
      },
      "id": "duemsHyb32be",
      "execution_count": 176,
      "outputs": [
        {
          "output_type": "execute_result",
          "data": {
            "text/plain": [
              "32"
            ]
          },
          "metadata": {},
          "execution_count": 176
        }
      ]
    },
    {
      "cell_type": "code",
      "source": [
        "# get - gender of employee 1\n",
        "\n",
        "employee_data[\"emp1\"].get(\"gender\")\n",
        "\n",
        "employee_data.get(\"emp1\")[\"gender\"]\n",
        "\n",
        "employee_data.get(\"emp1\").get(\"gender\")\n",
        "\n",
        "# without get\n",
        "employee_data['emp1']['gender']"
      ],
      "metadata": {
        "colab": {
          "base_uri": "https://localhost:8080/",
          "height": 35
        },
        "id": "Qs8Lyw_J35iI",
        "outputId": "dfb9d705-b009-4672-c2ed-55ee02c95590"
      },
      "id": "Qs8Lyw_J35iI",
      "execution_count": 177,
      "outputs": [
        {
          "output_type": "execute_result",
          "data": {
            "text/plain": [
              "'male'"
            ],
            "application/vnd.google.colaboratory.intrinsic+json": {
              "type": "string"
            }
          },
          "metadata": {},
          "execution_count": 177
        }
      ]
    },
    {
      "cell_type": "code",
      "source": [
        "employee_data = {'emp0':{\"name\":\"afsan\" , \"age\":25},\n",
        "                'emp2':{\"name\":\"rahul\" , \"age\":32, \"gender\":\"male\"}}\n",
        "\n",
        "print(employee_data.get(\"emp1\",{}).get(\"gender\"))"
      ],
      "metadata": {
        "colab": {
          "base_uri": "https://localhost:8080/"
        },
        "id": "VqyQ-h7V379F",
        "outputId": "1a08e958-b65f-4989-808a-ea42bb17a253"
      },
      "id": "VqyQ-h7V379F",
      "execution_count": 178,
      "outputs": [
        {
          "output_type": "stream",
          "name": "stdout",
          "text": [
            "None\n"
          ]
        }
      ]
    },
    {
      "cell_type": "code",
      "source": [
        "print(employee_data.get(\"emp1\"))"
      ],
      "metadata": {
        "colab": {
          "base_uri": "https://localhost:8080/"
        },
        "id": "tOGF2BEd3_wr",
        "outputId": "b7799e6f-9732-4ace-b9ae-183d6669e597"
      },
      "id": "tOGF2BEd3_wr",
      "execution_count": 179,
      "outputs": [
        {
          "output_type": "stream",
          "name": "stdout",
          "text": [
            "None\n"
          ]
        }
      ]
    },
    {
      "cell_type": "code",
      "source": [
        "employee_data = {'emp1':{\"name\":\"afsan\" , \"age\":25, \"gender\":\"male\"},\n",
        "                'emp2':{\"name\":\"rahul\" , \"age\":32, \"gender\":\"male\"}}\n",
        "\n",
        "employee_data['emp1']['age']=28"
      ],
      "metadata": {
        "id": "__DPu0XL4Du7"
      },
      "id": "__DPu0XL4Du7",
      "execution_count": 180,
      "outputs": []
    },
    {
      "cell_type": "code",
      "source": [
        "# dict comp\n",
        "\n",
        "data = [1,2,3,4,5,6,7]\n",
        "dict_data = {}\n",
        "for i in data:\n",
        "    dict_data[i] = i**2"
      ],
      "metadata": {
        "id": "SjwWtsyH4GS4"
      },
      "id": "SjwWtsyH4GS4",
      "execution_count": 181,
      "outputs": []
    },
    {
      "cell_type": "code",
      "source": [
        "data = [1,2,3,4,5,6,7]\n",
        "dict_data = {}\n",
        "for i in data:\n",
        "    dict_data[i] = i**2"
      ],
      "metadata": {
        "id": "dYgq6nnI4JfJ"
      },
      "id": "dYgq6nnI4JfJ",
      "execution_count": 182,
      "outputs": []
    },
    {
      "cell_type": "code",
      "source": [
        "# set"
      ],
      "metadata": {
        "id": "2UlJi3Ma4MOD"
      },
      "id": "2UlJi3Ma4MOD",
      "execution_count": 183,
      "outputs": []
    },
    {
      "cell_type": "code",
      "source": [
        "{i:i**2 for i in data if i%2==0}"
      ],
      "metadata": {
        "colab": {
          "base_uri": "https://localhost:8080/"
        },
        "id": "M65qnIqb4P8e",
        "outputId": "1c8085ef-4da5-401d-89f3-af65338d4817"
      },
      "id": "M65qnIqb4P8e",
      "execution_count": 184,
      "outputs": [
        {
          "output_type": "execute_result",
          "data": {
            "text/plain": [
              "{2: 4, 4: 16, 6: 36}"
            ]
          },
          "metadata": {},
          "execution_count": 184
        }
      ]
    },
    {
      "cell_type": "code",
      "source": [
        "data = {}\n",
        "data[1] = 4"
      ],
      "metadata": {
        "id": "sJqOU1ez4SzW"
      },
      "id": "sJqOU1ez4SzW",
      "execution_count": 185,
      "outputs": []
    },
    {
      "cell_type": "code",
      "source": [
        "# set\n",
        "\n",
        "# - collection of values\n",
        "# - it a not a seq data type\n",
        "# - indexing and slicing is noy suported\n",
        "# - collection of a unique values\n",
        "# - mutable\n",
        "# - cannot conatine mutable data type"
      ],
      "metadata": {
        "id": "0IM4nhc_4Vcn"
      },
      "id": "0IM4nhc_4Vcn",
      "execution_count": 186,
      "outputs": []
    },
    {
      "cell_type": "code",
      "source": [
        "data = {(1,),\"1\",2,3}\n",
        "data"
      ],
      "metadata": {
        "colab": {
          "base_uri": "https://localhost:8080/"
        },
        "id": "ZUjbsggx4Zhx",
        "outputId": "5016803c-a2fe-4c72-d11f-7d76a0745c75"
      },
      "id": "ZUjbsggx4Zhx",
      "execution_count": 187,
      "outputs": [
        {
          "output_type": "execute_result",
          "data": {
            "text/plain": [
              "{(1,), '1', 2, 3}"
            ]
          },
          "metadata": {},
          "execution_count": 187
        }
      ]
    },
    {
      "cell_type": "code",
      "source": [
        "print(dir(set))"
      ],
      "metadata": {
        "colab": {
          "base_uri": "https://localhost:8080/"
        },
        "id": "YUvjYm2w4fJO",
        "outputId": "a0e86fe3-d830-4adf-a134-03d3c4050770"
      },
      "id": "YUvjYm2w4fJO",
      "execution_count": 188,
      "outputs": [
        {
          "output_type": "stream",
          "name": "stdout",
          "text": [
            "['__and__', '__class__', '__class_getitem__', '__contains__', '__delattr__', '__dir__', '__doc__', '__eq__', '__format__', '__ge__', '__getattribute__', '__gt__', '__hash__', '__iand__', '__init__', '__init_subclass__', '__ior__', '__isub__', '__iter__', '__ixor__', '__le__', '__len__', '__lt__', '__ne__', '__new__', '__or__', '__rand__', '__reduce__', '__reduce_ex__', '__repr__', '__ror__', '__rsub__', '__rxor__', '__setattr__', '__sizeof__', '__str__', '__sub__', '__subclasshook__', '__xor__', 'add', 'clear', 'copy', 'difference', 'difference_update', 'discard', 'intersection', 'intersection_update', 'isdisjoint', 'issubset', 'issuperset', 'pop', 'remove', 'symmetric_difference', 'symmetric_difference_update', 'union', 'update']\n"
          ]
        }
      ]
    },
    {
      "cell_type": "code",
      "source": [
        "data = {1,2.0,True,100+7j,False,0,\"afsan\"}"
      ],
      "metadata": {
        "id": "kGhq6kdp4hkZ"
      },
      "id": "kGhq6kdp4hkZ",
      "execution_count": 189,
      "outputs": []
    },
    {
      "cell_type": "code",
      "source": [
        "# # range data type\n",
        "\n",
        "# -it is used with for loop\n",
        "\n",
        "# syntax = range(start, stop, step) - used to generate the seq if number in fwd or bwd direction\n",
        "\n",
        "# start = 0 --> inclusive\n",
        "# stop = user --> exlusive\n",
        "# step = 1"
      ],
      "metadata": {
        "id": "NMQcklft4kYH"
      },
      "id": "NMQcklft4kYH",
      "execution_count": 190,
      "outputs": []
    },
    {
      "cell_type": "code",
      "source": [
        "list(range(22,2))"
      ],
      "metadata": {
        "colab": {
          "base_uri": "https://localhost:8080/"
        },
        "id": "OAk4Xpt_4oue",
        "outputId": "eb554dc0-62d8-4721-99ec-f620a5f744fc"
      },
      "id": "OAk4Xpt_4oue",
      "execution_count": 191,
      "outputs": [
        {
          "output_type": "execute_result",
          "data": {
            "text/plain": [
              "[]"
            ]
          },
          "metadata": {},
          "execution_count": 191
        }
      ]
    },
    {
      "cell_type": "code",
      "source": [
        "list(range(22,2,-1))"
      ],
      "metadata": {
        "colab": {
          "base_uri": "https://localhost:8080/"
        },
        "id": "JtJNCJOw4wfT",
        "outputId": "e261eeac-863e-406a-a859-4b623283cd9c"
      },
      "id": "JtJNCJOw4wfT",
      "execution_count": 192,
      "outputs": [
        {
          "output_type": "execute_result",
          "data": {
            "text/plain": [
              "[22, 21, 20, 19, 18, 17, 16, 15, 14, 13, 12, 11, 10, 9, 8, 7, 6, 5, 4, 3]"
            ]
          },
          "metadata": {},
          "execution_count": 192
        }
      ]
    },
    {
      "cell_type": "code",
      "source": [
        "# write a even number from 0 to 100 using loop\n",
        "\n",
        "for i in range(101):\n",
        "    if i%2==0:\n",
        "        print(i)"
      ],
      "metadata": {
        "colab": {
          "base_uri": "https://localhost:8080/"
        },
        "id": "bFKZhh_W4zOd",
        "outputId": "1c37ee9f-5528-4f6d-b0b3-44bc9163a42b"
      },
      "id": "bFKZhh_W4zOd",
      "execution_count": 193,
      "outputs": [
        {
          "output_type": "stream",
          "name": "stdout",
          "text": [
            "0\n",
            "2\n",
            "4\n",
            "6\n",
            "8\n",
            "10\n",
            "12\n",
            "14\n",
            "16\n",
            "18\n",
            "20\n",
            "22\n",
            "24\n",
            "26\n",
            "28\n",
            "30\n",
            "32\n",
            "34\n",
            "36\n",
            "38\n",
            "40\n",
            "42\n",
            "44\n",
            "46\n",
            "48\n",
            "50\n",
            "52\n",
            "54\n",
            "56\n",
            "58\n",
            "60\n",
            "62\n",
            "64\n",
            "66\n",
            "68\n",
            "70\n",
            "72\n",
            "74\n",
            "76\n",
            "78\n",
            "80\n",
            "82\n",
            "84\n",
            "86\n",
            "88\n",
            "90\n",
            "92\n",
            "94\n",
            "96\n",
            "98\n",
            "100\n"
          ]
        }
      ]
    },
    {
      "cell_type": "code",
      "source": [
        "for i in range(0,101,2):\n",
        "    print(i)"
      ],
      "metadata": {
        "colab": {
          "base_uri": "https://localhost:8080/"
        },
        "id": "DQXf9mCJ42bY",
        "outputId": "fdacacbc-1652-49df-b089-8d0350ce8126"
      },
      "id": "DQXf9mCJ42bY",
      "execution_count": 194,
      "outputs": [
        {
          "output_type": "stream",
          "name": "stdout",
          "text": [
            "0\n",
            "2\n",
            "4\n",
            "6\n",
            "8\n",
            "10\n",
            "12\n",
            "14\n",
            "16\n",
            "18\n",
            "20\n",
            "22\n",
            "24\n",
            "26\n",
            "28\n",
            "30\n",
            "32\n",
            "34\n",
            "36\n",
            "38\n",
            "40\n",
            "42\n",
            "44\n",
            "46\n",
            "48\n",
            "50\n",
            "52\n",
            "54\n",
            "56\n",
            "58\n",
            "60\n",
            "62\n",
            "64\n",
            "66\n",
            "68\n",
            "70\n",
            "72\n",
            "74\n",
            "76\n",
            "78\n",
            "80\n",
            "82\n",
            "84\n",
            "86\n",
            "88\n",
            "90\n",
            "92\n",
            "94\n",
            "96\n",
            "98\n",
            "100\n"
          ]
        }
      ]
    },
    {
      "cell_type": "code",
      "source": [],
      "metadata": {
        "id": "rkZlkYQE453A"
      },
      "id": "rkZlkYQE453A",
      "execution_count": null,
      "outputs": []
    }
  ],
  "metadata": {
    "kernelspec": {
      "display_name": "Python 3 (ipykernel)",
      "language": "python",
      "name": "python3"
    },
    "language_info": {
      "codemirror_mode": {
        "name": "ipython",
        "version": 3
      },
      "file_extension": ".py",
      "mimetype": "text/x-python",
      "name": "python",
      "nbconvert_exporter": "python",
      "pygments_lexer": "ipython3",
      "version": "3.9.12"
    },
    "colab": {
      "provenance": []
    }
  },
  "nbformat": 4,
  "nbformat_minor": 5
}