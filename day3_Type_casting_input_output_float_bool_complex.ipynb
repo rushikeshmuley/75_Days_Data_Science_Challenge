{
  "cells": [
    {
      "cell_type": "markdown",
      "id": "c931122a",
      "metadata": {
        "id": "c931122a"
      },
      "source": [
        "# Type casting\n",
        "\n",
        "- convertig from 1 data type to another\n",
        "\n",
        "int()\n",
        "float()\n",
        "str()\n",
        "complex()\n",
        "bool()"
      ]
    },
    {
      "cell_type": "code",
      "execution_count": 1,
      "id": "f5580973",
      "metadata": {
        "id": "f5580973",
        "outputId": "2070f374-63f6-4e14-a05c-e31d52212d80",
        "colab": {
          "base_uri": "https://localhost:8080/"
        }
      },
      "outputs": [
        {
          "output_type": "stream",
          "name": "stdout",
          "text": [
            "100.0\n",
            "100 <class 'str'>\n",
            "(100+0j)\n",
            "True\n"
          ]
        }
      ],
      "source": [
        "a = 100\n",
        "\n",
        "#float\n",
        "print(float(a))\n",
        "\n",
        "#str\n",
        "print(str(a) , type(str(a)))\n",
        "\n",
        "# complex\n",
        "print(complex(a))\n",
        "\n",
        "# bool\n",
        "print(bool(a))"
      ]
    },
    {
      "cell_type": "code",
      "execution_count": 2,
      "id": "63aacde7",
      "metadata": {
        "id": "63aacde7",
        "outputId": "a3627480-ba43-46d7-a001-aab647c4c402",
        "colab": {
          "base_uri": "https://localhost:8080/"
        }
      },
      "outputs": [
        {
          "output_type": "stream",
          "name": "stdout",
          "text": [
            "True\n"
          ]
        }
      ],
      "source": [
        "a = '200'\n",
        "\n",
        "print(bool(a))"
      ]
    },
    {
      "cell_type": "code",
      "execution_count": 3,
      "id": "7a01c4a2",
      "metadata": {
        "id": "7a01c4a2",
        "outputId": "b4035c13-add2-47bc-b0e9-98e47f38e021",
        "colab": {
          "base_uri": "https://localhost:8080/"
        }
      },
      "outputs": [
        {
          "output_type": "stream",
          "name": "stdout",
          "text": [
            "100.0\n",
            "100\n"
          ]
        }
      ],
      "source": [
        "# 1 way\n",
        "\n",
        "a = 100\n",
        "\n",
        "print(float(a))\n",
        "\n",
        "print(a)"
      ]
    },
    {
      "cell_type": "code",
      "execution_count": 4,
      "id": "48855676",
      "metadata": {
        "id": "48855676",
        "outputId": "615b69ca-98d0-46e6-f8cc-eb257b9c3a15",
        "colab": {
          "base_uri": "https://localhost:8080/"
        }
      },
      "outputs": [
        {
          "output_type": "stream",
          "name": "stdout",
          "text": [
            "100.0\n"
          ]
        }
      ],
      "source": [
        "# 2nd way\n",
        "\n",
        "a = float(100)\n",
        "\n",
        "print(a)"
      ]
    },
    {
      "cell_type": "markdown",
      "id": "e6db8c37",
      "metadata": {
        "id": "e6db8c37"
      },
      "source": [
        "# input and output functions"
      ]
    },
    {
      "cell_type": "code",
      "source": [
        "input function - it is used to take the input from the user"
      ],
      "metadata": {
        "id": "925uFN-UFRns"
      },
      "id": "925uFN-UFRns",
      "execution_count": null,
      "outputs": []
    },
    {
      "cell_type": "code",
      "execution_count": 6,
      "id": "832d75ec",
      "metadata": {
        "id": "832d75ec",
        "outputId": "d8e14dc2-9e94-4132-fbed-0252f7b6b790",
        "colab": {
          "base_uri": "https://localhost:8080/"
        }
      },
      "outputs": [
        {
          "output_type": "stream",
          "name": "stdout",
          "text": [
            "210\n"
          ]
        }
      ],
      "source": [
        "num_1 = 110\n",
        "num_2 = 100\n",
        "\n",
        "print(num_1 + num_2)"
      ]
    },
    {
      "cell_type": "code",
      "execution_count": 7,
      "id": "e177179f",
      "metadata": {
        "id": "e177179f",
        "outputId": "81d0c838-27be-4ee4-9c16-2c8eb04ba4e2",
        "colab": {
          "base_uri": "https://localhost:8080/"
        }
      },
      "outputs": [
        {
          "output_type": "stream",
          "name": "stdout",
          "text": [
            "enter the number120\n",
            "120\n"
          ]
        }
      ],
      "source": [
        "num_1 = input('enter the number')\n",
        "print(num_1)"
      ]
    },
    {
      "cell_type": "code",
      "execution_count": 8,
      "id": "bb3f1eb4",
      "metadata": {
        "id": "bb3f1eb4",
        "colab": {
          "base_uri": "https://localhost:8080/"
        },
        "outputId": "c612d32e-c2fa-43ce-d9cb-6c2733cd3f81"
      },
      "outputs": [
        {
          "output_type": "stream",
          "name": "stdout",
          "text": [
            "enter the number450\n",
            "450\n"
          ]
        }
      ],
      "source": [
        "num_1 = input('enter the number')\n",
        "print(num_1)"
      ]
    },
    {
      "cell_type": "code",
      "execution_count": null,
      "id": "b9cd3f5d",
      "metadata": {
        "id": "b9cd3f5d"
      },
      "outputs": [],
      "source": [
        "#q1. what is the data type that is returend by input fucntion\n",
        "\n",
        "- strig data type"
      ]
    },
    {
      "cell_type": "code",
      "execution_count": 9,
      "id": "0b8d5070",
      "metadata": {
        "id": "0b8d5070",
        "outputId": "b07899ed-df20-4605-fe76-4e2d4b57ea48",
        "colab": {
          "base_uri": "https://localhost:8080/"
        }
      },
      "outputs": [
        {
          "output_type": "stream",
          "name": "stdout",
          "text": [
            "please enter the first number12\n",
            "please enter the second number12\n",
            "1212\n"
          ]
        }
      ],
      "source": [
        "num_1 = input('please enter the first number')\n",
        "num_2 = input('please enter the second number')\n",
        "\n",
        "print(num_1 + num_2)"
      ]
    },
    {
      "cell_type": "code",
      "execution_count": 10,
      "id": "3b4d1fc2",
      "metadata": {
        "id": "3b4d1fc2",
        "outputId": "c65f657a-c098-4a2f-c692-d8087d8fe7f5",
        "colab": {
          "base_uri": "https://localhost:8080/",
          "height": 35
        }
      },
      "outputs": [
        {
          "output_type": "execute_result",
          "data": {
            "text/plain": [
              "'afsankhan'"
            ],
            "application/vnd.google.colaboratory.intrinsic+json": {
              "type": "string"
            }
          },
          "metadata": {},
          "execution_count": 10
        }
      ],
      "source": [
        "'afsan' + 'khan'"
      ]
    },
    {
      "cell_type": "code",
      "execution_count": 11,
      "id": "84e42756",
      "metadata": {
        "id": "84e42756",
        "outputId": "0417e00c-8a0b-42bd-f6b8-2081c08f6a6f",
        "colab": {
          "base_uri": "https://localhost:8080/",
          "height": 35
        }
      },
      "outputs": [
        {
          "output_type": "execute_result",
          "data": {
            "text/plain": [
              "'100200'"
            ],
            "application/vnd.google.colaboratory.intrinsic+json": {
              "type": "string"
            }
          },
          "metadata": {},
          "execution_count": 11
        }
      ],
      "source": [
        "'100' + '200'"
      ]
    },
    {
      "cell_type": "code",
      "execution_count": 12,
      "id": "8fe68fa8",
      "metadata": {
        "id": "8fe68fa8",
        "outputId": "ca27a02d-ca04-404f-e9c6-45b686f589e0",
        "colab": {
          "base_uri": "https://localhost:8080/"
        }
      },
      "outputs": [
        {
          "output_type": "stream",
          "name": "stdout",
          "text": [
            "please enter the first number12\n",
            "please enter the second number12\n",
            "24\n"
          ]
        }
      ],
      "source": [
        "num_1 = int(input('please enter the first number'))\n",
        "num_2 = int(input('please enter the second number'))\n",
        "\n",
        "print(num_1 + num_2)"
      ]
    },
    {
      "cell_type": "code",
      "execution_count": 13,
      "id": "6840f4e2",
      "metadata": {
        "id": "6840f4e2",
        "outputId": "d27ede9b-3046-47d8-bc9a-f4b37a1b530c",
        "colab": {
          "base_uri": "https://localhost:8080/"
        }
      },
      "outputs": [
        {
          "output_type": "stream",
          "name": "stdout",
          "text": [
            "please enter the first number12\n",
            "please enter the second number12\n",
            "24\n"
          ]
        }
      ],
      "source": [
        "num_1 = int(input('please enter the first number'))\n",
        "num_2 = int(input('please enter the second number'))\n",
        "\n",
        "print(num_1 + num_2)"
      ]
    },
    {
      "cell_type": "code",
      "execution_count": 14,
      "id": "ec4c51f5",
      "metadata": {
        "id": "ec4c51f5",
        "outputId": "6a7dfc5c-c48c-4d7a-f5bb-0746ed0b7da9",
        "colab": {
          "base_uri": "https://localhost:8080/"
        }
      },
      "outputs": [
        {
          "output_type": "stream",
          "name": "stdout",
          "text": [
            "please enter the first number5\n",
            "please enter the second number8\n",
            "5 <class 'int'>\n",
            "8 <class 'int'>\n"
          ]
        }
      ],
      "source": [
        "num_1 = eval(input('please enter the first number'))\n",
        "num_2 = eval(input('please enter the second number'))\n",
        "\n",
        "print(num_1, type(num_1))\n",
        "print(num_2, type(num_2))"
      ]
    },
    {
      "cell_type": "code",
      "execution_count": 16,
      "id": "8956c1de",
      "metadata": {
        "id": "8956c1de",
        "outputId": "403bc20a-d699-4cd2-baef-5dfc0ad7f9e0",
        "colab": {
          "base_uri": "https://localhost:8080/",
          "height": 35
        }
      },
      "outputs": [
        {
          "output_type": "execute_result",
          "data": {
            "text/plain": [
              "'afsan'"
            ],
            "application/vnd.google.colaboratory.intrinsic+json": {
              "type": "string"
            }
          },
          "metadata": {},
          "execution_count": 16
        }
      ],
      "source": [
        "eval('\"afsan\"')"
      ]
    },
    {
      "cell_type": "code",
      "execution_count": 17,
      "id": "a2f6d5b1",
      "metadata": {
        "id": "a2f6d5b1",
        "outputId": "45a92aa6-5c61-43ee-bea2-47646c779ea1",
        "colab": {
          "base_uri": "https://localhost:8080/"
        }
      },
      "outputs": [
        {
          "output_type": "stream",
          "name": "stdout",
          "text": [
            "100\n"
          ]
        }
      ],
      "source": [
        "eval('print(100)')"
      ]
    },
    {
      "cell_type": "code",
      "execution_count": 18,
      "id": "34804f61",
      "metadata": {
        "id": "34804f61",
        "outputId": "4b9e022d-4b88-4cf7-ac65-af3a10dd3dbd",
        "colab": {
          "base_uri": "https://localhost:8080/",
          "height": 35
        }
      },
      "outputs": [
        {
          "output_type": "execute_result",
          "data": {
            "text/plain": [
              "'megana'"
            ],
            "application/vnd.google.colaboratory.intrinsic+json": {
              "type": "string"
            }
          },
          "metadata": {},
          "execution_count": 18
        }
      ],
      "source": [
        "eval('\"megana\"')\n",
        "\n"
      ]
    },
    {
      "cell_type": "code",
      "execution_count": 19,
      "id": "7889a08d",
      "metadata": {
        "id": "7889a08d",
        "outputId": "eaf2f72d-7cc3-43b3-b29d-c95fce50fbc6",
        "colab": {
          "base_uri": "https://localhost:8080/"
        }
      },
      "outputs": [
        {
          "output_type": "stream",
          "name": "stdout",
          "text": [
            "please enter the first number45\n",
            "please enter the second number12\n",
            "45 12\n"
          ]
        }
      ],
      "source": [
        "num_1 = eval(input('please enter the first number'))\n",
        "num_2 = eval(input('please enter the second number'))\n",
        "\n",
        "print(num_1,num_2)"
      ]
    },
    {
      "cell_type": "code",
      "execution_count": null,
      "id": "d1f946a6",
      "metadata": {
        "id": "d1f946a6"
      },
      "outputs": [],
      "source": [
        "output function\n",
        "\n",
        "print()"
      ]
    },
    {
      "cell_type": "code",
      "execution_count": 20,
      "id": "7ab0b69a",
      "metadata": {
        "id": "7ab0b69a",
        "outputId": "1a10011a-e548-41fd-d688-7837d0abab33",
        "colab": {
          "base_uri": "https://localhost:8080/"
        }
      },
      "outputs": [
        {
          "output_type": "stream",
          "name": "stdout",
          "text": [
            "102030"
          ]
        }
      ],
      "source": [
        "a = 10\n",
        "b = 20\n",
        "c = 30\n",
        "\n",
        "print(a,end='')\n",
        "print(b,end='')\n",
        "print(c,end='')"
      ]
    },
    {
      "cell_type": "code",
      "execution_count": 22,
      "id": "6bf4fa9f",
      "metadata": {
        "id": "6bf4fa9f",
        "outputId": "8664732a-ab05-487e-d585-587a6df1a463",
        "colab": {
          "base_uri": "https://localhost:8080/"
        }
      },
      "outputs": [
        {
          "output_type": "stream",
          "name": "stdout",
          "text": [
            "10 20 30\n",
            "\n"
          ]
        }
      ],
      "source": [
        "a = 10\n",
        "b = 20\n",
        "c = 30\n",
        "\n",
        "print(a,b,c,sep=' ')\n",
        "print()"
      ]
    },
    {
      "cell_type": "code",
      "execution_count": 24,
      "id": "65a4e72f",
      "metadata": {
        "id": "65a4e72f",
        "outputId": "0a1c5681-9dfc-4dfc-85fc-537cf1bb86aa",
        "colab": {
          "base_uri": "https://localhost:8080/"
        }
      },
      "outputs": [
        {
          "output_type": "stream",
          "name": "stdout",
          "text": [
            "10 20**10\n",
            "60\n",
            "30%10 20\n",
            "60-->30<--10&&&&20&&&&30&&&&60###"
          ]
        }
      ],
      "source": [
        "# question1\n",
        "\n",
        "a = 10\n",
        "b = 20\n",
        "c = a+b\n",
        "d = c+a+b\n",
        "\n",
        "print(a,b,end='**')\n",
        "print(a,d,c,sep='\\n' , end='%')\n",
        "print(a,b)\n",
        "print(d,c,sep='-->',end='<--')\n",
        "print(a,b,c,d,sep='&&&&',end='###')"
      ]
    },
    {
      "cell_type": "code",
      "execution_count": null,
      "id": "9d51e9bf",
      "metadata": {
        "id": "9d51e9bf",
        "outputId": "a2664424-7d98-419d-8e59-6a3724c13cba"
      },
      "outputs": [
        {
          "name": "stdout",
          "output_type": "stream",
          "text": [
            "10@@20\n"
          ]
        }
      ],
      "source": [
        "10 20**10\n",
        "60"
      ]
    },
    {
      "cell_type": "code",
      "execution_count": 25,
      "id": "f24c5b4b",
      "metadata": {
        "id": "f24c5b4b",
        "outputId": "c628c9c4-b4f0-4aa5-8de2-2965640b2bfe",
        "colab": {
          "base_uri": "https://localhost:8080/"
        }
      },
      "outputs": [
        {
          "output_type": "stream",
          "name": "stdout",
          "text": [
            "afsan^^100.46\n",
            "401++200++True\n",
            "\n",
            "Truehello200hello401byeTrue 401 afsan data%%afsanOO401!!True\n"
          ]
        }
      ],
      "source": [
        "a = 'afsan'\n",
        "b = 100.46\n",
        "c = True\n",
        "d = 200\n",
        "e = 400+True\n",
        "\n",
        "print(a,b,sep='^^')\n",
        "print(e,d,c,sep='++' , end = '\\n\\n')\n",
        "print(c,d,e,sep='hello',end='bye')\n",
        "print(c,e,a,'data',end='%%')\n",
        "print(a,end='OO')\n",
        "print(e,c,sep='!!')"
      ]
    },
    {
      "cell_type": "code",
      "execution_count": null,
      "id": "e3fa48b8",
      "metadata": {
        "id": "e3fa48b8"
      },
      "outputs": [],
      "source": [
        "afsan^^100.46\n",
        "401++200++True\n",
        "\n",
        "Truehello200hello401byeTrue 401 afsan data%%afsanOO401!!True"
      ]
    }
  ],
  "metadata": {
    "kernelspec": {
      "display_name": "Python 3 (ipykernel)",
      "language": "python",
      "name": "python3"
    },
    "language_info": {
      "codemirror_mode": {
        "name": "ipython",
        "version": 3
      },
      "file_extension": ".py",
      "mimetype": "text/x-python",
      "name": "python",
      "nbconvert_exporter": "python",
      "pygments_lexer": "ipython3",
      "version": "3.9.12"
    },
    "colab": {
      "provenance": []
    }
  },
  "nbformat": 4,
  "nbformat_minor": 5
}