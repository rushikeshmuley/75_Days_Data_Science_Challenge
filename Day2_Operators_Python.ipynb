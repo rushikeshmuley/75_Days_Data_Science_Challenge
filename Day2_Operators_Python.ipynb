{
  "nbformat": 4,
  "nbformat_minor": 0,
  "metadata": {
    "colab": {
      "provenance": []
    },
    "kernelspec": {
      "name": "python3",
      "display_name": "Python 3"
    },
    "language_info": {
      "name": "python"
    }
  },
  "cells": [
    {
      "cell_type": "code",
      "execution_count": null,
      "metadata": {
        "id": "8ojLPnRyeQVu"
      },
      "outputs": [],
      "source": [
        "# Arithmatic operators\n",
        "\n",
        "+ , - , /(float division) , *, //(floor division), %(modulo) , **(power)"
      ]
    },
    {
      "cell_type": "code",
      "source": [
        "print(10+20)"
      ],
      "metadata": {
        "colab": {
          "base_uri": "https://localhost:8080/"
        },
        "id": "UDcDnjhhe8jM",
        "outputId": "9a6657b5-00bd-4964-aa20-cfab997d6ccd"
      },
      "execution_count": 1,
      "outputs": [
        {
          "output_type": "stream",
          "name": "stdout",
          "text": [
            "30\n"
          ]
        }
      ]
    },
    {
      "cell_type": "code",
      "source": [
        "print(10-30)"
      ],
      "metadata": {
        "colab": {
          "base_uri": "https://localhost:8080/"
        },
        "id": "78EO2rabfCL7",
        "outputId": "303b049c-dbe4-4bd2-b4a7-5dcfd28abf91"
      },
      "execution_count": 2,
      "outputs": [
        {
          "output_type": "stream",
          "name": "stdout",
          "text": [
            "-20\n"
          ]
        }
      ]
    },
    {
      "cell_type": "code",
      "source": [
        "print(10*20)"
      ],
      "metadata": {
        "colab": {
          "base_uri": "https://localhost:8080/"
        },
        "id": "NN11A-scfFlg",
        "outputId": "16f87ff6-7bbf-4dea-d6e6-9c913402156b"
      },
      "execution_count": 3,
      "outputs": [
        {
          "output_type": "stream",
          "name": "stdout",
          "text": [
            "200\n"
          ]
        }
      ]
    },
    {
      "cell_type": "code",
      "source": [
        "print(10/2)"
      ],
      "metadata": {
        "colab": {
          "base_uri": "https://localhost:8080/"
        },
        "id": "l0uwyyZEfKQd",
        "outputId": "96b845b1-0363-4e22-bc94-85d5e8d48294"
      },
      "execution_count": 4,
      "outputs": [
        {
          "output_type": "stream",
          "name": "stdout",
          "text": [
            "5.0\n"
          ]
        }
      ]
    },
    {
      "cell_type": "code",
      "source": [
        "print(11//5)"
      ],
      "metadata": {
        "colab": {
          "base_uri": "https://localhost:8080/"
        },
        "id": "1E3ZMsw7fPBP",
        "outputId": "f041abbb-d94a-4a91-9e4b-aee2aa2b702d"
      },
      "execution_count": 5,
      "outputs": [
        {
          "output_type": "stream",
          "name": "stdout",
          "text": [
            "2\n"
          ]
        }
      ]
    },
    {
      "cell_type": "code",
      "source": [
        "print(-13//5.0)"
      ],
      "metadata": {
        "colab": {
          "base_uri": "https://localhost:8080/"
        },
        "id": "RlcaDeTofSGZ",
        "outputId": "8ba2496a-b68f-4b98-8eb4-9e491688930b"
      },
      "execution_count": 6,
      "outputs": [
        {
          "output_type": "stream",
          "name": "stdout",
          "text": [
            "-3.0\n"
          ]
        }
      ]
    },
    {
      "cell_type": "code",
      "source": [
        "# modulo Remainder\n",
        "print(12%2)"
      ],
      "metadata": {
        "colab": {
          "base_uri": "https://localhost:8080/"
        },
        "id": "J2HQQ2ejfW72",
        "outputId": "a0cf2743-cf1f-4e56-f7e0-a31a30c9ff3b"
      },
      "execution_count": 8,
      "outputs": [
        {
          "output_type": "stream",
          "name": "stdout",
          "text": [
            "0\n"
          ]
        }
      ]
    },
    {
      "cell_type": "code",
      "source": [
        "print(12%5)"
      ],
      "metadata": {
        "colab": {
          "base_uri": "https://localhost:8080/"
        },
        "id": "sdJ7xFgrfbPn",
        "outputId": "ad61a285-8536-41f3-a1a2-6c9c2fb008c3"
      },
      "execution_count": 9,
      "outputs": [
        {
          "output_type": "stream",
          "name": "stdout",
          "text": [
            "2\n"
          ]
        }
      ]
    },
    {
      "cell_type": "code",
      "source": [
        "print(2**5)"
      ],
      "metadata": {
        "colab": {
          "base_uri": "https://localhost:8080/"
        },
        "id": "j-vlkIW6fjBP",
        "outputId": "1fde080a-2907-419a-eed4-b1be08732269"
      },
      "execution_count": 10,
      "outputs": [
        {
          "output_type": "stream",
          "name": "stdout",
          "text": [
            "32\n"
          ]
        }
      ]
    },
    {
      "cell_type": "code",
      "source": [
        "print(10/2)"
      ],
      "metadata": {
        "colab": {
          "base_uri": "https://localhost:8080/"
        },
        "id": "pOSyhpskfmTC",
        "outputId": "411775fa-6d8c-414c-a590-75fbd20fa608"
      },
      "execution_count": 11,
      "outputs": [
        {
          "output_type": "stream",
          "name": "stdout",
          "text": [
            "5.0\n"
          ]
        }
      ]
    },
    {
      "cell_type": "code",
      "source": [
        "# Comparison operator\n",
        "\n",
        "> , < , <=, >= , ==\n",
        "\n",
        "- it will always give the boolean ouput - True / False\n",
        "- valid operands data types\n",
        "        - int vs int\n",
        "        - int vs float\n",
        "        - str vs str\n",
        "        - float vs float"
      ],
      "metadata": {
        "id": "SNa0-9gHfpFb"
      },
      "execution_count": null,
      "outputs": []
    },
    {
      "cell_type": "code",
      "source": [
        "a=10\n",
        "b=10\n",
        "print(a<b)"
      ],
      "metadata": {
        "colab": {
          "base_uri": "https://localhost:8080/"
        },
        "id": "G5sgppy8fx9W",
        "outputId": "3582ae66-ea09-41b9-f068-65e68cf8f4f3"
      },
      "execution_count": 12,
      "outputs": [
        {
          "output_type": "stream",
          "name": "stdout",
          "text": [
            "False\n"
          ]
        }
      ]
    },
    {
      "cell_type": "code",
      "source": [
        "a = 11.2\n",
        "b = 11.6\n",
        "print(b>=a)"
      ],
      "metadata": {
        "colab": {
          "base_uri": "https://localhost:8080/"
        },
        "id": "c0Fue2CChU2c",
        "outputId": "5663a4d5-c00d-41bd-f9fa-649ec8a2f8b8"
      },
      "execution_count": 13,
      "outputs": [
        {
          "output_type": "stream",
          "name": "stdout",
          "text": [
            "True\n"
          ]
        }
      ]
    },
    {
      "cell_type": "code",
      "source": [
        "a=100\n",
        "b=\"Rushi\"\n",
        "print(a>b)"
      ],
      "metadata": {
        "colab": {
          "base_uri": "https://localhost:8080/",
          "height": 210
        },
        "id": "a_SZn8vXhWvr",
        "outputId": "b37a287e-c77b-4f55-f995-ec5e73b1c3fe"
      },
      "execution_count": 14,
      "outputs": [
        {
          "output_type": "error",
          "ename": "TypeError",
          "evalue": "ignored",
          "traceback": [
            "\u001b[0;31m---------------------------------------------------------------------------\u001b[0m",
            "\u001b[0;31mTypeError\u001b[0m                                 Traceback (most recent call last)",
            "\u001b[0;32m<ipython-input-14-1903e9186022>\u001b[0m in \u001b[0;36m<cell line: 3>\u001b[0;34m()\u001b[0m\n\u001b[1;32m      1\u001b[0m \u001b[0ma\u001b[0m\u001b[0;34m=\u001b[0m\u001b[0;36m100\u001b[0m\u001b[0;34m\u001b[0m\u001b[0;34m\u001b[0m\u001b[0m\n\u001b[1;32m      2\u001b[0m \u001b[0mb\u001b[0m\u001b[0;34m=\u001b[0m\u001b[0;34m\"Rushi\"\u001b[0m\u001b[0;34m\u001b[0m\u001b[0;34m\u001b[0m\u001b[0m\n\u001b[0;32m----> 3\u001b[0;31m \u001b[0mprint\u001b[0m\u001b[0;34m(\u001b[0m\u001b[0ma\u001b[0m\u001b[0;34m>\u001b[0m\u001b[0mb\u001b[0m\u001b[0;34m)\u001b[0m\u001b[0;34m\u001b[0m\u001b[0;34m\u001b[0m\u001b[0m\n\u001b[0m",
            "\u001b[0;31mTypeError\u001b[0m: '>' not supported between instances of 'int' and 'str'"
          ]
        }
      ]
    },
    {
      "cell_type": "code",
      "source": [
        "a=10.2\n",
        "b=\"Enhlish\"\n",
        "print(a>b)"
      ],
      "metadata": {
        "colab": {
          "base_uri": "https://localhost:8080/",
          "height": 210
        },
        "id": "7aTQ-WvRheHk",
        "outputId": "76ba65a4-9924-472f-f805-92263d6a3bea"
      },
      "execution_count": 15,
      "outputs": [
        {
          "output_type": "error",
          "ename": "TypeError",
          "evalue": "ignored",
          "traceback": [
            "\u001b[0;31m---------------------------------------------------------------------------\u001b[0m",
            "\u001b[0;31mTypeError\u001b[0m                                 Traceback (most recent call last)",
            "\u001b[0;32m<ipython-input-15-d10386aee859>\u001b[0m in \u001b[0;36m<cell line: 3>\u001b[0;34m()\u001b[0m\n\u001b[1;32m      1\u001b[0m \u001b[0ma\u001b[0m\u001b[0;34m=\u001b[0m\u001b[0;36m10.2\u001b[0m\u001b[0;34m\u001b[0m\u001b[0;34m\u001b[0m\u001b[0m\n\u001b[1;32m      2\u001b[0m \u001b[0mb\u001b[0m\u001b[0;34m=\u001b[0m\u001b[0;34m\"Enhlish\"\u001b[0m\u001b[0;34m\u001b[0m\u001b[0;34m\u001b[0m\u001b[0m\n\u001b[0;32m----> 3\u001b[0;31m \u001b[0mprint\u001b[0m\u001b[0;34m(\u001b[0m\u001b[0ma\u001b[0m\u001b[0;34m>\u001b[0m\u001b[0mb\u001b[0m\u001b[0;34m)\u001b[0m\u001b[0;34m\u001b[0m\u001b[0;34m\u001b[0m\u001b[0m\n\u001b[0m",
            "\u001b[0;31mTypeError\u001b[0m: '>' not supported between instances of 'float' and 'str'"
          ]
        }
      ]
    },
    {
      "cell_type": "code",
      "source": [
        "a = 'learnbay'\n",
        "b = 'lesson'\n",
        "\n",
        "print(a>b)  # 97>115"
      ],
      "metadata": {
        "colab": {
          "base_uri": "https://localhost:8080/"
        },
        "id": "SfE2A0w2hlPI",
        "outputId": "fd33b574-d95b-4f81-d413-026ce5a3d04c"
      },
      "execution_count": 16,
      "outputs": [
        {
          "output_type": "stream",
          "name": "stdout",
          "text": [
            "False\n"
          ]
        }
      ]
    },
    {
      "cell_type": "code",
      "source": [
        "a = 'abcd'  # 97\n",
        "b = 'bcde'  # 98\n",
        "\n",
        "print(a<=b)"
      ],
      "metadata": {
        "colab": {
          "base_uri": "https://localhost:8080/"
        },
        "id": "gfw-7MUTh1f-",
        "outputId": "3655749f-4d9f-4494-8df7-33441a3df742"
      },
      "execution_count": 17,
      "outputs": [
        {
          "output_type": "stream",
          "name": "stdout",
          "text": [
            "True\n"
          ]
        }
      ]
    },
    {
      "cell_type": "code",
      "source": [
        "l - 108\n",
        "e - 101\n",
        "a - 97\n",
        "\n",
        "l - 108\n",
        "e - 101\n",
        "s - 115"
      ],
      "metadata": {
        "id": "ZPs13kEoh4G-"
      },
      "execution_count": null,
      "outputs": []
    },
    {
      "cell_type": "code",
      "source": [
        "1- len of the string\n",
        "2- Ascii value\n",
        "3- index value"
      ],
      "metadata": {
        "id": "_R3xZmg4h8kl"
      },
      "execution_count": null,
      "outputs": []
    },
    {
      "cell_type": "code",
      "source": [
        "100.5%99"
      ],
      "metadata": {
        "colab": {
          "base_uri": "https://localhost:8080/"
        },
        "id": "SKAKepjmiK82",
        "outputId": "232ea618-0176-488a-9931-ee7fc50d8278"
      },
      "execution_count": 18,
      "outputs": [
        {
          "output_type": "execute_result",
          "data": {
            "text/plain": [
              "1.5"
            ]
          },
          "metadata": {},
          "execution_count": 18
        }
      ]
    },
    {
      "cell_type": "code",
      "source": [
        "3. Equality operator , == , !=\n",
        "\n",
        "- i will always give the op in the form of boolean (True/False)\n",
        "- it is applicable on all the data type"
      ],
      "metadata": {
        "id": "3SQ94sHVkx0G"
      },
      "execution_count": null,
      "outputs": []
    },
    {
      "cell_type": "code",
      "source": [
        "a=\"100\"\n",
        "b=10+7j\n",
        "print(a==b)"
      ],
      "metadata": {
        "colab": {
          "base_uri": "https://localhost:8080/"
        },
        "id": "YM0CvN41kx9h",
        "outputId": "90a18576-0140-450f-c8d7-ea4bb7b0a3ae"
      },
      "execution_count": 19,
      "outputs": [
        {
          "output_type": "stream",
          "name": "stdout",
          "text": [
            "False\n"
          ]
        }
      ]
    },
    {
      "cell_type": "code",
      "source": [
        "a=\"rushi\"\n",
        "b=\"Muley\"\n",
        "\n",
        "print(a!=b)"
      ],
      "metadata": {
        "colab": {
          "base_uri": "https://localhost:8080/"
        },
        "id": "qGPlGi-wkyPR",
        "outputId": "9d9cefea-3699-4227-a135-da953395911b"
      },
      "execution_count": 20,
      "outputs": [
        {
          "output_type": "stream",
          "name": "stdout",
          "text": [
            "True\n"
          ]
        }
      ]
    },
    {
      "cell_type": "code",
      "source": [
        "4. ASCII"
      ],
      "metadata": {
        "id": "xsp6LusTk2Ec"
      },
      "execution_count": null,
      "outputs": []
    },
    {
      "cell_type": "code",
      "source": [
        "character to ascii code - ord\n",
        "\n",
        "ascii code to character - chr"
      ],
      "metadata": {
        "id": "k7MUjtMyk4E7"
      },
      "execution_count": null,
      "outputs": []
    },
    {
      "cell_type": "code",
      "source": [
        "ord('p')"
      ],
      "metadata": {
        "colab": {
          "base_uri": "https://localhost:8080/"
        },
        "id": "524hLpYAlVgf",
        "outputId": "dac4de69-32a4-4b15-ed42-789fe5294c31"
      },
      "execution_count": 22,
      "outputs": [
        {
          "output_type": "execute_result",
          "data": {
            "text/plain": [
              "112"
            ]
          },
          "metadata": {},
          "execution_count": 22
        }
      ]
    },
    {
      "cell_type": "code",
      "source": [
        "ord(\"c\")"
      ],
      "metadata": {
        "colab": {
          "base_uri": "https://localhost:8080/"
        },
        "id": "D60DM5O_lVvS",
        "outputId": "a24f5496-c71c-4540-fc39-3d60ed456733"
      },
      "execution_count": 23,
      "outputs": [
        {
          "output_type": "execute_result",
          "data": {
            "text/plain": [
              "99"
            ]
          },
          "metadata": {},
          "execution_count": 23
        }
      ]
    },
    {
      "cell_type": "code",
      "source": [
        "chr(99)"
      ],
      "metadata": {
        "colab": {
          "base_uri": "https://localhost:8080/",
          "height": 35
        },
        "id": "WNLVqlNHlWXb",
        "outputId": "98aee86b-f291-454c-8d58-9fbe73471c38"
      },
      "execution_count": 24,
      "outputs": [
        {
          "output_type": "execute_result",
          "data": {
            "text/plain": [
              "'c'"
            ],
            "application/vnd.google.colaboratory.intrinsic+json": {
              "type": "string"
            }
          },
          "metadata": {},
          "execution_count": 24
        }
      ]
    },
    {
      "cell_type": "code",
      "source": [
        "chr(1)"
      ],
      "metadata": {
        "colab": {
          "base_uri": "https://localhost:8080/",
          "height": 35
        },
        "id": "uPnTMU1HlXDm",
        "outputId": "b6176c9d-c352-45a4-de1f-d706b79ab91f"
      },
      "execution_count": 26,
      "outputs": [
        {
          "output_type": "execute_result",
          "data": {
            "text/plain": [
              "'\\x01'"
            ],
            "application/vnd.google.colaboratory.intrinsic+json": {
              "type": "string"
            }
          },
          "metadata": {},
          "execution_count": 26
        }
      ]
    },
    {
      "cell_type": "code",
      "source": [
        "chr(97)"
      ],
      "metadata": {
        "colab": {
          "base_uri": "https://localhost:8080/",
          "height": 35
        },
        "id": "FvdU9ZErlvki",
        "outputId": "c99018d7-13d9-405c-a392-fddfee3e1a0e"
      },
      "execution_count": 27,
      "outputs": [
        {
          "output_type": "execute_result",
          "data": {
            "text/plain": [
              "'a'"
            ],
            "application/vnd.google.colaboratory.intrinsic+json": {
              "type": "string"
            }
          },
          "metadata": {},
          "execution_count": 27
        }
      ]
    },
    {
      "cell_type": "code",
      "source": [
        "5. logical operators - and, or, not"
      ],
      "metadata": {
        "id": "5R4UfxrF9gtl"
      },
      "execution_count": null,
      "outputs": []
    },
    {
      "cell_type": "code",
      "source": [
        "# and truth table\n",
        "\n",
        "True and False --> False\n",
        "True and True --> True\n",
        "False and True --> False\n",
        "False and False --> False\n",
        "\n",
        "# or truth table\n",
        "\n",
        "True or False --> True\n",
        "True or True --> True\n",
        "False or True --> True\n",
        "False and False --> False\n",
        "\n",
        "# not\n",
        "\n",
        "not True --> False\n",
        "not False --> True"
      ],
      "metadata": {
        "id": "0TWXFjFm9lKr"
      },
      "execution_count": null,
      "outputs": []
    },
    {
      "cell_type": "code",
      "source": [
        "print(10 and 100)"
      ],
      "metadata": {
        "colab": {
          "base_uri": "https://localhost:8080/"
        },
        "id": "LNA8erEf_NiE",
        "outputId": "7dee3624-35e8-4155-8659-9dad3fbb71c0"
      },
      "execution_count": 28,
      "outputs": [
        {
          "output_type": "stream",
          "name": "stdout",
          "text": [
            "100\n"
          ]
        }
      ]
    },
    {
      "cell_type": "code",
      "source": [
        "print(True and False)"
      ],
      "metadata": {
        "colab": {
          "base_uri": "https://localhost:8080/"
        },
        "id": "C8dKm4h-_P7Y",
        "outputId": "9a6157e3-3804-4526-efd6-a897a05607b2"
      },
      "execution_count": 29,
      "outputs": [
        {
          "output_type": "stream",
          "name": "stdout",
          "text": [
            "False\n"
          ]
        }
      ]
    },
    {
      "cell_type": "code",
      "source": [
        "# there is small deviation when a and b are two values\n",
        "\n",
        "A and B - result will be A if A is False else B\n",
        "A or B - result will be A if A is True else B"
      ],
      "metadata": {
        "id": "V9h5DGZJ_ToT"
      },
      "execution_count": null,
      "outputs": []
    },
    {
      "cell_type": "code",
      "source": [
        "print(10 and 100)"
      ],
      "metadata": {
        "colab": {
          "base_uri": "https://localhost:8080/"
        },
        "id": "wkIgYp_N_fMa",
        "outputId": "b98cf865-07a6-45b2-cfc8-eccdf560108f"
      },
      "execution_count": 30,
      "outputs": [
        {
          "output_type": "stream",
          "name": "stdout",
          "text": [
            "100\n"
          ]
        }
      ]
    },
    {
      "cell_type": "code",
      "source": [
        "print('tushi' and 100)"
      ],
      "metadata": {
        "colab": {
          "base_uri": "https://localhost:8080/"
        },
        "id": "5kuEJk-aAXSp",
        "outputId": "d11b5a06-ba6a-41c5-bba1-f07293d10fd8"
      },
      "execution_count": 32,
      "outputs": [
        {
          "output_type": "stream",
          "name": "stdout",
          "text": [
            "100\n"
          ]
        }
      ]
    },
    {
      "cell_type": "code",
      "source": [
        "print(10 or 100)"
      ],
      "metadata": {
        "colab": {
          "base_uri": "https://localhost:8080/"
        },
        "id": "f7rTkgjrAaRJ",
        "outputId": "2d33882e-a3e6-463e-ab9b-7c4d9852bd39"
      },
      "execution_count": 33,
      "outputs": [
        {
          "output_type": "stream",
          "name": "stdout",
          "text": [
            "10\n"
          ]
        }
      ]
    },
    {
      "cell_type": "code",
      "source": [
        "int\n",
        "0 is always false and rest of the value is True\n",
        "\n",
        "float\n",
        "0.0 is false amnd rest all the value is True\n",
        "\n",
        "\n",
        "str\n",
        "\"\" is false and rest all the value is True\n",
        "\n",
        "Complex\n",
        "\n",
        "0+0j os false and rest all the value is True"
      ],
      "metadata": {
        "id": "T_pzZkgsAl2z"
      },
      "execution_count": null,
      "outputs": []
    },
    {
      "cell_type": "code",
      "source": [
        "bool(0.0001)"
      ],
      "metadata": {
        "colab": {
          "base_uri": "https://localhost:8080/"
        },
        "id": "znmcf8QIAogr",
        "outputId": "cfb274fd-f38e-42c4-97c8-d630c97f8180"
      },
      "execution_count": 34,
      "outputs": [
        {
          "output_type": "execute_result",
          "data": {
            "text/plain": [
              "True"
            ]
          },
          "metadata": {},
          "execution_count": 34
        }
      ]
    },
    {
      "cell_type": "code",
      "source": [
        "# 6. Bitwise operation - bitwsie and, bitwise or, bitwise right shift ,bitwise left shift , bitwise not\n",
        "\n",
        "- works on bits\n",
        "- works only on integer"
      ],
      "metadata": {
        "id": "aAjBIK7NBE0T"
      },
      "execution_count": null,
      "outputs": []
    },
    {
      "cell_type": "code",
      "source": [
        "a = 10\n",
        "b = 20\n",
        "\n",
        "# (& --> bitwise and)\n",
        "print(a & b)\n",
        "# step1 - convert the value into to bit value\n",
        "10 --> 1010\n",
        "20 --> 10100\n",
        "\n",
        "# step2 - do the and operation\n",
        "10 --> 0. 1. 0. 1. 0\n",
        "20 --> 1. 0. 1. 0. 0\n",
        "and--> 0. 0. 0. 0. 0\n",
        "\n",
        "# step3 - convert the op back into the integer form\n",
        "0000 --> 0"
      ],
      "metadata": {
        "id": "6v48TV-MBZT8"
      },
      "execution_count": null,
      "outputs": []
    },
    {
      "cell_type": "code",
      "source": [
        "a=10\n",
        "b=20\n",
        "print(a&b)"
      ],
      "metadata": {
        "colab": {
          "base_uri": "https://localhost:8080/"
        },
        "id": "6kLkZtvMBitl",
        "outputId": "d2045a07-ff45-43a7-f23b-1c6cbf9df5a7"
      },
      "execution_count": 36,
      "outputs": [
        {
          "output_type": "stream",
          "name": "stdout",
          "text": [
            "0\n"
          ]
        }
      ]
    },
    {
      "cell_type": "code",
      "source": [
        "a = 25\n",
        "b = 24\n",
        "\n",
        "# (| --> bitwise or)\n",
        "print(a | b)\n",
        "# step1 - convert the value into to bit value\n",
        "25 --> 11001\n",
        "24 --> 11000\n",
        "\n",
        "# step2 - do the and operation\n",
        "10 -->11001\n",
        "20 -->11000\n",
        "or--> 11001\n",
        "\n",
        "# step3 - convert the op back into the integer form\n",
        "11001 --> 25"
      ],
      "metadata": {
        "id": "2c9-OGxWBy46"
      },
      "execution_count": null,
      "outputs": []
    },
    {
      "cell_type": "code",
      "source": [
        "a = 25\n",
        "b = 24\n",
        "\n",
        "print(a | b)"
      ],
      "metadata": {
        "colab": {
          "base_uri": "https://localhost:8080/"
        },
        "id": "ET3CPdXlB1hL",
        "outputId": "2043a30e-e509-4062-f1dd-17c9d022dad6"
      },
      "execution_count": 42,
      "outputs": [
        {
          "output_type": "stream",
          "name": "stdout",
          "text": [
            "25\n"
          ]
        }
      ]
    },
    {
      "cell_type": "code",
      "source": [
        "# bitwise right shift - A // (2 ** n) --> >>\n",
        "\n",
        "a = 100\n",
        "print(a >> 5)"
      ],
      "metadata": {
        "colab": {
          "base_uri": "https://localhost:8080/"
        },
        "id": "-NL5fwjkB7Ot",
        "outputId": "24880cad-fdec-457c-e124-12ab7d0fab9b"
      },
      "execution_count": 43,
      "outputs": [
        {
          "output_type": "stream",
          "name": "stdout",
          "text": [
            "3\n"
          ]
        }
      ]
    },
    {
      "cell_type": "code",
      "source": [
        "100 // (2 ** 5)"
      ],
      "metadata": {
        "colab": {
          "base_uri": "https://localhost:8080/"
        },
        "id": "JDeGb8QTCqvF",
        "outputId": "8ec2ab85-10cc-441e-84c8-00fec12c0fc4"
      },
      "execution_count": 44,
      "outputs": [
        {
          "output_type": "execute_result",
          "data": {
            "text/plain": [
              "3"
            ]
          },
          "metadata": {},
          "execution_count": 44
        }
      ]
    },
    {
      "cell_type": "code",
      "source": [
        "# bitwise left shift - A * (2 ** n) --> <<\n",
        "\n",
        "a = 100\n",
        "print(a << 5)"
      ],
      "metadata": {
        "colab": {
          "base_uri": "https://localhost:8080/"
        },
        "id": "o9OJVzFNCtpC",
        "outputId": "38cacdc2-6670-426b-db3f-e05a673256c7"
      },
      "execution_count": 45,
      "outputs": [
        {
          "output_type": "stream",
          "name": "stdout",
          "text": [
            "3200\n"
          ]
        }
      ]
    },
    {
      "cell_type": "code",
      "source": [
        "100 * (2 ** 5)"
      ],
      "metadata": {
        "colab": {
          "base_uri": "https://localhost:8080/"
        },
        "id": "w6a8suqVC4TB",
        "outputId": "b52d48c9-1e57-439d-f2f3-85d0664aa526"
      },
      "execution_count": 46,
      "outputs": [
        {
          "output_type": "execute_result",
          "data": {
            "text/plain": [
              "3200"
            ]
          },
          "metadata": {},
          "execution_count": 46
        }
      ]
    },
    {
      "cell_type": "code",
      "source": [
        "bitwise operator\n",
        "\n",
        "bitwise and\n",
        "bitwise or\n",
        "bitwise right shift\n",
        "bitwise left shift\n",
        "\n",
        "bitwise xor\n",
        "bitwise not"
      ],
      "metadata": {
        "id": "ZuFh2wlQC8H9"
      },
      "execution_count": null,
      "outputs": []
    },
    {
      "cell_type": "code",
      "source": [
        "# bitwise xor\n",
        "\n",
        "x = 10\n",
        "y = 24\n",
        "\n",
        "print(x ^ y)\n",
        "\n",
        "# step 1 -\n",
        "10 --> 1010\n",
        "24 --> 11000\n",
        "\n",
        "# step 2 -\n",
        "\n",
        "0 1 0 1 0\n",
        "1 1 0 0 0\n",
        "1 0 0 1 0\n",
        "\n",
        "# step 3-\n",
        "10010 --> 18"
      ],
      "metadata": {
        "id": "UGsDzuEBDrRQ"
      },
      "execution_count": null,
      "outputs": []
    },
    {
      "cell_type": "code",
      "source": [
        "x = 10\n",
        "y = 24\n",
        "\n",
        "print(x ^ y)"
      ],
      "metadata": {
        "colab": {
          "base_uri": "https://localhost:8080/"
        },
        "id": "s4OgVGdTDt8F",
        "outputId": "9215da99-53f3-47cc-bfbc-563448c65839"
      },
      "execution_count": 47,
      "outputs": [
        {
          "output_type": "stream",
          "name": "stdout",
          "text": [
            "18\n"
          ]
        }
      ]
    },
    {
      "cell_type": "code",
      "source": [
        "# bitwise not\n",
        "\n",
        "'''add 1 to a number\n",
        "and reverse the sig of it'''\n",
        "\n",
        "a = 100\n",
        "print(~a)"
      ],
      "metadata": {
        "colab": {
          "base_uri": "https://localhost:8080/"
        },
        "id": "-yo40_i4DvxU",
        "outputId": "86d51afc-7a1a-4821-e80c-8d322877ed3b"
      },
      "execution_count": 49,
      "outputs": [
        {
          "output_type": "stream",
          "name": "stdout",
          "text": [
            "-101\n"
          ]
        }
      ]
    },
    {
      "cell_type": "code",
      "source": [
        "a = -99\n",
        "print(~a)"
      ],
      "metadata": {
        "colab": {
          "base_uri": "https://localhost:8080/"
        },
        "id": "apRPtYSQD1rR",
        "outputId": "db621456-625a-45f9-854c-7be43879ace2"
      },
      "execution_count": 48,
      "outputs": [
        {
          "output_type": "stream",
          "name": "stdout",
          "text": [
            "98\n"
          ]
        }
      ]
    },
    {
      "cell_type": "code",
      "source": [
        "# assignment operator / Compound operator\n",
        "\n",
        "# -> assign 10 to a varibale y\n",
        "# -> add 5 to a varibale y and resaagin it\n",
        "\n",
        "y = 10\n",
        "y = y + 5\n",
        "\n",
        "print(y)"
      ],
      "metadata": {
        "colab": {
          "base_uri": "https://localhost:8080/"
        },
        "id": "JveFC-7QD3lM",
        "outputId": "2e995b0c-e283-490e-ad52-6d98d53317e6"
      },
      "execution_count": 50,
      "outputs": [
        {
          "output_type": "stream",
          "name": "stdout",
          "text": [
            "15\n"
          ]
        }
      ]
    },
    {
      "cell_type": "code",
      "source": [
        "y=10\n",
        "y %=5\n",
        "print(y)"
      ],
      "metadata": {
        "colab": {
          "base_uri": "https://localhost:8080/"
        },
        "id": "LjOgN6JdEGyb",
        "outputId": "3ccb6543-45f2-43bb-df85-b04277fc1ae1"
      },
      "execution_count": 51,
      "outputs": [
        {
          "output_type": "stream",
          "name": "stdout",
          "text": [
            "0\n"
          ]
        }
      ]
    },
    {
      "cell_type": "code",
      "source": [
        "//=\n",
        "\n",
        "*=\n",
        "\n",
        "/=\n",
        "\n",
        "**=\n",
        "\n",
        "&=\n",
        "\n",
        "|=\n",
        "\n",
        "^=\n",
        "\n",
        ">>=\n",
        "\n",
        "<<="
      ],
      "metadata": {
        "id": "yk_tC4s2Fgwf"
      },
      "execution_count": null,
      "outputs": []
    },
    {
      "cell_type": "code",
      "source": [
        "x = 10\n",
        "a = 100\n",
        "b = 10\n",
        "\n",
        "print(id(x))\n",
        "print(id(a))\n",
        "print(id(b))"
      ],
      "metadata": {
        "colab": {
          "base_uri": "https://localhost:8080/"
        },
        "id": "XfpEDmRiFpFR",
        "outputId": "9060ae34-7816-4da1-ce58-bbfb81640aa5"
      },
      "execution_count": 52,
      "outputs": [
        {
          "output_type": "stream",
          "name": "stdout",
          "text": [
            "140484680614416\n",
            "140484680617296\n",
            "140484680614416\n"
          ]
        }
      ]
    },
    {
      "cell_type": "code",
      "source": [
        "# identity operator\n",
        "\n",
        "- it is use to tell if the memory address of 2 varibale is same or not\n",
        "- it will always give the output in the form of Bool ( True/false)\n",
        "- is and is not"
      ],
      "metadata": {
        "id": "yxKpSiqxaPPx"
      },
      "execution_count": null,
      "outputs": []
    },
    {
      "cell_type": "code",
      "source": [
        "a = 10\n",
        "b = 200\n",
        "c = 10\n",
        "\n",
        "print(a is c)"
      ],
      "metadata": {
        "colab": {
          "base_uri": "https://localhost:8080/"
        },
        "id": "6Ive68AOae2r",
        "outputId": "58252253-7990-49f2-8bd4-36c120ee3da4"
      },
      "execution_count": 53,
      "outputs": [
        {
          "output_type": "stream",
          "name": "stdout",
          "text": [
            "True\n"
          ]
        }
      ]
    },
    {
      "cell_type": "code",
      "source": [
        "a = 10\n",
        "b = 200\n",
        "c = 200\n",
        "\n",
        "print(b is not c)"
      ],
      "metadata": {
        "colab": {
          "base_uri": "https://localhost:8080/"
        },
        "id": "hg8Bi08Rai9S",
        "outputId": "9119029f-550a-4c7c-8cd1-5c5c31342704"
      },
      "execution_count": 54,
      "outputs": [
        {
          "output_type": "stream",
          "name": "stdout",
          "text": [
            "False\n"
          ]
        }
      ]
    },
    {
      "cell_type": "code",
      "source": [
        "a = 10\n",
        "b = 10\n",
        "c = 960\n",
        "d = 960"
      ],
      "metadata": {
        "id": "18NRwLA2akoZ"
      },
      "execution_count": 55,
      "outputs": []
    },
    {
      "cell_type": "code",
      "source": [
        "c is not d"
      ],
      "metadata": {
        "colab": {
          "base_uri": "https://localhost:8080/"
        },
        "id": "A5EW424pa4w9",
        "outputId": "9a4003b0-ab3d-41c2-d634-caf00c59ca85"
      },
      "execution_count": 56,
      "outputs": [
        {
          "output_type": "execute_result",
          "data": {
            "text/plain": [
              "True"
            ]
          },
          "metadata": {},
          "execution_count": 56
        }
      ]
    },
    {
      "cell_type": "code",
      "source": [
        "a is b"
      ],
      "metadata": {
        "colab": {
          "base_uri": "https://localhost:8080/"
        },
        "id": "d6gUCzLIa67q",
        "outputId": "b869efc2-3ca0-444d-acfa-ac163f1c27e0"
      },
      "execution_count": 57,
      "outputs": [
        {
          "output_type": "execute_result",
          "data": {
            "text/plain": [
              "True"
            ]
          },
          "metadata": {},
          "execution_count": 57
        }
      ]
    },
    {
      "cell_type": "code",
      "source": [
        "a is not d"
      ],
      "metadata": {
        "colab": {
          "base_uri": "https://localhost:8080/"
        },
        "id": "3N6NeuP4e4UP",
        "outputId": "d575ac70-22da-4832-f40e-e7f9715dbd54"
      },
      "execution_count": 58,
      "outputs": [
        {
          "output_type": "execute_result",
          "data": {
            "text/plain": [
              "True"
            ]
          },
          "metadata": {},
          "execution_count": 58
        }
      ]
    },
    {
      "cell_type": "code",
      "source": [
        "c is not d"
      ],
      "metadata": {
        "colab": {
          "base_uri": "https://localhost:8080/"
        },
        "id": "Pr5xUd7Oe6yV",
        "outputId": "1b59f97b-bb12-44c9-daee-e5becc71b4ce"
      },
      "execution_count": 59,
      "outputs": [
        {
          "output_type": "execute_result",
          "data": {
            "text/plain": [
              "True"
            ]
          },
          "metadata": {},
          "execution_count": 59
        }
      ]
    },
    {
      "cell_type": "code",
      "source": [
        "# object reusabilty\n",
        "\n",
        "# rules\n",
        "\n",
        "int --> -5 to 256"
      ],
      "metadata": {
        "id": "_haYw3kGfNFg"
      },
      "execution_count": null,
      "outputs": []
    },
    {
      "cell_type": "code",
      "source": [
        "bit -\n",
        "image - 0 - 255"
      ],
      "metadata": {
        "id": "hGWnNK2ufQlb"
      },
      "execution_count": null,
      "outputs": []
    },
    {
      "cell_type": "code",
      "source": [
        "a = 257\n",
        "b = 257\n",
        "print(a is b)"
      ],
      "metadata": {
        "colab": {
          "base_uri": "https://localhost:8080/"
        },
        "id": "jS4HYAQefT8J",
        "outputId": "1d1d2957-765a-455b-a2da-d83a90f5acb4"
      },
      "execution_count": 61,
      "outputs": [
        {
          "output_type": "stream",
          "name": "stdout",
          "text": [
            "False\n"
          ]
        }
      ]
    },
    {
      "cell_type": "code",
      "source": [
        "garbage collector\n",
        "object reusabity\n",
        "rules for int in object\n",
        "stack and heap --> bts of each python file\n",
        "Identity operator"
      ],
      "metadata": {
        "id": "gmuz4dR1fUx9"
      },
      "execution_count": null,
      "outputs": []
    },
    {
      "cell_type": "code",
      "source": [
        "a = 10.8\n",
        "b = 10.8\n",
        "print(a is b)"
      ],
      "metadata": {
        "colab": {
          "base_uri": "https://localhost:8080/"
        },
        "id": "kocLAFJgfXAJ",
        "outputId": "a3d3bc8b-6019-44f3-e82c-d0d436c69acf"
      },
      "execution_count": 62,
      "outputs": [
        {
          "output_type": "stream",
          "name": "stdout",
          "text": [
            "False\n"
          ]
        }
      ]
    },
    {
      "cell_type": "code",
      "source": [
        "# object resuabilty\n",
        "\n",
        "int - -5 to 256\n",
        "float - not applicable\n",
        "string - a-z,A-Z,0-9,_"
      ],
      "metadata": {
        "id": "Nv1sS3PxfaeU"
      },
      "execution_count": null,
      "outputs": []
    },
    {
      "cell_type": "code",
      "source": [
        "a = 'abc$'\n",
        "b = 'abc$'\n",
        "\n",
        "print(type(a))"
      ],
      "metadata": {
        "colab": {
          "base_uri": "https://localhost:8080/"
        },
        "id": "jrCCsDIUffhZ",
        "outputId": "58d76327-976d-4ab0-ced4-60c3fc9e9056"
      },
      "execution_count": 63,
      "outputs": [
        {
          "output_type": "stream",
          "name": "stdout",
          "text": [
            "<class 'str'>\n"
          ]
        }
      ]
    },
    {
      "cell_type": "code",
      "source": [
        "# ternary operator\n",
        "\n",
        "syntax\n",
        "    - expr1 if cond1 else expr2 -> result is expr1 if cond1 is True esle result will be expr2\n",
        "    - expr1 if cond1 else expr2 if cond2 else expr3"
      ],
      "metadata": {
        "id": "nbqqpKeffr0_"
      },
      "execution_count": null,
      "outputs": []
    },
    {
      "cell_type": "code",
      "source": [
        "print('messi' if 400<200 else 'ronaldo')"
      ],
      "metadata": {
        "colab": {
          "base_uri": "https://localhost:8080/"
        },
        "id": "nJKVr3FHgIZ8",
        "outputId": "296da4b9-4eb8-485a-e5ac-c16ad85e541c"
      },
      "execution_count": 64,
      "outputs": [
        {
          "output_type": "stream",
          "name": "stdout",
          "text": [
            "ronaldo\n"
          ]
        }
      ]
    },
    {
      "cell_type": "code",
      "source": [
        "print('messi' if True!=1 else 'ronaldo')"
      ],
      "metadata": {
        "colab": {
          "base_uri": "https://localhost:8080/"
        },
        "id": "S_g2hpm7gPqc",
        "outputId": "73198787-7360-4d92-e5cc-c6441735e39e"
      },
      "execution_count": 65,
      "outputs": [
        {
          "output_type": "stream",
          "name": "stdout",
          "text": [
            "ronaldo\n"
          ]
        }
      ]
    },
    {
      "cell_type": "code",
      "source": [
        "print('messi' if 100 != 200 else 'ronaldo' if 'abc'=='abc' else 'mbappe')"
      ],
      "metadata": {
        "colab": {
          "base_uri": "https://localhost:8080/"
        },
        "id": "IAc8U_7lgR6m",
        "outputId": "640c4c33-be40-48dc-f388-548b9c60642b"
      },
      "execution_count": 66,
      "outputs": [
        {
          "output_type": "stream",
          "name": "stdout",
          "text": [
            "messi\n"
          ]
        }
      ]
    },
    {
      "cell_type": "code",
      "source": [
        "# bin , oct , hexa\n",
        "\n",
        "# bin - bin , 0b , 0and1\n",
        "\n",
        "a = 78\n",
        "bin(a)\n",
        "print(0b1001110)"
      ],
      "metadata": {
        "colab": {
          "base_uri": "https://localhost:8080/"
        },
        "id": "fSN4_u4kgUaY",
        "outputId": "ba964e1a-cf68-40a9-c600-cf2eddae4678"
      },
      "execution_count": 67,
      "outputs": [
        {
          "output_type": "stream",
          "name": "stdout",
          "text": [
            "78\n"
          ]
        }
      ]
    },
    {
      "cell_type": "code",
      "source": [
        "# oct - oct , 0o , 0to7\n",
        "\n",
        "a = 78\n",
        "oct(a)\n",
        "print(0o116)"
      ],
      "metadata": {
        "colab": {
          "base_uri": "https://localhost:8080/"
        },
        "id": "oNGptOdDgbcB",
        "outputId": "ed783407-d4ef-4bf2-c94f-5813d455b35c"
      },
      "execution_count": 68,
      "outputs": [
        {
          "output_type": "stream",
          "name": "stdout",
          "text": [
            "78\n"
          ]
        }
      ]
    },
    {
      "cell_type": "code",
      "source": [
        "# hexa - hex , 0x , 0-9 a-f\n",
        "\n",
        "a = 78\n",
        "hex(a)\n",
        "print(0x4e)"
      ],
      "metadata": {
        "colab": {
          "base_uri": "https://localhost:8080/"
        },
        "id": "7wMTwst-ghCS",
        "outputId": "30760f59-0447-45b1-eb20-cd434a69c887"
      },
      "execution_count": 69,
      "outputs": [
        {
          "output_type": "stream",
          "name": "stdout",
          "text": [
            "78\n"
          ]
        }
      ]
    },
    {
      "cell_type": "code",
      "source": [
        "# operator precedence\n",
        "\n",
        "()\n",
        "**\n",
        "+x, -x, ~x\n",
        "*,/,//,%\n",
        "+,-\n",
        "<< , >>\n",
        "&\n",
        "^\n",
        "|\n",
        "== , !=. > , >= , < , <= , is, is not, in , not in\n",
        "not\n",
        "and\n",
        "or"
      ],
      "metadata": {
        "id": "MdqueEz6gkRo"
      },
      "execution_count": null,
      "outputs": []
    }
  ]
}