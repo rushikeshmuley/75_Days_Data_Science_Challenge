{
  "cells": [
    {
      "cell_type": "markdown",
      "id": "f0f3cfe9",
      "metadata": {
        "id": "f0f3cfe9"
      },
      "source": [
        "# Python Programming components\n",
        "\n",
        "1. Literals\n",
        "2. variables\n",
        "3. Identifiers\n",
        "4. Reserved words\n",
        "5. Statments and expressions\n",
        "6. Block and indentation\n",
        "7. comments"
      ]
    },
    {
      "cell_type": "code",
      "execution_count": null,
      "id": "828fc79c",
      "metadata": {
        "id": "828fc79c"
      },
      "outputs": [],
      "source": [
        "# Literals\n",
        "\n",
        "- any value that you use in the programming language\n",
        "\n",
        "In python we have differnt types of literals\n",
        "\n",
        "1. int literals - any value without a decimal point ex - 10,-999 , 999 , 2000\n",
        "2. float literals - any value with a decimal point eg - 10.2 , -999.0 , 2000.9999\n",
        "3. complex literals - anything that can be written in the form of a+bj where a is real and b is the imag eg 100+7j\n",
        "4. Boolean literals - True/False\n",
        "5. string literals - anything that can be written inside a '...' , \"...\" , '''...''' ,. \"\"\"...\"\"\""
      ]
    },
    {
      "cell_type": "markdown",
      "id": "613c2d2f",
      "metadata": {
        "id": "613c2d2f"
      },
      "source": [
        "15 literals\n",
        "\n",
        "11 - int\n",
        "\n",
        "12.9 - float\n",
        "\n",
        "abc - not a literal\n",
        "\n",
        "'learnbay' - str\n",
        "\n",
        "33 - int\n",
        "\n",
        "-8989 - int\n",
        "\n",
        "'898' - string\n",
        "\n",
        "true - not a literals\n",
        "\n",
        "False - bool\n",
        "\n",
        "\"\"\"-0\"\"\" - string\n",
        "\n",
        "'6+7j' - string\n",
        "\n",
        "9+0j - complex\n",
        "\n",
        "classes - not a literals\n"
      ]
    },
    {
      "cell_type": "markdown",
      "id": "d0b3c368",
      "metadata": {
        "id": "d0b3c368"
      },
      "source": [
        "# Varibales"
      ]
    },
    {
      "cell_type": "code",
      "execution_count": null,
      "id": "8a95286f",
      "metadata": {
        "id": "8a95286f"
      },
      "outputs": [],
      "source": [
        "x = 40\n",
        "\n",
        "x - variable\n",
        "= - operator\n",
        "40 = value/literal"
      ]
    },
    {
      "cell_type": "markdown",
      "id": "5cad3b59",
      "metadata": {
        "id": "5cad3b59"
      },
      "source": [
        "# Identifiers\n",
        "\n",
        "- any name given to a variable, fucntion , classes\n",
        "\n",
        "Rules:\n",
        "\n",
        "1. allowed char - A-Z, a-z, 0-9, _\n",
        "2. not allowed char - special char\n",
        "3. cannot start with a number - 0-9\n",
        "4. it is case sensitive\n",
        "5. it can be of any length\n",
        "6. cannot use the reserved words / keywords"
      ]
    },
    {
      "cell_type": "code",
      "source": [
        "# 1. allowed char - A-Z, a-z, 0-9, _ = 20\n",
        "\n",
        "rushikesh\n",
        "Rushi11\n",
        "_rushi"
      ],
      "metadata": {
        "id": "ly4CLwOYwL5I"
      },
      "id": "ly4CLwOYwL5I",
      "execution_count": null,
      "outputs": []
    },
    {
      "cell_type": "code",
      "execution_count": null,
      "id": "6f96ea12",
      "metadata": {
        "id": "6f96ea12"
      },
      "outputs": [],
      "source": [
        "# 2. not allowed char - special char\n",
        "\n",
        "Rushi$\n",
        "rushikesh*"
      ]
    },
    {
      "cell_type": "code",
      "execution_count": null,
      "id": "0bb00546",
      "metadata": {
        "id": "0bb00546"
      },
      "outputs": [],
      "source": [
        "# 3. cannot start with a number - 0-9\n",
        "\n",
        "Rushikesh1 - valid\n",
        "1rushikesh - invalid"
      ]
    },
    {
      "cell_type": "code",
      "execution_count": null,
      "id": "5bccc49a",
      "metadata": {
        "id": "5bccc49a",
        "outputId": "fe5206fd-7689-4d17-c3af-414c7f82513f",
        "colab": {
          "base_uri": "https://localhost:8080/"
        }
      },
      "outputs": [
        {
          "output_type": "stream",
          "name": "stdout",
          "text": [
            "100\n"
          ]
        }
      ],
      "source": [
        "# 4. it is case sensitive\n",
        "\n",
        "rushi = 10\n",
        "Rushi= 100\n",
        "\n",
        "print(Rushi)"
      ]
    },
    {
      "cell_type": "code",
      "execution_count": null,
      "id": "0591eae3",
      "metadata": {
        "id": "0591eae3",
        "outputId": "46f91acd-12f5-44aa-9192-5d4ea5c9fe35",
        "colab": {
          "base_uri": "https://localhost:8080/"
        }
      },
      "outputs": [
        {
          "output_type": "stream",
          "name": "stdout",
          "text": [
            "100\n"
          ]
        }
      ],
      "source": [
        "# 5. it can be of any length\n",
        "\n",
        "asfdasdffasdfasdfasdfasdfadsfadsfsdfasdfsfasfd = 100\n",
        "print(asfdasdffasdfasdfasdfasdfadsfadsfsdfasdfsfasfd)"
      ]
    },
    {
      "cell_type": "code",
      "execution_count": null,
      "id": "2f39339d",
      "metadata": {
        "id": "2f39339d",
        "outputId": "9cd0009a-3a72-474e-9f48-4535efb57c75",
        "colab": {
          "base_uri": "https://localhost:8080/"
        }
      },
      "outputs": [
        {
          "output_type": "stream",
          "name": "stdout",
          "text": [
            "['False', 'None', 'True', 'and', 'as', 'assert', 'async', 'await', 'break', 'class', 'continue', 'def', 'del', 'elif', 'else', 'except', 'finally', 'for', 'from', 'global', 'if', 'import', 'in', 'is', 'lambda', 'nonlocal', 'not', 'or', 'pass', 'raise', 'return', 'try', 'while', 'with', 'yield']\n"
          ]
        }
      ],
      "source": [
        "# 6. cannot use the reserved words / keywords\n",
        "import keyword\n",
        "\n",
        "print(keyword.kwlist)"
      ]
    },
    {
      "cell_type": "markdown",
      "id": "baf9a158",
      "metadata": {
        "id": "baf9a158"
      },
      "source": [
        "messi11 - valid\n",
        "\n",
        "07ronaldo - invalid\n",
        "\n",
        "false - valid\n",
        "\n",
        "Try - valid\n",
        "\n",
        "Rushikesh - valid\n",
        "\n",
        "Learn_bay - valid\n",
        "\n",
        "__python__ - valid\n",
        "\n",
        "pyhton-class - invalid\n",
        "\n",
        "Global - valid\n",
        "\n",
        "if - invalid\n",
        "\n",
        "pass - invalid\n",
        "\n",
        "And - valid\n",
        "\n",
        "ronaldo11# - invalid\n",
        "\n",
        "in_is - valid\n",
        "\n",
        "With - valid"
      ]
    },
    {
      "cell_type": "markdown",
      "source": [
        "# Statments and expressions\n",
        "\n",
        "**expressions** - combination of varibale and literals to give some values , so expresion will always give an output\n",
        "\n",
        "**statment** - does not return any output"
      ],
      "metadata": {
        "id": "DaIydk5FyDqA"
      },
      "id": "DaIydk5FyDqA"
    },
    {
      "cell_type": "code",
      "source": [
        "a=10\n",
        "print(10)"
      ],
      "metadata": {
        "id": "ui8Ccemdvkvt",
        "outputId": "07b34e41-3dda-4908-beb9-a12d754b8016",
        "colab": {
          "base_uri": "https://localhost:8080/"
        }
      },
      "id": "ui8Ccemdvkvt",
      "execution_count": null,
      "outputs": [
        {
          "output_type": "stream",
          "name": "stdout",
          "text": [
            "10\n"
          ]
        }
      ]
    },
    {
      "cell_type": "code",
      "source": [
        "for i in range(10):\n",
        "  pass"
      ],
      "metadata": {
        "id": "dJLu0Y8yyjk0"
      },
      "id": "dJLu0Y8yyjk0",
      "execution_count": null,
      "outputs": []
    },
    {
      "cell_type": "code",
      "source": [
        "# Block and indentation"
      ],
      "metadata": {
        "id": "tEzQwKGdypuX"
      },
      "id": "tEzQwKGdypuX",
      "execution_count": null,
      "outputs": []
    },
    {
      "cell_type": "code",
      "source": [
        "a=30\n",
        "b=400\n",
        "\n",
        "if a>b:\n",
        "  print(\"Hello\")\n",
        "else:\n",
        "  print(\"Bye\")"
      ],
      "metadata": {
        "id": "OdDKPIq0yvDp",
        "outputId": "15919d08-acf3-4828-b4ee-15f0dfaaf00a",
        "colab": {
          "base_uri": "https://localhost:8080/"
        }
      },
      "id": "OdDKPIq0yvDp",
      "execution_count": null,
      "outputs": [
        {
          "output_type": "stream",
          "name": "stdout",
          "text": [
            "Bye\n"
          ]
        }
      ]
    },
    {
      "cell_type": "code",
      "source": [
        "# comments\n",
        "\n",
        "- Comments can be used to explain the python code\n",
        "- comment can be used to make code more readable\n",
        "- comment can be used to prevent exec of the code"
      ],
      "metadata": {
        "id": "nGBBxRiMzAdj"
      },
      "id": "nGBBxRiMzAdj",
      "execution_count": null,
      "outputs": []
    },
    {
      "cell_type": "code",
      "source": [
        "''' Area_of_Square  '''"
      ],
      "metadata": {
        "id": "BwToAl2S8vp1",
        "outputId": "82b17cd6-ecc3-4e2f-fc50-e7e6c0a91659",
        "colab": {
          "base_uri": "https://localhost:8080/",
          "height": 35
        }
      },
      "id": "BwToAl2S8vp1",
      "execution_count": null,
      "outputs": [
        {
          "output_type": "execute_result",
          "data": {
            "text/plain": [
              "' Area_of_Square  '"
            ],
            "application/vnd.google.colaboratory.intrinsic+json": {
              "type": "string"
            }
          },
          "metadata": {},
          "execution_count": 14
        }
      ]
    },
    {
      "cell_type": "code",
      "source": [
        "# Program to calculate the area of square\n",
        "# value of pi\n",
        "pi=3.14\n",
        "# side of Squarr=18\n",
        "r=18\n",
        "area=r*r\n",
        "print(\"Area of square: \",area)"
      ],
      "metadata": {
        "id": "XfXi1h9IzH_c",
        "outputId": "78fca74a-327a-4200-d858-e4226b7842ec",
        "colab": {
          "base_uri": "https://localhost:8080/"
        }
      },
      "id": "XfXi1h9IzH_c",
      "execution_count": null,
      "outputs": [
        {
          "output_type": "stream",
          "name": "stdout",
          "text": [
            "Area of square:  324\n"
          ]
        }
      ]
    },
    {
      "cell_type": "markdown",
      "source": [
        "# Data types\n",
        "\n",
        "- fundamental datatypes - it is a basic data type thatb we have\n",
        "1. int data type\n",
        "2. float data type\n",
        "3. str data type\n",
        "4. None data type\n",
        "5. Boolean data type\n",
        "6. Complex data type\n",
        "\n",
        "\n",
        "- derived data types - it is derived from the fundamental data type\n",
        "list\n",
        "\n",
        "tuple\n",
        "\n",
        "set\n",
        "\n",
        "dict\n",
        "\n",
        "range"
      ],
      "metadata": {
        "id": "3XX_eI3i9bSP"
      },
      "id": "3XX_eI3i9bSP"
    },
    {
      "cell_type": "code",
      "source": [
        "a=100\n",
        "print(type(a))"
      ],
      "metadata": {
        "id": "GA4-N9rk-HMj",
        "outputId": "925e72bf-0055-40f1-8bb4-5145c14ce1c7",
        "colab": {
          "base_uri": "https://localhost:8080/"
        }
      },
      "id": "GA4-N9rk-HMj",
      "execution_count": null,
      "outputs": [
        {
          "output_type": "stream",
          "name": "stdout",
          "text": [
            "<class 'int'>\n"
          ]
        }
      ]
    },
    {
      "cell_type": "code",
      "source": [
        "b=100.2\n",
        "print(type(b))"
      ],
      "metadata": {
        "id": "O11ejPRD-LpZ",
        "outputId": "6241e6fd-c591-49fd-a1f4-039d68817f5b",
        "colab": {
          "base_uri": "https://localhost:8080/"
        }
      },
      "id": "O11ejPRD-LpZ",
      "execution_count": null,
      "outputs": [
        {
          "output_type": "stream",
          "name": "stdout",
          "text": [
            "<class 'float'>\n"
          ]
        }
      ]
    },
    {
      "cell_type": "code",
      "source": [
        "c=\"Rushi\"\n",
        "type(c)"
      ],
      "metadata": {
        "id": "dWoB4es5_Qcf",
        "outputId": "6d70d0a8-a153-45ea-ba99-7df3cf9869b9",
        "colab": {
          "base_uri": "https://localhost:8080/"
        }
      },
      "id": "dWoB4es5_Qcf",
      "execution_count": null,
      "outputs": [
        {
          "output_type": "execute_result",
          "data": {
            "text/plain": [
              "str"
            ]
          },
          "metadata": {},
          "execution_count": 17
        }
      ]
    },
    {
      "cell_type": "markdown",
      "source": [
        "# Types of operation that we perform on integers\n",
        "\n",
        "1. arithmatic operations - +, -, / , *, //(floor value) , %(modulo/remainder) , **(power/)\n",
        "2. comparison operations - > , >= , < , <=\n",
        "3. equality operator - == , !=\n",
        "4. Ascii operators = ord() , chr()\n",
        "5. logical operators - and, or, not\n",
        "6. bitwise operatoes - &, | , ~ , >> , <<\n",
        "7. indentity operators - is and is not\n",
        "8. membership operatoers - in and not in\n",
        "9. ternary op -"
      ],
      "metadata": {
        "id": "iXmi06MX-BUS"
      },
      "id": "iXmi06MX-BUS"
    },
    {
      "cell_type": "code",
      "source": [],
      "metadata": {
        "id": "b3CIuArq-CN_"
      },
      "id": "b3CIuArq-CN_",
      "execution_count": null,
      "outputs": []
    }
  ],
  "metadata": {
    "kernelspec": {
      "display_name": "Python 3 (ipykernel)",
      "language": "python",
      "name": "python3"
    },
    "language_info": {
      "codemirror_mode": {
        "name": "ipython",
        "version": 3
      },
      "file_extension": ".py",
      "mimetype": "text/x-python",
      "name": "python",
      "nbconvert_exporter": "python",
      "pygments_lexer": "ipython3",
      "version": "3.9.12"
    },
    "colab": {
      "provenance": []
    }
  },
  "nbformat": 4,
  "nbformat_minor": 5
}