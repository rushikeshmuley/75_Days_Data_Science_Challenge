{
  "cells": [
    {
      "cell_type": "code",
      "execution_count": null,
      "id": "0a1cc3c4",
      "metadata": {
        "id": "0a1cc3c4"
      },
      "outputs": [],
      "source": [
        "# Properties of string\n",
        "\n",
        "1. It is a seq data type\n",
        "2. +ve and -ve indexing is supported\n",
        "3. +ve indexing starts with 0 from l to R\n",
        "4. -ve indexing starts with -1 from r ro l\n",
        "5. operations - concatination, repition, membership , indentity, indexing and slicing\n",
        "6. string is immutable data type"
      ]
    },
    {
      "cell_type": "code",
      "execution_count": null,
      "id": "31656a72",
      "metadata": {
        "id": "31656a72"
      },
      "outputs": [],
      "source": [
        "slicing\n",
        "\n",
        "synatx = [start_index : stop_index : step]\n",
        "\n",
        "start is inclusive\n",
        "stop is exlusive\n",
        "\n",
        "# deafult values\n",
        "syntax = a[::]\n",
        "start_index = 0\n",
        "stop_index = len(a)\n",
        "step = 1\n",
        "\n",
        "syntax - a[::1]\n",
        "start_index = 0\n",
        "stop_index = len(a)\n",
        "\n",
        "synatx = a[::-1]\n",
        "start_index = -1\n",
        "stop_index = -len(a)-1"
      ]
    },
    {
      "cell_type": "code",
      "execution_count": null,
      "id": "144d04b4",
      "metadata": {
        "id": "144d04b4"
      },
      "outputs": [],
      "source": [
        "# step\n",
        "\n",
        "+ve -- char will be extracted from l - r\n",
        "-ve -- char will be extratced from r - l\n",
        "\n",
        "+1 --> extarct every char from l - r\n",
        "-1 --> extract every char from r - l\n",
        "\n",
        "+2 --> extarct evert 2nd char from l-r\n",
        "-2 --> extract every 2nd char from r-l\n",
        "\n",
        "+n --> extract every nth char from l-r\n",
        "-n --> extract every nth chr from r-l"
      ]
    },
    {
      "cell_type": "code",
      "execution_count": 1,
      "id": "38f8363a",
      "metadata": {
        "id": "38f8363a"
      },
      "outputs": [],
      "source": [
        "a = 'lionel messi'"
      ]
    },
    {
      "cell_type": "code",
      "execution_count": 2,
      "id": "cfb01d15",
      "metadata": {
        "id": "cfb01d15",
        "outputId": "816824a0-ea79-4584-cd92-a000e9421501",
        "colab": {
          "base_uri": "https://localhost:8080/",
          "height": 35
        }
      },
      "outputs": [
        {
          "output_type": "execute_result",
          "data": {
            "text/plain": [
              "'e '"
            ],
            "application/vnd.google.colaboratory.intrinsic+json": {
              "type": "string"
            }
          },
          "metadata": {},
          "execution_count": 2
        }
      ],
      "source": [
        "a[4:7:2]"
      ]
    },
    {
      "cell_type": "code",
      "execution_count": 3,
      "id": "a3e095fc",
      "metadata": {
        "id": "a3e095fc",
        "outputId": "0d209540-e5b1-4c98-b932-12330ed0f3d4",
        "colab": {
          "base_uri": "https://localhost:8080/",
          "height": 35
        }
      },
      "outputs": [
        {
          "output_type": "execute_result",
          "data": {
            "text/plain": [
              "'lmsi'"
            ],
            "application/vnd.google.colaboratory.intrinsic+json": {
              "type": "string"
            }
          },
          "metadata": {},
          "execution_count": 3
        }
      ],
      "source": [
        "a[5::2]"
      ]
    },
    {
      "cell_type": "code",
      "execution_count": 4,
      "id": "ad378db0",
      "metadata": {
        "id": "ad378db0",
        "outputId": "0910ada1-47fd-4e4b-b5ec-95544cd3e766",
        "colab": {
          "base_uri": "https://localhost:8080/",
          "height": 35
        }
      },
      "outputs": [
        {
          "output_type": "execute_result",
          "data": {
            "text/plain": [
              "'l mess'"
            ],
            "application/vnd.google.colaboratory.intrinsic+json": {
              "type": "string"
            }
          },
          "metadata": {},
          "execution_count": 4
        }
      ],
      "source": [
        "a[-7:11:1]"
      ]
    },
    {
      "cell_type": "code",
      "execution_count": 5,
      "id": "3b998c0b",
      "metadata": {
        "id": "3b998c0b",
        "outputId": "c86aeefd-24fb-46bf-b489-695370241584",
        "colab": {
          "base_uri": "https://localhost:8080/",
          "height": 35
        }
      },
      "outputs": [
        {
          "output_type": "execute_result",
          "data": {
            "text/plain": [
              "'lenoil'"
            ],
            "application/vnd.google.colaboratory.intrinsic+json": {
              "type": "string"
            }
          },
          "metadata": {},
          "execution_count": 5
        }
      ],
      "source": [
        "a[5::-1]\n"
      ]
    },
    {
      "cell_type": "code",
      "execution_count": 6,
      "id": "789dda3a",
      "metadata": {
        "id": "789dda3a",
        "outputId": "f30ba5fa-67e4-4e1c-de6b-9f10ad09053d",
        "colab": {
          "base_uri": "https://localhost:8080/",
          "height": 35
        }
      },
      "outputs": [
        {
          "output_type": "execute_result",
          "data": {
            "text/plain": [
              "'issem'"
            ],
            "application/vnd.google.colaboratory.intrinsic+json": {
              "type": "string"
            }
          },
          "metadata": {},
          "execution_count": 6
        }
      ],
      "source": [
        "a[-1:-6:-1]"
      ]
    },
    {
      "cell_type": "code",
      "execution_count": null,
      "id": "eacef0f4",
      "metadata": {
        "id": "eacef0f4"
      },
      "outputs": [],
      "source": [
        "1. subsituet the value\n",
        "2. contradicting state\n",
        "3. extract"
      ]
    },
    {
      "cell_type": "code",
      "source": [
        "a=\"Rohit\"\n",
        "a[-1:-6:-1]"
      ],
      "metadata": {
        "colab": {
          "base_uri": "https://localhost:8080/",
          "height": 35
        },
        "id": "UH88wPzXhona",
        "outputId": "de27b364-9542-47cc-9e27-91df67cb54f8"
      },
      "id": "UH88wPzXhona",
      "execution_count": 7,
      "outputs": [
        {
          "output_type": "execute_result",
          "data": {
            "text/plain": [
              "'tihoR'"
            ],
            "application/vnd.google.colaboratory.intrinsic+json": {
              "type": "string"
            }
          },
          "metadata": {},
          "execution_count": 7
        }
      ]
    },
    {
      "cell_type": "code",
      "source": [
        "a[0:200]"
      ],
      "metadata": {
        "colab": {
          "base_uri": "https://localhost:8080/",
          "height": 35
        },
        "id": "9eIT0GAyho46",
        "outputId": "57cc4231-76e2-4cb8-976f-d061d8f7c825"
      },
      "id": "9eIT0GAyho46",
      "execution_count": 8,
      "outputs": [
        {
          "output_type": "execute_result",
          "data": {
            "text/plain": [
              "'Rohit'"
            ],
            "application/vnd.google.colaboratory.intrinsic+json": {
              "type": "string"
            }
          },
          "metadata": {},
          "execution_count": 8
        }
      ]
    },
    {
      "cell_type": "code",
      "source": [
        "a = \"This is python class\"\n",
        "a[-1:20:1]"
      ],
      "metadata": {
        "colab": {
          "base_uri": "https://localhost:8080/",
          "height": 35
        },
        "id": "mQ4c42E2h8O7",
        "outputId": "c6dc64da-ac05-4632-d928-1ea4a3266ecf"
      },
      "id": "mQ4c42E2h8O7",
      "execution_count": 9,
      "outputs": [
        {
          "output_type": "execute_result",
          "data": {
            "text/plain": [
              "'s'"
            ],
            "application/vnd.google.colaboratory.intrinsic+json": {
              "type": "string"
            }
          },
          "metadata": {},
          "execution_count": 9
        }
      ]
    },
    {
      "cell_type": "code",
      "source": [
        "1. It is a seq data type\n",
        "2. +ve and -ve indexing is supported\n",
        "3. +ve indexing starts with 0 from l to R\n",
        "4. -ve indexing starts with -1 from r ro l\n",
        "5. operations - concatination, repition, membership , indentity, indexing and slicing\n",
        "6. string is immutable data type"
      ],
      "metadata": {
        "id": "OtJ3CmSHh-nE"
      },
      "id": "OtJ3CmSHh-nE",
      "execution_count": null,
      "outputs": []
    },
    {
      "cell_type": "code",
      "source": [
        "# concatination\n",
        "\"\"\"\n",
        "adding of two strings\n",
        "op - +\n",
        "operands - string\n",
        "\"\"\"\n",
        "\n",
        "a = 'afsan'\n",
        "b = 'khan'\n",
        "c = 100\n",
        "print(a+b)"
      ],
      "metadata": {
        "colab": {
          "base_uri": "https://localhost:8080/"
        },
        "id": "Vlg9lbe2iBU8",
        "outputId": "cc74126a-6263-4b15-9aec-8a0968087e4e"
      },
      "id": "Vlg9lbe2iBU8",
      "execution_count": 10,
      "outputs": [
        {
          "output_type": "stream",
          "name": "stdout",
          "text": [
            "afsankhan\n"
          ]
        }
      ]
    },
    {
      "cell_type": "code",
      "source": [
        "# repetition\n",
        "\"\"\"\n",
        "op - *\n",
        "operands - one should be a string and other should be a int\n",
        "\"\"\"\n",
        "\n",
        "a = 'learnbay'\n",
        "b = 7\n",
        "\n",
        "print(a*b)"
      ],
      "metadata": {
        "colab": {
          "base_uri": "https://localhost:8080/"
        },
        "id": "0xJh9fPGiGkK",
        "outputId": "6f5cad14-ae62-44b4-a782-230c75693301"
      },
      "id": "0xJh9fPGiGkK",
      "execution_count": 11,
      "outputs": [
        {
          "output_type": "stream",
          "name": "stdout",
          "text": [
            "learnbaylearnbaylearnbaylearnbaylearnbaylearnbaylearnbay\n"
          ]
        }
      ]
    },
    {
      "cell_type": "code",
      "source": [
        "# identity op\n",
        "\"\"\"\n",
        "compares the value of two objects/varibales\n",
        "op - is and is not\n",
        "return - Bool ( True/ False)\n",
        "\"\"\"\n",
        "\n",
        "a = 'learnbay python class'\n",
        "b = 'learnbay python class'\n",
        "\n",
        "print(id(a))\n",
        "print(id(b))\n",
        "print(a is b)"
      ],
      "metadata": {
        "colab": {
          "base_uri": "https://localhost:8080/"
        },
        "id": "zbaUbjVWiJF6",
        "outputId": "ec8c330c-f55b-4b48-b471-f62a6c5d28d5"
      },
      "id": "zbaUbjVWiJF6",
      "execution_count": 12,
      "outputs": [
        {
          "output_type": "stream",
          "name": "stdout",
          "text": [
            "139833873976736\n",
            "139833873977136\n",
            "False\n"
          ]
        }
      ]
    },
    {
      "cell_type": "code",
      "source": [
        "a = 'learnbay_python_class'\n",
        "b = 'learnbay_python_class'\n",
        "print(id(a))\n",
        "print(id(b))\n",
        "print(a is b)"
      ],
      "metadata": {
        "colab": {
          "base_uri": "https://localhost:8080/"
        },
        "id": "M4esO2ELiLvD",
        "outputId": "0a8be0f9-ccb2-4ada-a766-ed99b91b872a"
      },
      "id": "M4esO2ELiLvD",
      "execution_count": 13,
      "outputs": [
        {
          "output_type": "stream",
          "name": "stdout",
          "text": [
            "139833873978736\n",
            "139833873978736\n",
            "True\n"
          ]
        }
      ]
    },
    {
      "cell_type": "code",
      "source": [
        "# membership\n",
        "\"\"\"\n",
        "it will tell you if the sub seq is present in the seq or not\n",
        "op - in and not in\n",
        "return - Bool(True/False)\n",
        "\"\"\"\n",
        "a = 'learnbay python class'\n",
        "b = 'bay'\n",
        "\n",
        "print(b in a)"
      ],
      "metadata": {
        "colab": {
          "base_uri": "https://localhost:8080/"
        },
        "id": "H-4S3YEaipJB",
        "outputId": "1be4343a-305e-44ad-a959-6cc23c38d19d"
      },
      "id": "H-4S3YEaipJB",
      "execution_count": 14,
      "outputs": [
        {
          "output_type": "stream",
          "name": "stdout",
          "text": [
            "True\n"
          ]
        }
      ]
    },
    {
      "cell_type": "code",
      "source": [
        "a = 'learnbay python class'\n",
        "b = 'bay pi'\n",
        "\n",
        "print(b in a)"
      ],
      "metadata": {
        "colab": {
          "base_uri": "https://localhost:8080/"
        },
        "id": "XWoEKztei-ly",
        "outputId": "677178cf-c365-440c-e30a-0c2f61c08c84"
      },
      "id": "XWoEKztei-ly",
      "execution_count": 15,
      "outputs": [
        {
          "output_type": "stream",
          "name": "stdout",
          "text": [
            "False\n"
          ]
        }
      ]
    },
    {
      "cell_type": "code",
      "source": [
        "# String methods\n",
        "\n",
        "print(dir(str))"
      ],
      "metadata": {
        "colab": {
          "base_uri": "https://localhost:8080/"
        },
        "id": "X7N7Enz8jETj",
        "outputId": "37662d5c-ac29-4091-fb45-28b7145b99c4"
      },
      "id": "X7N7Enz8jETj",
      "execution_count": 16,
      "outputs": [
        {
          "output_type": "stream",
          "name": "stdout",
          "text": [
            "['__add__', '__class__', '__contains__', '__delattr__', '__dir__', '__doc__', '__eq__', '__format__', '__ge__', '__getattribute__', '__getitem__', '__getnewargs__', '__gt__', '__hash__', '__init__', '__init_subclass__', '__iter__', '__le__', '__len__', '__lt__', '__mod__', '__mul__', '__ne__', '__new__', '__reduce__', '__reduce_ex__', '__repr__', '__rmod__', '__rmul__', '__setattr__', '__sizeof__', '__str__', '__subclasshook__', 'capitalize', 'casefold', 'center', 'count', 'encode', 'endswith', 'expandtabs', 'find', 'format', 'format_map', 'index', 'isalnum', 'isalpha', 'isascii', 'isdecimal', 'isdigit', 'isidentifier', 'islower', 'isnumeric', 'isprintable', 'isspace', 'istitle', 'isupper', 'join', 'ljust', 'lower', 'lstrip', 'maketrans', 'partition', 'removeprefix', 'removesuffix', 'replace', 'rfind', 'rindex', 'rjust', 'rpartition', 'rsplit', 'rstrip', 'split', 'splitlines', 'startswith', 'strip', 'swapcase', 'title', 'translate', 'upper', 'zfill']\n"
          ]
        }
      ]
    },
    {
      "cell_type": "code",
      "source": [
        "s = 'this is a python class'\n",
        "s1 = 'LeaRnBay'\n",
        "#capitalize --> it capitalises the first letter of the sentence and all other letter will be i lower case\n",
        "print(s.capitalize())\n",
        "\n",
        "\n",
        "# upper --> it will convert all the char to upper case\n",
        "print(s.upper())\n",
        "\n",
        "# lower --> it will convert all the char to lower case\n",
        "print(s1.lower())\n",
        "\n",
        "\n",
        "# swapcase --> it will conver upper case to lowercase and vice versa\n",
        "print(s1.swapcase())\n",
        "\n",
        "\n",
        "# title ---> it will convert first letter of all the words into upper and rest will be in lowercase\n",
        "s2 = 'THis iS Python CLass'\n",
        "print(s2.title())"
      ],
      "metadata": {
        "colab": {
          "base_uri": "https://localhost:8080/"
        },
        "id": "HQLujs4IjLrP",
        "outputId": "2f8edc8b-0048-4ecd-86f0-4c35a64d8bf2"
      },
      "id": "HQLujs4IjLrP",
      "execution_count": 17,
      "outputs": [
        {
          "output_type": "stream",
          "name": "stdout",
          "text": [
            "This is a python class\n",
            "THIS IS A PYTHON CLASS\n",
            "learnbay\n",
            "lEArNbAY\n",
            "This Is Python Class\n"
          ]
        }
      ]
    },
    {
      "cell_type": "code",
      "source": [
        "s2 = 'learnbay class'\n",
        "a = s2[0:8].upper()\n",
        "b = s2[8:].lower()\n",
        "print(a+b)"
      ],
      "metadata": {
        "colab": {
          "base_uri": "https://localhost:8080/"
        },
        "id": "26vGJXNJjOvx",
        "outputId": "68e629d5-89a5-4d9f-a7e7-79e08074daf7"
      },
      "id": "26vGJXNJjOvx",
      "execution_count": 18,
      "outputs": [
        {
          "output_type": "stream",
          "name": "stdout",
          "text": [
            "LEARNBAY class\n"
          ]
        }
      ]
    },
    {
      "cell_type": "code",
      "source": [
        "# methods which returns output in the form of bool\n",
        "\n",
        "# 1. startswith - Returns True if string starts with a given prefix\n",
        "\n",
        "s = 'hello world'\n",
        "print(s.startswith('he'))\n",
        "\n",
        "s = 'hello world'\n",
        "print(s.startswith('he',6,12))"
      ],
      "metadata": {
        "colab": {
          "base_uri": "https://localhost:8080/"
        },
        "id": "_mAX2S9DjkjL",
        "outputId": "06322d4c-0f1b-418e-8056-badbcb8fcf5b"
      },
      "id": "_mAX2S9DjkjL",
      "execution_count": 19,
      "outputs": [
        {
          "output_type": "stream",
          "name": "stdout",
          "text": [
            "True\n",
            "False\n"
          ]
        }
      ]
    },
    {
      "cell_type": "code",
      "source": [
        "# endswith - Returs True if the strig ends with a given suffix\n",
        "\n",
        "s = 'learnbay class'\n",
        "# y class\n",
        "print(s.endswith('arn',0,5))"
      ],
      "metadata": {
        "colab": {
          "base_uri": "https://localhost:8080/"
        },
        "id": "G0T93N8kjo0Z",
        "outputId": "30796b26-8c5b-493c-f2d6-4e54f9bb2cd4"
      },
      "id": "G0T93N8kjo0Z",
      "execution_count": 20,
      "outputs": [
        {
          "output_type": "stream",
          "name": "stdout",
          "text": [
            "True\n"
          ]
        }
      ]
    },
    {
      "cell_type": "code",
      "source": [
        "s = 'learnbay class'\n",
        "# y class\n",
        "print(s.endswith('bay',0,8))"
      ],
      "metadata": {
        "colab": {
          "base_uri": "https://localhost:8080/"
        },
        "id": "uM25d9KLjsFj",
        "outputId": "538430f5-3e6b-497a-c675-92ab12cbeeae"
      },
      "id": "uM25d9KLjsFj",
      "execution_count": 21,
      "outputs": [
        {
          "output_type": "stream",
          "name": "stdout",
          "text": [
            "True\n"
          ]
        }
      ]
    },
    {
      "cell_type": "code",
      "source": [
        "s1 = 'ABC'\n",
        "s2 = 'abc'\n",
        "s3 = '*'\n",
        "s4 = '112'\n",
        "\n",
        "# isupper\n",
        "print(s1.isupper()) # True\n",
        "print(s2.isupper()) # False\n",
        "print(s3.isupper()) # false\n",
        "print(s4.isupper()) # false\n",
        "\n",
        "print('-'*50)\n",
        "#islower\n",
        "print(s1.islower()) # false\n",
        "print(s2.islower()) # true\n",
        "print(s3.islower()) # false\n",
        "print(s4.islower()) # false\n",
        "\n",
        "print('-'*50)\n",
        "#istitle\n",
        "print(s1.istitle()) # false\n",
        "print(s2.istitle()) # false\n",
        "print(s3.istitle()) # false\n",
        "print(s4.istitle()) # false"
      ],
      "metadata": {
        "colab": {
          "base_uri": "https://localhost:8080/"
        },
        "id": "QMslvilbjuxA",
        "outputId": "740fbe18-8f39-4046-e2dc-a246abd51a4d"
      },
      "id": "QMslvilbjuxA",
      "execution_count": 22,
      "outputs": [
        {
          "output_type": "stream",
          "name": "stdout",
          "text": [
            "True\n",
            "False\n",
            "False\n",
            "False\n",
            "--------------------------------------------------\n",
            "False\n",
            "True\n",
            "False\n",
            "False\n",
            "--------------------------------------------------\n",
            "False\n",
            "False\n",
            "False\n",
            "False\n"
          ]
        }
      ]
    },
    {
      "cell_type": "code",
      "source": [
        "# strip, rstrip, lstrip\n",
        "# removes the specified char from the end\n",
        "\n",
        "# strip - it will remove the specified char from both the ends\n",
        "a = '  python  '\n",
        "print(a)\n",
        "print(a.strip())\n",
        "\n",
        "b = '**python****'\n",
        "print(b)\n",
        "print(b.strip('*'))"
      ],
      "metadata": {
        "colab": {
          "base_uri": "https://localhost:8080/"
        },
        "id": "ICavyjtfj14w",
        "outputId": "c37a7e43-2200-4f93-899e-24e847f7b034"
      },
      "id": "ICavyjtfj14w",
      "execution_count": 23,
      "outputs": [
        {
          "output_type": "stream",
          "name": "stdout",
          "text": [
            "  python  \n",
            "python\n",
            "**python****\n",
            "python\n"
          ]
        }
      ]
    },
    {
      "cell_type": "code",
      "source": [
        "# lstrip - it will remove the specefied char from the left end\n",
        "b = '**python****'\n",
        "print(b)\n",
        "print(b.lstrip('*'))"
      ],
      "metadata": {
        "colab": {
          "base_uri": "https://localhost:8080/"
        },
        "id": "GLgBKWnRj-Qv",
        "outputId": "40fcafeb-7cd1-4149-95e9-d7f508825c12"
      },
      "id": "GLgBKWnRj-Qv",
      "execution_count": 24,
      "outputs": [
        {
          "output_type": "stream",
          "name": "stdout",
          "text": [
            "**python****\n",
            "python****\n"
          ]
        }
      ]
    },
    {
      "cell_type": "code",
      "source": [
        "# rstrip - it will remove the specefied char from the right end\n",
        "b = '**python****'\n",
        "print(b)\n",
        "print(b.rstrip('*'))"
      ],
      "metadata": {
        "colab": {
          "base_uri": "https://localhost:8080/"
        },
        "id": "9mqsDNp1kHeV",
        "outputId": "d331236d-351b-4de4-e6a6-3703f0e94a0f"
      },
      "id": "9mqsDNp1kHeV",
      "execution_count": 25,
      "outputs": [
        {
          "output_type": "stream",
          "name": "stdout",
          "text": [
            "**python****\n",
            "**python\n"
          ]
        }
      ]
    },
    {
      "cell_type": "code",
      "source": [
        "b = '**pythonpppp'\n",
        "print(b)\n",
        "print(b.rstrip('p'))"
      ],
      "metadata": {
        "colab": {
          "base_uri": "https://localhost:8080/"
        },
        "id": "Vocyhq6akJQ-",
        "outputId": "729155b9-164d-47d6-ae49-8ff9669609b6"
      },
      "id": "Vocyhq6akJQ-",
      "execution_count": 26,
      "outputs": [
        {
          "output_type": "stream",
          "name": "stdout",
          "text": [
            "**pythonpppp\n",
            "**python\n"
          ]
        }
      ]
    },
    {
      "cell_type": "code",
      "source": [
        "b = '**python**class'\n",
        "b[0:10:].strip('*')"
      ],
      "metadata": {
        "colab": {
          "base_uri": "https://localhost:8080/",
          "height": 35
        },
        "id": "8vYrCHutkLIg",
        "outputId": "7b51a226-4935-4e9b-b075-c495ed7c7e8a"
      },
      "id": "8vYrCHutkLIg",
      "execution_count": 27,
      "outputs": [
        {
          "output_type": "execute_result",
          "data": {
            "text/plain": [
              "'python'"
            ],
            "application/vnd.google.colaboratory.intrinsic+json": {
              "type": "string"
            }
          },
          "metadata": {},
          "execution_count": 27
        }
      ]
    },
    {
      "cell_type": "code",
      "source": [
        "username = input('please enter your username')\n",
        "password = input('please enter the password')\n",
        "\n",
        "if username.strip() == 'afsan' and password.strip() =='devil':\n",
        "    print('logged in')\n",
        "else:\n",
        "    print('invalid')"
      ],
      "metadata": {
        "colab": {
          "base_uri": "https://localhost:8080/"
        },
        "id": "55RCepk5kOF0",
        "outputId": "48ff357f-5eda-475e-d331-d4ebbf3a574b"
      },
      "id": "55RCepk5kOF0",
      "execution_count": 28,
      "outputs": [
        {
          "output_type": "stream",
          "name": "stdout",
          "text": [
            "please enter your usernameafsan\n",
            "please enter the passworddevil\n",
            "logged in\n"
          ]
        }
      ]
    },
    {
      "cell_type": "code",
      "source": [
        "a = 'learnbay'\n",
        "a[::]"
      ],
      "metadata": {
        "colab": {
          "base_uri": "https://localhost:8080/",
          "height": 35
        },
        "id": "i5Ib0zvmkUG7",
        "outputId": "cd72b381-41b7-4415-f6c4-5f9eba26ddc6"
      },
      "id": "i5Ib0zvmkUG7",
      "execution_count": 29,
      "outputs": [
        {
          "output_type": "execute_result",
          "data": {
            "text/plain": [
              "'learnbay'"
            ],
            "application/vnd.google.colaboratory.intrinsic+json": {
              "type": "string"
            }
          },
          "metadata": {},
          "execution_count": 29
        }
      ]
    },
    {
      "cell_type": "code",
      "source": [
        "a[5:]"
      ],
      "metadata": {
        "colab": {
          "base_uri": "https://localhost:8080/",
          "height": 35
        },
        "id": "JuFPznFDkZl9",
        "outputId": "00fce3f7-4f1c-46a4-8f3f-8d6bfb738e0b"
      },
      "id": "JuFPznFDkZl9",
      "execution_count": 30,
      "outputs": [
        {
          "output_type": "execute_result",
          "data": {
            "text/plain": [
              "'bay'"
            ],
            "application/vnd.google.colaboratory.intrinsic+json": {
              "type": "string"
            }
          },
          "metadata": {},
          "execution_count": 30
        }
      ]
    },
    {
      "cell_type": "code",
      "source": [
        "a[5:24]"
      ],
      "metadata": {
        "colab": {
          "base_uri": "https://localhost:8080/",
          "height": 35
        },
        "id": "jyikMBgHkbkG",
        "outputId": "eda34d00-a717-4839-c8d3-c5db9b79a6b3"
      },
      "id": "jyikMBgHkbkG",
      "execution_count": 31,
      "outputs": [
        {
          "output_type": "execute_result",
          "data": {
            "text/plain": [
              "'bay'"
            ],
            "application/vnd.google.colaboratory.intrinsic+json": {
              "type": "string"
            }
          },
          "metadata": {},
          "execution_count": 31
        }
      ]
    },
    {
      "cell_type": "code",
      "source": [
        "# count - it will count how many times a char/ group of char is repeated\n",
        "\n",
        "my_str = 'learnbay is a good insititue for data science'\n",
        "print(my_str.count('a'))\n",
        "print(my_str.count('is'))"
      ],
      "metadata": {
        "colab": {
          "base_uri": "https://localhost:8080/"
        },
        "id": "RUYa86AokdYT",
        "outputId": "cef19223-56de-40bd-8eb2-701e3a421067"
      },
      "id": "RUYa86AokdYT",
      "execution_count": 32,
      "outputs": [
        {
          "output_type": "stream",
          "name": "stdout",
          "text": [
            "5\n",
            "1\n"
          ]
        }
      ]
    },
    {
      "cell_type": "code",
      "source": [
        "# find, rfind, index, rindex - this methods finds the starting index of char or group of char\n",
        "# it will always consider the positive indexing\n",
        "# only the first occurance will be considered if multiple occurances of a char/ group of char exists\n",
        "\n",
        "\n",
        "# find --> finds the index from L to R\n",
        "my_str = 'learnbay is a good insititue for data science'\n",
        "print(my_str.find('b'))\n",
        "print(my_str.find('i',10,24))\n",
        "\n",
        "\n",
        "# rfind - finds the index from R to L\n",
        "my_str = 'learnbay is a good insititue for data science'\n",
        "print(my_str.rfind('i'))\n",
        "print(my_str.rfind('good'))"
      ],
      "metadata": {
        "colab": {
          "base_uri": "https://localhost:8080/"
        },
        "id": "c6IH2yHMky32",
        "outputId": "eade3484-eea3-4f0f-b08a-0751cc6fee49"
      },
      "id": "c6IH2yHMky32",
      "execution_count": 33,
      "outputs": [
        {
          "output_type": "stream",
          "name": "stdout",
          "text": [
            "5\n",
            "19\n",
            "40\n",
            "14\n"
          ]
        }
      ]
    },
    {
      "cell_type": "code",
      "source": [
        "# index --> finds the index from L to R\n",
        "my_str = 'learnbay is a good insititue for data science'\n",
        "print(my_str.index('b'))\n",
        "print(my_str.index('i',10,24))\n",
        "\n",
        "\n",
        "# rindex - finds the index from L to R\n",
        "my_str = 'learnbay is a good insititue for data science'\n",
        "print(my_str.rindex('i'))\n",
        "print(my_str.rindex('good'))"
      ],
      "metadata": {
        "colab": {
          "base_uri": "https://localhost:8080/"
        },
        "id": "2jy9plBClYID",
        "outputId": "ea1321af-69aa-4206-8d0d-44c485a70482"
      },
      "id": "2jy9plBClYID",
      "execution_count": 34,
      "outputs": [
        {
          "output_type": "stream",
          "name": "stdout",
          "text": [
            "5\n",
            "19\n",
            "40\n",
            "14\n"
          ]
        }
      ]
    },
    {
      "cell_type": "code",
      "source": [
        "my_str = 'learnbay is a good insititue for data science'\n",
        "print(my_str.find('z'))"
      ],
      "metadata": {
        "colab": {
          "base_uri": "https://localhost:8080/"
        },
        "id": "L6Xjjqbil4xQ",
        "outputId": "39f03bc2-3d2f-482d-8460-ca354ddfbb90"
      },
      "id": "L6Xjjqbil4xQ",
      "execution_count": 35,
      "outputs": [
        {
          "output_type": "stream",
          "name": "stdout",
          "text": [
            "-1\n"
          ]
        }
      ]
    },
    {
      "cell_type": "code",
      "source": [
        "# the only difference between find and index is that fiond will give -1 and index will give value error if a char/\n",
        "# group of char is not present"
      ],
      "metadata": {
        "id": "RvwmWqZtl79P"
      },
      "id": "RvwmWqZtl79P",
      "execution_count": null,
      "outputs": []
    },
    {
      "cell_type": "code",
      "source": [
        "#ljust , rjust\n",
        "\n",
        "text = 'afsan'\n",
        "print('hey',text.ljust(20),'world')"
      ],
      "metadata": {
        "colab": {
          "base_uri": "https://localhost:8080/"
        },
        "id": "XUbsTR8CmDSy",
        "outputId": "d9a08730-c62f-4ec9-820c-a66cc607bc0c"
      },
      "id": "XUbsTR8CmDSy",
      "execution_count": 36,
      "outputs": [
        {
          "output_type": "stream",
          "name": "stdout",
          "text": [
            "hey afsan                world\n"
          ]
        }
      ]
    },
    {
      "cell_type": "code",
      "source": [
        "text = 'afsan'\n",
        "print('hey'.rjust(5).ljust(15),'world')"
      ],
      "metadata": {
        "colab": {
          "base_uri": "https://localhost:8080/"
        },
        "id": "a61sp2YCmSqF",
        "outputId": "1cb5bbb8-ef6e-4ed0-a07c-d26030696048"
      },
      "id": "a61sp2YCmSqF",
      "execution_count": 37,
      "outputs": [
        {
          "output_type": "stream",
          "name": "stdout",
          "text": [
            "  hey           world\n"
          ]
        }
      ]
    },
    {
      "cell_type": "code",
      "source": [
        "# replace\n",
        "\n",
        "my_str = 'learnbay is a good insititue for data science'\n",
        "print(my_str.replace('i' ,'s'))"
      ],
      "metadata": {
        "colab": {
          "base_uri": "https://localhost:8080/"
        },
        "id": "az7SBpW5mXNw",
        "outputId": "75b27925-0609-4d19-cfdc-bede7214d7d7"
      },
      "id": "az7SBpW5mXNw",
      "execution_count": 38,
      "outputs": [
        {
          "output_type": "stream",
          "name": "stdout",
          "text": [
            "learnbay ss a good snsststue for data scsence\n"
          ]
        }
      ]
    },
    {
      "cell_type": "code",
      "source": [
        "my_str = 'learnbay is a good insititue for data science'\n",
        "print(my_str.replace('learnbay' ,'xyz'))"
      ],
      "metadata": {
        "colab": {
          "base_uri": "https://localhost:8080/"
        },
        "id": "aY1-hKmdmdES",
        "outputId": "e62f3d02-50b4-4910-fa70-6546df501941"
      },
      "id": "aY1-hKmdmdES",
      "execution_count": 39,
      "outputs": [
        {
          "output_type": "stream",
          "name": "stdout",
          "text": [
            "xyz is a good insititue for data science\n"
          ]
        }
      ]
    },
    {
      "cell_type": "code",
      "source": [
        "print('hey', text.ljust(20).rjust(10), 'world')"
      ],
      "metadata": {
        "colab": {
          "base_uri": "https://localhost:8080/"
        },
        "id": "Ef73Bybnmf3V",
        "outputId": "0cfae50f-0944-4c49-a94d-c74c34695553"
      },
      "id": "Ef73Bybnmf3V",
      "execution_count": 40,
      "outputs": [
        {
          "output_type": "stream",
          "name": "stdout",
          "text": [
            "hey afsan                world\n"
          ]
        }
      ]
    },
    {
      "cell_type": "code",
      "source": [
        "# split\n",
        "# -> this methods converts the str data type to list data type\n",
        "# -> it splits the string based on the specified char\n",
        "# -> spliiting char is not included in the split\n",
        "\n",
        "my_str = 'learnbay is a good insititue for data science'\n",
        "my_str.split()"
      ],
      "metadata": {
        "colab": {
          "base_uri": "https://localhost:8080/"
        },
        "id": "ygskw6_mmi2i",
        "outputId": "cf34bbf2-95e3-4e27-9ca9-bc087d7bcad9"
      },
      "id": "ygskw6_mmi2i",
      "execution_count": 41,
      "outputs": [
        {
          "output_type": "execute_result",
          "data": {
            "text/plain": [
              "['learnbay', 'is', 'a', 'good', 'insititue', 'for', 'data', 'science']"
            ]
          },
          "metadata": {},
          "execution_count": 41
        }
      ]
    },
    {
      "cell_type": "code",
      "source": [
        "my_str = 'learnbay is a good insititue for data science'\n",
        "my_str.split('a')"
      ],
      "metadata": {
        "colab": {
          "base_uri": "https://localhost:8080/"
        },
        "id": "Lmwf6-UnmmhG",
        "outputId": "20592691-b38b-47f0-f83e-810b5efdbb91"
      },
      "id": "Lmwf6-UnmmhG",
      "execution_count": 42,
      "outputs": [
        {
          "output_type": "execute_result",
          "data": {
            "text/plain": [
              "['le', 'rnb', 'y is ', ' good insititue for d', 't', ' science']"
            ]
          },
          "metadata": {},
          "execution_count": 42
        }
      ]
    },
    {
      "cell_type": "code",
      "source": [
        "my_str = 'afsaan'\n",
        "my_str.split('a')"
      ],
      "metadata": {
        "colab": {
          "base_uri": "https://localhost:8080/"
        },
        "id": "NHhIlG0TmomH",
        "outputId": "8aacc34d-6a05-4e53-c8d7-cffc7bc3fc56"
      },
      "id": "NHhIlG0TmomH",
      "execution_count": 43,
      "outputs": [
        {
          "output_type": "execute_result",
          "data": {
            "text/plain": [
              "['', 'fs', '', 'n']"
            ]
          },
          "metadata": {},
          "execution_count": 43
        }
      ]
    },
    {
      "cell_type": "code",
      "source": [
        "# join --> if will convert the list data type to string\n",
        "# --> you have to provide the joining char to join the elements of the string\n",
        "\n",
        "data = ['learnbay', 'is', 'a', 'good', 'insititue', '1', 'data', 'science']\n",
        "\" \".join(data[0:5])"
      ],
      "metadata": {
        "colab": {
          "base_uri": "https://localhost:8080/",
          "height": 35
        },
        "id": "ZFEVbi5Omt5n",
        "outputId": "dd0262d2-2e1b-409f-8886-f014a20941f4"
      },
      "id": "ZFEVbi5Omt5n",
      "execution_count": 44,
      "outputs": [
        {
          "output_type": "execute_result",
          "data": {
            "text/plain": [
              "'learnbay is a good insititue'"
            ],
            "application/vnd.google.colaboratory.intrinsic+json": {
              "type": "string"
            }
          },
          "metadata": {},
          "execution_count": 44
        }
      ]
    },
    {
      "cell_type": "code",
      "source": [
        "text.zfill(3)"
      ],
      "metadata": {
        "colab": {
          "base_uri": "https://localhost:8080/",
          "height": 35
        },
        "id": "9WgW32Cgmyvc",
        "outputId": "1ee4d874-60c0-43e1-881d-347761391a3f"
      },
      "id": "9WgW32Cgmyvc",
      "execution_count": 45,
      "outputs": [
        {
          "output_type": "execute_result",
          "data": {
            "text/plain": [
              "'afsan'"
            ],
            "application/vnd.google.colaboratory.intrinsic+json": {
              "type": "string"
            }
          },
          "metadata": {},
          "execution_count": 45
        }
      ]
    },
    {
      "cell_type": "code",
      "source": [
        "str=\"lerabay\"\n",
        "str.split()"
      ],
      "metadata": {
        "colab": {
          "base_uri": "https://localhost:8080/"
        },
        "id": "ESEipJx4m1FK",
        "outputId": "f639f422-b0fe-4d35-d046-a47f57ebaa1b"
      },
      "id": "ESEipJx4m1FK",
      "execution_count": 46,
      "outputs": [
        {
          "output_type": "execute_result",
          "data": {
            "text/plain": [
              "['lerabay']"
            ]
          },
          "metadata": {},
          "execution_count": 46
        }
      ]
    },
    {
      "cell_type": "code",
      "source": [],
      "metadata": {
        "id": "kqA5c9QAm7A7"
      },
      "id": "kqA5c9QAm7A7",
      "execution_count": null,
      "outputs": []
    }
  ],
  "metadata": {
    "kernelspec": {
      "display_name": "Python 3 (ipykernel)",
      "language": "python",
      "name": "python3"
    },
    "language_info": {
      "codemirror_mode": {
        "name": "ipython",
        "version": 3
      },
      "file_extension": ".py",
      "mimetype": "text/x-python",
      "name": "python",
      "nbconvert_exporter": "python",
      "pygments_lexer": "ipython3",
      "version": "3.9.12"
    },
    "colab": {
      "provenance": []
    }
  },
  "nbformat": 4,
  "nbformat_minor": 5
}