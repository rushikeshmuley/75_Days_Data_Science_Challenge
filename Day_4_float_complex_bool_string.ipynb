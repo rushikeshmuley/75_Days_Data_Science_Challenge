{
  "cells": [
    {
      "cell_type": "markdown",
      "id": "48c92c4e",
      "metadata": {
        "id": "48c92c4e"
      },
      "source": [
        "# Float data type\n",
        "\n",
        "- any value with a decimal point eg -999.999 , -100.0 etc"
      ]
    },
    {
      "cell_type": "code",
      "execution_count": 1,
      "id": "828c1deb",
      "metadata": {
        "id": "828c1deb",
        "outputId": "fdfba2ac-89be-4149-b223-d900076067a6",
        "colab": {
          "base_uri": "https://localhost:8080/"
        }
      },
      "outputs": [
        {
          "output_type": "stream",
          "name": "stdout",
          "text": [
            "10.0\n",
            "<class 'float'>\n"
          ]
        }
      ],
      "source": [
        "a = 10.0\n",
        "\n",
        "print(a)\n",
        "print(type(a))"
      ]
    },
    {
      "cell_type": "code",
      "execution_count": null,
      "id": "6dae976a",
      "metadata": {
        "id": "6dae976a"
      },
      "outputs": [],
      "source": [
        "# operations that are possible with float\n",
        "\n",
        "- arithamtic\n",
        "- comparison\n",
        "- logical\n",
        "- Equality\n",
        "- identity\n",
        "- compound operators\n",
        "- ternary operators\n",
        "\n",
        "# not possible\n",
        "- bitwise opoerator\n",
        "\n",
        "# object reusability is not possible"
      ]
    },
    {
      "cell_type": "code",
      "execution_count": null,
      "id": "e4c916b9",
      "metadata": {
        "id": "e4c916b9"
      },
      "outputs": [],
      "source": [
        "# Complex data type\n",
        "\n",
        "- any value that can be written in the form of a+bj where a is the real and b is the imag number"
      ]
    },
    {
      "cell_type": "code",
      "execution_count": 2,
      "id": "55943fbb",
      "metadata": {
        "id": "55943fbb",
        "outputId": "5a2f63f0-0f01-472f-9d76-465c52427264",
        "colab": {
          "base_uri": "https://localhost:8080/"
        }
      },
      "outputs": [
        {
          "output_type": "stream",
          "name": "stdout",
          "text": [
            "(10+7j)\n",
            "<class 'complex'>\n"
          ]
        }
      ],
      "source": [
        "a = 10+7j\n",
        "print(a)\n",
        "print(type(a))"
      ]
    },
    {
      "cell_type": "code",
      "execution_count": 3,
      "id": "2e6feab5",
      "metadata": {
        "id": "2e6feab5",
        "outputId": "6b895d6a-6813-4a7f-8306-cc405577b5ff",
        "colab": {
          "base_uri": "https://localhost:8080/"
        }
      },
      "outputs": [
        {
          "output_type": "stream",
          "name": "stdout",
          "text": [
            "10.0\n",
            "7.0\n"
          ]
        }
      ],
      "source": [
        "# real\n",
        "print(a.real)\n",
        "\n",
        "# imag\n",
        "print(a.imag)"
      ]
    },
    {
      "cell_type": "code",
      "execution_count": null,
      "id": "ceef9445",
      "metadata": {
        "id": "ceef9445"
      },
      "outputs": [],
      "source": [
        "# operations that are possible with Composite\n",
        "\n",
        "- arithamtic except modulo and floor\n",
        "- logical\n",
        "- Equality\n",
        "- identity\n",
        "- compound operators\n",
        "- ternary operators\n",
        "\n",
        "# not possible\n",
        "- bitwise opoerator\n",
        "- comparison\n",
        "\n",
        "# object reusability is not possible"
      ]
    },
    {
      "cell_type": "code",
      "execution_count": null,
      "id": "bbea920f",
      "metadata": {
        "id": "bbea920f"
      },
      "outputs": [],
      "source": [
        "# boolean data type\n",
        "\n",
        "- True also means 1\n",
        "- False also mean 0"
      ]
    },
    {
      "cell_type": "code",
      "execution_count": null,
      "id": "d4467b31",
      "metadata": {
        "id": "d4467b31"
      },
      "outputs": [],
      "source": [
        "int\n",
        "0 is always false and rest of the value is True\n",
        "\n",
        "float\n",
        "0.0 is false amnd rest all the value is True\n",
        "\n",
        "\n",
        "str\n",
        "\"\" is false and rest all the value is True\n",
        "\n",
        "Complex\n",
        "\n",
        "0+0j os false and rest all the value is True"
      ]
    },
    {
      "cell_type": "markdown",
      "id": "06e07f51",
      "metadata": {
        "id": "06e07f51"
      },
      "source": [
        "# String data type"
      ]
    },
    {
      "cell_type": "code",
      "execution_count": null,
      "id": "8f31cbef",
      "metadata": {
        "id": "8f31cbef"
      },
      "outputs": [],
      "source": [
        "- any value that can be inside a '...' , \"...\" , \"\"\"....\"\"\""
      ]
    },
    {
      "cell_type": "code",
      "execution_count": 4,
      "id": "cd7bce53",
      "metadata": {
        "id": "cd7bce53",
        "outputId": "30df59a8-d93e-43b9-d471-a170ab07830b",
        "colab": {
          "base_uri": "https://localhost:8080/"
        }
      },
      "outputs": [
        {
          "output_type": "stream",
          "name": "stdout",
          "text": [
            "python\n",
            "python\n",
            "python\n"
          ]
        }
      ],
      "source": [
        "a = 'python'\n",
        "b = \"python\"\n",
        "c = '''python'''\n",
        "\n",
        "print(a)\n",
        "print(b)\n",
        "print(c)"
      ]
    },
    {
      "cell_type": "code",
      "execution_count": null,
      "id": "68c2b670",
      "metadata": {
        "id": "68c2b670",
        "outputId": "dc295118-6e57-46a5-adae-9c45a4d79557"
      },
      "outputs": [
        {
          "ename": "SyntaxError",
          "evalue": "invalid syntax (2060961163.py, line 1)",
          "output_type": "error",
          "traceback": [
            "\u001b[0;36m  Input \u001b[0;32mIn [9]\u001b[0;36m\u001b[0m\n\u001b[0;31m    a = 'python's'\u001b[0m\n\u001b[0m                ^\u001b[0m\n\u001b[0;31mSyntaxError\u001b[0m\u001b[0;31m:\u001b[0m invalid syntax\n"
          ]
        }
      ],
      "source": [
        "a = 'python's'\n",
        "print(a)"
      ]
    },
    {
      "cell_type": "code",
      "execution_count": 5,
      "id": "fc1c7e84",
      "metadata": {
        "id": "fc1c7e84",
        "outputId": "ebd56d6d-4cf1-4e8d-ed55-608fc577a775",
        "colab": {
          "base_uri": "https://localhost:8080/"
        }
      },
      "outputs": [
        {
          "output_type": "stream",
          "name": "stdout",
          "text": [
            "python's\n"
          ]
        }
      ],
      "source": [
        "a = \"python's\"\n",
        "print(a)"
      ]
    },
    {
      "cell_type": "code",
      "execution_count": null,
      "id": "3c242375",
      "metadata": {
        "id": "3c242375",
        "outputId": "643d3a04-d1e5-46ba-b891-6d813cee79bb"
      },
      "outputs": [
        {
          "ename": "SyntaxError",
          "evalue": "EOL while scanning string literal (1088312107.py, line 1)",
          "output_type": "error",
          "traceback": [
            "\u001b[0;36m  Input \u001b[0;32mIn [11]\u001b[0;36m\u001b[0m\n\u001b[0;31m    a = 'hi\u001b[0m\n\u001b[0m           ^\u001b[0m\n\u001b[0;31mSyntaxError\u001b[0m\u001b[0;31m:\u001b[0m EOL while scanning string literal\n"
          ]
        }
      ],
      "source": [
        "a = 'hi\n",
        "hello\n",
        "how are you'\n",
        "\n",
        "print(a)"
      ]
    },
    {
      "cell_type": "code",
      "execution_count": 6,
      "id": "dbef62e5",
      "metadata": {
        "id": "dbef62e5",
        "outputId": "f4584842-47d8-4288-a055-b89d27225b66",
        "colab": {
          "base_uri": "https://localhost:8080/"
        }
      },
      "outputs": [
        {
          "output_type": "stream",
          "name": "stdout",
          "text": [
            "he\n",
            "wassup\n"
          ]
        }
      ],
      "source": [
        "a = \"\"\"he\n",
        "wassup\"\"\"\n",
        "\n",
        "print(a)"
      ]
    },
    {
      "cell_type": "code",
      "execution_count": 7,
      "id": "d50f7021",
      "metadata": {
        "id": "d50f7021",
        "outputId": "e35ed3fc-f3a0-42a9-d1ec-1ad1c421e7b6",
        "colab": {
          "base_uri": "https://localhost:8080/"
        }
      },
      "outputs": [
        {
          "output_type": "stream",
          "name": "stdout",
          "text": [
            "138845656440752\n",
            "138845649333104\n"
          ]
        }
      ],
      "source": [
        "a = 'python'\n",
        "b = 'cython'\n",
        "\n",
        "print(id(a))\n",
        "print(id(b))"
      ]
    },
    {
      "cell_type": "code",
      "execution_count": 8,
      "id": "339a05a1",
      "metadata": {
        "id": "339a05a1",
        "outputId": "e79acffd-eb6e-44e8-b64d-07f08061a809",
        "colab": {
          "base_uri": "https://localhost:8080/"
        }
      },
      "outputs": [
        {
          "output_type": "stream",
          "name": "stdout",
          "text": [
            "138845664480560\n",
            "138845662288048\n"
          ]
        }
      ],
      "source": [
        "print(id(a[0]))\n",
        "print(id(b[0]))"
      ]
    },
    {
      "cell_type": "code",
      "execution_count": 9,
      "id": "ca22dd6f",
      "metadata": {
        "id": "ca22dd6f",
        "outputId": "72350a67-000d-4214-8e85-87a3e1ccddfc",
        "colab": {
          "base_uri": "https://localhost:8080/"
        }
      },
      "outputs": [
        {
          "output_type": "stream",
          "name": "stdout",
          "text": [
            "138845662727792\n",
            "138845662727792\n"
          ]
        }
      ],
      "source": [
        "print(id(a[1]))\n",
        "print(id(b[1]))"
      ]
    },
    {
      "cell_type": "code",
      "execution_count": 10,
      "id": "cf24a616",
      "metadata": {
        "id": "cf24a616",
        "outputId": "c7cef067-3d2d-491a-bd65-28cbdd66beba",
        "colab": {
          "base_uri": "https://localhost:8080/",
          "height": 35
        }
      },
      "outputs": [
        {
          "output_type": "execute_result",
          "data": {
            "text/plain": [
              "'n'"
            ],
            "application/vnd.google.colaboratory.intrinsic+json": {
              "type": "string"
            }
          },
          "metadata": {},
          "execution_count": 10
        }
      ],
      "source": [
        "a = 'hello learnbay'\n",
        "\n",
        "a[-4]"
      ]
    },
    {
      "cell_type": "code",
      "execution_count": 13,
      "id": "7c21864d",
      "metadata": {
        "id": "7c21864d"
      },
      "outputs": [],
      "source": [
        "# 1 - how string\n",
        "# 2 - indexing"
      ]
    },
    {
      "cell_type": "code",
      "execution_count": 12,
      "id": "db7ee5a9",
      "metadata": {
        "id": "db7ee5a9"
      },
      "outputs": [],
      "source": [
        "a = 10"
      ]
    },
    {
      "cell_type": "code",
      "execution_count": null,
      "id": "cff88a9f",
      "metadata": {
        "id": "cff88a9f",
        "outputId": "7e95532f-8e24-4ae9-f712-fd62452f5368"
      },
      "outputs": [
        {
          "data": {
            "text/plain": [
              "10"
            ]
          },
          "execution_count": 21,
          "metadata": {},
          "output_type": "execute_result"
        }
      ],
      "source": [
        "a"
      ]
    },
    {
      "cell_type": "code",
      "execution_count": null,
      "id": "ec444994",
      "metadata": {
        "id": "ec444994",
        "outputId": "67b85340-7713-49f7-d377-827776453441"
      },
      "outputs": [
        {
          "name": "stdout",
          "output_type": "stream",
          "text": [
            "10\n"
          ]
        }
      ],
      "source": [
        "print(a)"
      ]
    },
    {
      "cell_type": "code",
      "execution_count": 14,
      "id": "3d31aafa",
      "metadata": {
        "id": "3d31aafa"
      },
      "outputs": [],
      "source": [
        "a = \"megana\""
      ]
    },
    {
      "cell_type": "code",
      "execution_count": 15,
      "id": "d224b491",
      "metadata": {
        "id": "d224b491",
        "outputId": "e37fb383-44be-428e-cf0e-824a97912865",
        "colab": {
          "base_uri": "https://localhost:8080/",
          "height": 35
        }
      },
      "outputs": [
        {
          "output_type": "execute_result",
          "data": {
            "text/plain": [
              "'megana'"
            ],
            "application/vnd.google.colaboratory.intrinsic+json": {
              "type": "string"
            }
          },
          "metadata": {},
          "execution_count": 15
        }
      ],
      "source": [
        "a"
      ]
    },
    {
      "cell_type": "code",
      "execution_count": 16,
      "id": "9c126615",
      "metadata": {
        "id": "9c126615",
        "outputId": "e36ded88-1b19-44f5-b5f2-a8506293eae0",
        "colab": {
          "base_uri": "https://localhost:8080/"
        }
      },
      "outputs": [
        {
          "output_type": "stream",
          "name": "stdout",
          "text": [
            "megana\n"
          ]
        }
      ],
      "source": [
        "print(a)"
      ]
    },
    {
      "cell_type": "code",
      "execution_count": 17,
      "id": "2f7a1996",
      "metadata": {
        "id": "2f7a1996",
        "outputId": "1ef9befc-f3aa-4407-c42e-588abda63bd5",
        "colab": {
          "base_uri": "https://localhost:8080/"
        }
      },
      "outputs": [
        {
          "output_type": "stream",
          "name": "stdout",
          "text": [
            "138845656440752\n",
            "138845656440752\n"
          ]
        }
      ],
      "source": [
        "a = 'python'\n",
        "b = 'python'\n",
        "\n",
        "print(id(a))\n",
        "print(id(b))"
      ]
    },
    {
      "cell_type": "code",
      "execution_count": 18,
      "id": "c786338a",
      "metadata": {
        "id": "c786338a",
        "outputId": "535e23ae-3838-4277-835f-b4e7f30e7015",
        "colab": {
          "base_uri": "https://localhost:8080/"
        }
      },
      "outputs": [
        {
          "output_type": "stream",
          "name": "stdout",
          "text": [
            "138845664480560\n",
            "138845664480560\n"
          ]
        }
      ],
      "source": [
        "print(id(a[0]))\n",
        "print(id(b[0]))"
      ]
    },
    {
      "cell_type": "code",
      "execution_count": 19,
      "id": "dbf6cad5",
      "metadata": {
        "id": "dbf6cad5",
        "outputId": "02a96e36-e535-47d3-9f0b-3ac52b6efa59",
        "colab": {
          "base_uri": "https://localhost:8080/"
        }
      },
      "outputs": [
        {
          "output_type": "stream",
          "name": "stdout",
          "text": [
            "138845656440752\n",
            "138845649333104\n"
          ]
        }
      ],
      "source": [
        "a = 'python'\n",
        "b = 'cython'\n",
        "\n",
        "print(id(a))\n",
        "print(id(b))"
      ]
    },
    {
      "cell_type": "code",
      "execution_count": null,
      "id": "ab1bcb28",
      "metadata": {
        "id": "ab1bcb28"
      },
      "outputs": [],
      "source": []
    }
  ],
  "metadata": {
    "kernelspec": {
      "display_name": "Python 3 (ipykernel)",
      "language": "python",
      "name": "python3"
    },
    "language_info": {
      "codemirror_mode": {
        "name": "ipython",
        "version": 3
      },
      "file_extension": ".py",
      "mimetype": "text/x-python",
      "name": "python",
      "nbconvert_exporter": "python",
      "pygments_lexer": "ipython3",
      "version": "3.9.12"
    },
    "colab": {
      "provenance": []
    }
  },
  "nbformat": 4,
  "nbformat_minor": 5
}